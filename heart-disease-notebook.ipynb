{
 "cells": [
  {
   "cell_type": "code",
   "execution_count": 1,
   "id": "6069438b",
   "metadata": {
    "_cell_guid": "b1076dfc-b9ad-4769-8c92-a6c4dae69d19",
    "_uuid": "8f2839f25d086af736a60e9eeb907d3b93b6e0e5",
    "execution": {
     "iopub.execute_input": "2023-03-28T21:26:43.531979Z",
     "iopub.status.busy": "2023-03-28T21:26:43.531326Z",
     "iopub.status.idle": "2023-03-28T21:26:43.548599Z",
     "shell.execute_reply": "2023-03-28T21:26:43.547721Z"
    },
    "papermill": {
     "duration": 0.037787,
     "end_time": "2023-03-28T21:26:43.552286",
     "exception": false,
     "start_time": "2023-03-28T21:26:43.514499",
     "status": "completed"
    },
    "tags": []
   },
   "outputs": [
    {
     "name": "stdout",
     "output_type": "stream",
     "text": [
      "/kaggle/input/yap15-heart-diseases-predictions/sample_submission.csv\n",
      "/kaggle/input/yap15-heart-diseases-predictions/train.csv\n",
      "/kaggle/input/yap15-heart-diseases-predictions/test.csv\n"
     ]
    }
   ],
   "source": [
    "# This Python 3 environment comes with many helpful analytics libraries installed\n",
    "# It is defined by the kaggle/python Docker image: https://github.com/kaggle/docker-python\n",
    "# For example, here's several helpful packages to load\n",
    "\n",
    "import numpy as np # linear algebra\n",
    "import pandas as pd # data processing, CSV file I/O (e.g. pd.read_csv)\n",
    "\n",
    "# Input data files are available in the read-only \"../input/\" directory\n",
    "# For example, running this (by clicking run or pressing Shift+Enter) will list all files under the input directory\n",
    "\n",
    "import os\n",
    "for dirname, _, filenames in os.walk('/kaggle/input'):\n",
    "    for filename in filenames:\n",
    "        print(os.path.join(dirname, filename))\n",
    "\n",
    "# You can write up to 20GB to the current directory (/kaggle/working/) that gets preserved as output when you create a version using \"Save & Run All\" \n",
    "# You can also write temporary files to /kaggle/temp/, but they won't be saved outside of the current session"
   ]
  },
  {
   "cell_type": "code",
   "execution_count": 2,
   "id": "d2ba1e33",
   "metadata": {
    "execution": {
     "iopub.execute_input": "2023-03-28T21:26:43.580399Z",
     "iopub.status.busy": "2023-03-28T21:26:43.579967Z",
     "iopub.status.idle": "2023-03-28T21:26:46.212102Z",
     "shell.execute_reply": "2023-03-28T21:26:46.211055Z"
    },
    "papermill": {
     "duration": 2.647663,
     "end_time": "2023-03-28T21:26:46.214893",
     "exception": false,
     "start_time": "2023-03-28T21:26:43.567230",
     "status": "completed"
    },
    "tags": []
   },
   "outputs": [],
   "source": [
    "import matplotlib.pyplot as plt\n",
    "import seaborn as sns\n",
    "%matplotlib inline\n",
    "import pandas_profiling\n",
    "\n",
    "import warnings\n",
    "warnings.filterwarnings('ignore')\n",
    "\n",
    "\n",
    "from sklearn.model_selection import train_test_split, GridSearchCV, RandomizedSearchCV\n",
    "from sklearn.model_selection import cross_val_score\n",
    "\n",
    "from sklearn.preprocessing import MinMaxScaler\n",
    "from sklearn.metrics import f1_score, roc_auc_score, classification_report\n",
    "\n",
    "from sklearn.ensemble import GradientBoostingClassifier\n",
    "\n",
    "# Сброс ограничений на количество выводимых рядов\n",
    "pd.set_option('display.max_rows', None)\n",
    " \n",
    "# Сброс ограничений на число столбцов\n",
    "pd.set_option('display.max_columns', None)\n",
    " \n",
    "# Сброс ограничений на количество символов в записи\n",
    "pd.set_option('display.max_colwidth', None)"
   ]
  },
  {
   "cell_type": "code",
   "execution_count": 3,
   "id": "9f0e295c",
   "metadata": {
    "execution": {
     "iopub.execute_input": "2023-03-28T21:26:46.236673Z",
     "iopub.status.busy": "2023-03-28T21:26:46.236300Z",
     "iopub.status.idle": "2023-03-28T21:26:46.467213Z",
     "shell.execute_reply": "2023-03-28T21:26:46.465743Z"
    },
    "papermill": {
     "duration": 0.244809,
     "end_time": "2023-03-28T21:26:46.469819",
     "exception": false,
     "start_time": "2023-03-28T21:26:46.225010",
     "status": "completed"
    },
    "tags": []
   },
   "outputs": [
    {
     "data": {
      "text/html": [
       "<div>\n",
       "<style scoped>\n",
       "    .dataframe tbody tr th:only-of-type {\n",
       "        vertical-align: middle;\n",
       "    }\n",
       "\n",
       "    .dataframe tbody tr th {\n",
       "        vertical-align: top;\n",
       "    }\n",
       "\n",
       "    .dataframe thead th {\n",
       "        text-align: right;\n",
       "    }\n",
       "</style>\n",
       "<table border=\"1\" class=\"dataframe\">\n",
       "  <thead>\n",
       "    <tr style=\"text-align: right;\">\n",
       "      <th></th>\n",
       "      <th>age</th>\n",
       "      <th>gender</th>\n",
       "      <th>height</th>\n",
       "      <th>weight</th>\n",
       "      <th>ap_hi</th>\n",
       "      <th>ap_lo</th>\n",
       "      <th>cholesterol</th>\n",
       "      <th>gluc</th>\n",
       "      <th>smoke</th>\n",
       "      <th>alco</th>\n",
       "      <th>active</th>\n",
       "      <th>cardio</th>\n",
       "    </tr>\n",
       "    <tr>\n",
       "      <th>id</th>\n",
       "      <th></th>\n",
       "      <th></th>\n",
       "      <th></th>\n",
       "      <th></th>\n",
       "      <th></th>\n",
       "      <th></th>\n",
       "      <th></th>\n",
       "      <th></th>\n",
       "      <th></th>\n",
       "      <th></th>\n",
       "      <th></th>\n",
       "      <th></th>\n",
       "    </tr>\n",
       "  </thead>\n",
       "  <tbody>\n",
       "    <tr>\n",
       "      <th>0</th>\n",
       "      <td>18393</td>\n",
       "      <td>2</td>\n",
       "      <td>168</td>\n",
       "      <td>62.0</td>\n",
       "      <td>110</td>\n",
       "      <td>80</td>\n",
       "      <td>1</td>\n",
       "      <td>1</td>\n",
       "      <td>0</td>\n",
       "      <td>0</td>\n",
       "      <td>1</td>\n",
       "      <td>0</td>\n",
       "    </tr>\n",
       "    <tr>\n",
       "      <th>1</th>\n",
       "      <td>20228</td>\n",
       "      <td>1</td>\n",
       "      <td>156</td>\n",
       "      <td>85.0</td>\n",
       "      <td>140</td>\n",
       "      <td>90</td>\n",
       "      <td>3</td>\n",
       "      <td>1</td>\n",
       "      <td>0</td>\n",
       "      <td>0</td>\n",
       "      <td>1</td>\n",
       "      <td>1</td>\n",
       "    </tr>\n",
       "    <tr>\n",
       "      <th>2</th>\n",
       "      <td>18857</td>\n",
       "      <td>1</td>\n",
       "      <td>165</td>\n",
       "      <td>64.0</td>\n",
       "      <td>130</td>\n",
       "      <td>70</td>\n",
       "      <td>3</td>\n",
       "      <td>1</td>\n",
       "      <td>0</td>\n",
       "      <td>0</td>\n",
       "      <td>0</td>\n",
       "      <td>1</td>\n",
       "    </tr>\n",
       "    <tr>\n",
       "      <th>3</th>\n",
       "      <td>17623</td>\n",
       "      <td>2</td>\n",
       "      <td>169</td>\n",
       "      <td>82.0</td>\n",
       "      <td>150</td>\n",
       "      <td>100</td>\n",
       "      <td>1</td>\n",
       "      <td>1</td>\n",
       "      <td>0</td>\n",
       "      <td>0</td>\n",
       "      <td>1</td>\n",
       "      <td>1</td>\n",
       "    </tr>\n",
       "    <tr>\n",
       "      <th>4</th>\n",
       "      <td>17474</td>\n",
       "      <td>1</td>\n",
       "      <td>156</td>\n",
       "      <td>56.0</td>\n",
       "      <td>100</td>\n",
       "      <td>60</td>\n",
       "      <td>1</td>\n",
       "      <td>1</td>\n",
       "      <td>0</td>\n",
       "      <td>0</td>\n",
       "      <td>0</td>\n",
       "      <td>0</td>\n",
       "    </tr>\n",
       "  </tbody>\n",
       "</table>\n",
       "</div>"
      ],
      "text/plain": [
       "      age  gender  height  weight  ap_hi  ap_lo  cholesterol  gluc  smoke  \\\n",
       "id                                                                          \n",
       "0   18393       2     168    62.0    110     80            1     1      0   \n",
       "1   20228       1     156    85.0    140     90            3     1      0   \n",
       "2   18857       1     165    64.0    130     70            3     1      0   \n",
       "3   17623       2     169    82.0    150    100            1     1      0   \n",
       "4   17474       1     156    56.0    100     60            1     1      0   \n",
       "\n",
       "    alco  active  cardio  \n",
       "id                        \n",
       "0      0       1       0  \n",
       "1      0       1       1  \n",
       "2      0       0       1  \n",
       "3      0       1       1  \n",
       "4      0       0       0  "
      ]
     },
     "metadata": {},
     "output_type": "display_data"
    },
    {
     "data": {
      "text/html": [
       "<div>\n",
       "<style scoped>\n",
       "    .dataframe tbody tr th:only-of-type {\n",
       "        vertical-align: middle;\n",
       "    }\n",
       "\n",
       "    .dataframe tbody tr th {\n",
       "        vertical-align: top;\n",
       "    }\n",
       "\n",
       "    .dataframe thead th {\n",
       "        text-align: right;\n",
       "    }\n",
       "</style>\n",
       "<table border=\"1\" class=\"dataframe\">\n",
       "  <thead>\n",
       "    <tr style=\"text-align: right;\">\n",
       "      <th></th>\n",
       "      <th>age</th>\n",
       "      <th>gender</th>\n",
       "      <th>height</th>\n",
       "      <th>weight</th>\n",
       "      <th>ap_hi</th>\n",
       "      <th>ap_lo</th>\n",
       "      <th>cholesterol</th>\n",
       "      <th>gluc</th>\n",
       "      <th>smoke</th>\n",
       "      <th>alco</th>\n",
       "      <th>active</th>\n",
       "    </tr>\n",
       "    <tr>\n",
       "      <th>id</th>\n",
       "      <th></th>\n",
       "      <th></th>\n",
       "      <th></th>\n",
       "      <th></th>\n",
       "      <th></th>\n",
       "      <th></th>\n",
       "      <th></th>\n",
       "      <th></th>\n",
       "      <th></th>\n",
       "      <th></th>\n",
       "      <th></th>\n",
       "    </tr>\n",
       "  </thead>\n",
       "  <tbody>\n",
       "    <tr>\n",
       "      <th>5</th>\n",
       "      <td>18888</td>\n",
       "      <td>1</td>\n",
       "      <td>154</td>\n",
       "      <td>85.0</td>\n",
       "      <td>130</td>\n",
       "      <td>80</td>\n",
       "      <td>1</td>\n",
       "      <td>1</td>\n",
       "      <td>0</td>\n",
       "      <td>0</td>\n",
       "      <td>1</td>\n",
       "    </tr>\n",
       "    <tr>\n",
       "      <th>6</th>\n",
       "      <td>19042</td>\n",
       "      <td>2</td>\n",
       "      <td>170</td>\n",
       "      <td>69.0</td>\n",
       "      <td>130</td>\n",
       "      <td>90</td>\n",
       "      <td>1</td>\n",
       "      <td>1</td>\n",
       "      <td>0</td>\n",
       "      <td>0</td>\n",
       "      <td>1</td>\n",
       "    </tr>\n",
       "    <tr>\n",
       "      <th>7</th>\n",
       "      <td>20432</td>\n",
       "      <td>1</td>\n",
       "      <td>160</td>\n",
       "      <td>70.0</td>\n",
       "      <td>120</td>\n",
       "      <td>75</td>\n",
       "      <td>1</td>\n",
       "      <td>1</td>\n",
       "      <td>0</td>\n",
       "      <td>0</td>\n",
       "      <td>0</td>\n",
       "    </tr>\n",
       "    <tr>\n",
       "      <th>10</th>\n",
       "      <td>18133</td>\n",
       "      <td>2</td>\n",
       "      <td>185</td>\n",
       "      <td>94.0</td>\n",
       "      <td>130</td>\n",
       "      <td>90</td>\n",
       "      <td>1</td>\n",
       "      <td>1</td>\n",
       "      <td>0</td>\n",
       "      <td>0</td>\n",
       "      <td>1</td>\n",
       "    </tr>\n",
       "    <tr>\n",
       "      <th>11</th>\n",
       "      <td>16093</td>\n",
       "      <td>2</td>\n",
       "      <td>170</td>\n",
       "      <td>76.0</td>\n",
       "      <td>120</td>\n",
       "      <td>80</td>\n",
       "      <td>1</td>\n",
       "      <td>1</td>\n",
       "      <td>0</td>\n",
       "      <td>0</td>\n",
       "      <td>1</td>\n",
       "    </tr>\n",
       "  </tbody>\n",
       "</table>\n",
       "</div>"
      ],
      "text/plain": [
       "      age  gender  height  weight  ap_hi  ap_lo  cholesterol  gluc  smoke  \\\n",
       "id                                                                          \n",
       "5   18888       1     154    85.0    130     80            1     1      0   \n",
       "6   19042       2     170    69.0    130     90            1     1      0   \n",
       "7   20432       1     160    70.0    120     75            1     1      0   \n",
       "10  18133       2     185    94.0    130     90            1     1      0   \n",
       "11  16093       2     170    76.0    120     80            1     1      0   \n",
       "\n",
       "    alco  active  \n",
       "id                \n",
       "5      0       1  \n",
       "6      0       1  \n",
       "7      0       0  \n",
       "10     0       1  \n",
       "11     0       1  "
      ]
     },
     "metadata": {},
     "output_type": "display_data"
    },
    {
     "data": {
      "text/plain": [
       "Index(['age', 'gender', 'height', 'weight', 'ap_hi', 'ap_lo', 'cholesterol',\n",
       "       'gluc', 'smoke', 'alco', 'active', 'cardio'],\n",
       "      dtype='object')"
      ]
     },
     "metadata": {},
     "output_type": "display_data"
    },
    {
     "name": "stdout",
     "output_type": "stream",
     "text": [
      "<class 'pandas.core.frame.DataFrame'>\n",
      "Int64Index: 70000 entries, 0 to 99999\n",
      "Data columns (total 12 columns):\n",
      " #   Column       Non-Null Count  Dtype  \n",
      "---  ------       --------------  -----  \n",
      " 0   age          70000 non-null  int64  \n",
      " 1   gender       70000 non-null  int64  \n",
      " 2   height       70000 non-null  int64  \n",
      " 3   weight       70000 non-null  float64\n",
      " 4   ap_hi        70000 non-null  int64  \n",
      " 5   ap_lo        70000 non-null  int64  \n",
      " 6   cholesterol  70000 non-null  int64  \n",
      " 7   gluc         70000 non-null  int64  \n",
      " 8   smoke        70000 non-null  int64  \n",
      " 9   alco         70000 non-null  int64  \n",
      " 10  active       70000 non-null  int64  \n",
      " 11  cardio       70000 non-null  int64  \n",
      "dtypes: float64(1), int64(11)\n",
      "memory usage: 6.9 MB\n"
     ]
    },
    {
     "data": {
      "text/plain": [
       "None"
      ]
     },
     "metadata": {},
     "output_type": "display_data"
    },
    {
     "name": "stdout",
     "output_type": "stream",
     "text": [
      "Размер  тренировочной таблицы: (70000, 12)\n",
      "Размер  тестовой таблицы: (30000, 11)\n"
     ]
    }
   ],
   "source": [
    "try:\n",
    "    df_train = pd.read_csv('/kaggle/input/yap15-heart-diseases-predictions/train.csv',index_col=0)\n",
    "    df_test = pd.read_csv('/kaggle/input/yap15-heart-diseases-predictions/test.csv',index_col=0)\n",
    "except:\n",
    "    df_train = pd.read_csv('./train.csv',index_col=0)\n",
    "    df_test = pd.read_csv('./test.csv',index_col=0)\n",
    "    \n",
    "display(df_train.head())\n",
    "display(df_test.head())\n",
    "display(df_train.columns)\n",
    "display(df_train.info())\n",
    "print('Размер  тренировочной таблицы:', df_train.shape)\n",
    "print('Размер  тестовой таблицы:', df_test.shape)"
   ]
  },
  {
   "cell_type": "code",
   "execution_count": 4,
   "id": "84d6c584",
   "metadata": {
    "execution": {
     "iopub.execute_input": "2023-03-28T21:26:46.494163Z",
     "iopub.status.busy": "2023-03-28T21:26:46.493737Z",
     "iopub.status.idle": "2023-03-28T21:26:46.503974Z",
     "shell.execute_reply": "2023-03-28T21:26:46.503085Z"
    },
    "papermill": {
     "duration": 0.024225,
     "end_time": "2023-03-28T21:26:46.505903",
     "exception": false,
     "start_time": "2023-03-28T21:26:46.481678",
     "status": "completed"
    },
    "tags": []
   },
   "outputs": [
    {
     "data": {
      "text/plain": [
       "age            0\n",
       "gender         0\n",
       "height         0\n",
       "weight         0\n",
       "ap_hi          0\n",
       "ap_lo          0\n",
       "cholesterol    0\n",
       "gluc           0\n",
       "smoke          0\n",
       "alco           0\n",
       "active         0\n",
       "cardio         0\n",
       "dtype: int64"
      ]
     },
     "execution_count": 4,
     "metadata": {},
     "output_type": "execute_result"
    }
   ],
   "source": [
    "df_train.isnull().sum()"
   ]
  },
  {
   "cell_type": "code",
   "execution_count": 5,
   "id": "cfb66a2e",
   "metadata": {
    "execution": {
     "iopub.execute_input": "2023-03-28T21:26:46.529708Z",
     "iopub.status.busy": "2023-03-28T21:26:46.529350Z",
     "iopub.status.idle": "2023-03-28T21:26:46.538592Z",
     "shell.execute_reply": "2023-03-28T21:26:46.537627Z"
    },
    "papermill": {
     "duration": 0.023468,
     "end_time": "2023-03-28T21:26:46.540626",
     "exception": false,
     "start_time": "2023-03-28T21:26:46.517158",
     "status": "completed"
    },
    "tags": []
   },
   "outputs": [
    {
     "data": {
      "text/plain": [
       "age            0\n",
       "gender         0\n",
       "height         0\n",
       "weight         0\n",
       "ap_hi          0\n",
       "ap_lo          0\n",
       "cholesterol    0\n",
       "gluc           0\n",
       "smoke          0\n",
       "alco           0\n",
       "active         0\n",
       "dtype: int64"
      ]
     },
     "execution_count": 5,
     "metadata": {},
     "output_type": "execute_result"
    }
   ],
   "source": [
    "df_test.isnull().sum()"
   ]
  },
  {
   "cell_type": "code",
   "execution_count": 6,
   "id": "796d4f4c",
   "metadata": {
    "execution": {
     "iopub.execute_input": "2023-03-28T21:26:46.564549Z",
     "iopub.status.busy": "2023-03-28T21:26:46.564165Z",
     "iopub.status.idle": "2023-03-28T21:26:46.568637Z",
     "shell.execute_reply": "2023-03-28T21:26:46.567575Z"
    },
    "papermill": {
     "duration": 0.018626,
     "end_time": "2023-03-28T21:26:46.570627",
     "exception": false,
     "start_time": "2023-03-28T21:26:46.552001",
     "status": "completed"
    },
    "tags": []
   },
   "outputs": [],
   "source": [
    "# profile=pandas_profiling.ProfileReport(df_train)\n",
    "# profile"
   ]
  },
  {
   "cell_type": "code",
   "execution_count": 7,
   "id": "4a7cde0c",
   "metadata": {
    "execution": {
     "iopub.execute_input": "2023-03-28T21:26:46.594265Z",
     "iopub.status.busy": "2023-03-28T21:26:46.593898Z",
     "iopub.status.idle": "2023-03-28T21:26:46.647068Z",
     "shell.execute_reply": "2023-03-28T21:26:46.645968Z"
    },
    "papermill": {
     "duration": 0.067495,
     "end_time": "2023-03-28T21:26:46.649291",
     "exception": false,
     "start_time": "2023-03-28T21:26:46.581796",
     "status": "completed"
    },
    "tags": []
   },
   "outputs": [
    {
     "data": {
      "text/html": [
       "<div>\n",
       "<style scoped>\n",
       "    .dataframe tbody tr th:only-of-type {\n",
       "        vertical-align: middle;\n",
       "    }\n",
       "\n",
       "    .dataframe tbody tr th {\n",
       "        vertical-align: top;\n",
       "    }\n",
       "\n",
       "    .dataframe thead th {\n",
       "        text-align: right;\n",
       "    }\n",
       "</style>\n",
       "<table border=\"1\" class=\"dataframe\">\n",
       "  <thead>\n",
       "    <tr style=\"text-align: right;\">\n",
       "      <th></th>\n",
       "      <th>age</th>\n",
       "      <th>gender</th>\n",
       "      <th>height</th>\n",
       "      <th>weight</th>\n",
       "      <th>ap_hi</th>\n",
       "      <th>ap_lo</th>\n",
       "      <th>cholesterol</th>\n",
       "      <th>gluc</th>\n",
       "      <th>smoke</th>\n",
       "      <th>alco</th>\n",
       "      <th>active</th>\n",
       "      <th>cardio</th>\n",
       "    </tr>\n",
       "  </thead>\n",
       "  <tbody>\n",
       "    <tr>\n",
       "      <th>age</th>\n",
       "      <td>1.000000</td>\n",
       "      <td>-0.022811</td>\n",
       "      <td>-0.081515</td>\n",
       "      <td>0.053684</td>\n",
       "      <td>0.020764</td>\n",
       "      <td>0.017647</td>\n",
       "      <td>0.154424</td>\n",
       "      <td>0.098703</td>\n",
       "      <td>-0.047633</td>\n",
       "      <td>-0.029723</td>\n",
       "      <td>-0.009927</td>\n",
       "      <td>0.238159</td>\n",
       "    </tr>\n",
       "    <tr>\n",
       "      <th>gender</th>\n",
       "      <td>-0.022811</td>\n",
       "      <td>1.000000</td>\n",
       "      <td>0.499033</td>\n",
       "      <td>0.155406</td>\n",
       "      <td>0.006005</td>\n",
       "      <td>0.015254</td>\n",
       "      <td>-0.035821</td>\n",
       "      <td>-0.020491</td>\n",
       "      <td>0.338135</td>\n",
       "      <td>0.170966</td>\n",
       "      <td>0.005866</td>\n",
       "      <td>0.008109</td>\n",
       "    </tr>\n",
       "    <tr>\n",
       "      <th>height</th>\n",
       "      <td>-0.081515</td>\n",
       "      <td>0.499033</td>\n",
       "      <td>1.000000</td>\n",
       "      <td>0.290968</td>\n",
       "      <td>0.005488</td>\n",
       "      <td>0.006150</td>\n",
       "      <td>-0.050226</td>\n",
       "      <td>-0.018595</td>\n",
       "      <td>0.187989</td>\n",
       "      <td>0.094419</td>\n",
       "      <td>-0.006570</td>\n",
       "      <td>-0.010821</td>\n",
       "    </tr>\n",
       "    <tr>\n",
       "      <th>weight</th>\n",
       "      <td>0.053684</td>\n",
       "      <td>0.155406</td>\n",
       "      <td>0.290968</td>\n",
       "      <td>1.000000</td>\n",
       "      <td>0.030702</td>\n",
       "      <td>0.043710</td>\n",
       "      <td>0.141768</td>\n",
       "      <td>0.106857</td>\n",
       "      <td>0.067780</td>\n",
       "      <td>0.067113</td>\n",
       "      <td>-0.016867</td>\n",
       "      <td>0.181660</td>\n",
       "    </tr>\n",
       "    <tr>\n",
       "      <th>ap_hi</th>\n",
       "      <td>0.020764</td>\n",
       "      <td>0.006005</td>\n",
       "      <td>0.005488</td>\n",
       "      <td>0.030702</td>\n",
       "      <td>1.000000</td>\n",
       "      <td>0.016086</td>\n",
       "      <td>0.023778</td>\n",
       "      <td>0.011841</td>\n",
       "      <td>-0.000922</td>\n",
       "      <td>0.001408</td>\n",
       "      <td>-0.000033</td>\n",
       "      <td>0.054475</td>\n",
       "    </tr>\n",
       "    <tr>\n",
       "      <th>ap_lo</th>\n",
       "      <td>0.017647</td>\n",
       "      <td>0.015254</td>\n",
       "      <td>0.006150</td>\n",
       "      <td>0.043710</td>\n",
       "      <td>0.016086</td>\n",
       "      <td>1.000000</td>\n",
       "      <td>0.024019</td>\n",
       "      <td>0.010806</td>\n",
       "      <td>0.005186</td>\n",
       "      <td>0.010601</td>\n",
       "      <td>0.004780</td>\n",
       "      <td>0.065719</td>\n",
       "    </tr>\n",
       "    <tr>\n",
       "      <th>cholesterol</th>\n",
       "      <td>0.154424</td>\n",
       "      <td>-0.035821</td>\n",
       "      <td>-0.050226</td>\n",
       "      <td>0.141768</td>\n",
       "      <td>0.023778</td>\n",
       "      <td>0.024019</td>\n",
       "      <td>1.000000</td>\n",
       "      <td>0.451578</td>\n",
       "      <td>0.010354</td>\n",
       "      <td>0.035760</td>\n",
       "      <td>0.009911</td>\n",
       "      <td>0.221147</td>\n",
       "    </tr>\n",
       "    <tr>\n",
       "      <th>gluc</th>\n",
       "      <td>0.098703</td>\n",
       "      <td>-0.020491</td>\n",
       "      <td>-0.018595</td>\n",
       "      <td>0.106857</td>\n",
       "      <td>0.011841</td>\n",
       "      <td>0.010806</td>\n",
       "      <td>0.451578</td>\n",
       "      <td>1.000000</td>\n",
       "      <td>-0.004756</td>\n",
       "      <td>0.011246</td>\n",
       "      <td>-0.006770</td>\n",
       "      <td>0.089307</td>\n",
       "    </tr>\n",
       "    <tr>\n",
       "      <th>smoke</th>\n",
       "      <td>-0.047633</td>\n",
       "      <td>0.338135</td>\n",
       "      <td>0.187989</td>\n",
       "      <td>0.067780</td>\n",
       "      <td>-0.000922</td>\n",
       "      <td>0.005186</td>\n",
       "      <td>0.010354</td>\n",
       "      <td>-0.004756</td>\n",
       "      <td>1.000000</td>\n",
       "      <td>0.340094</td>\n",
       "      <td>0.025858</td>\n",
       "      <td>-0.015486</td>\n",
       "    </tr>\n",
       "    <tr>\n",
       "      <th>alco</th>\n",
       "      <td>-0.029723</td>\n",
       "      <td>0.170966</td>\n",
       "      <td>0.094419</td>\n",
       "      <td>0.067113</td>\n",
       "      <td>0.001408</td>\n",
       "      <td>0.010601</td>\n",
       "      <td>0.035760</td>\n",
       "      <td>0.011246</td>\n",
       "      <td>0.340094</td>\n",
       "      <td>1.000000</td>\n",
       "      <td>0.025476</td>\n",
       "      <td>-0.007330</td>\n",
       "    </tr>\n",
       "    <tr>\n",
       "      <th>active</th>\n",
       "      <td>-0.009927</td>\n",
       "      <td>0.005866</td>\n",
       "      <td>-0.006570</td>\n",
       "      <td>-0.016867</td>\n",
       "      <td>-0.000033</td>\n",
       "      <td>0.004780</td>\n",
       "      <td>0.009911</td>\n",
       "      <td>-0.006770</td>\n",
       "      <td>0.025858</td>\n",
       "      <td>0.025476</td>\n",
       "      <td>1.000000</td>\n",
       "      <td>-0.035653</td>\n",
       "    </tr>\n",
       "    <tr>\n",
       "      <th>cardio</th>\n",
       "      <td>0.238159</td>\n",
       "      <td>0.008109</td>\n",
       "      <td>-0.010821</td>\n",
       "      <td>0.181660</td>\n",
       "      <td>0.054475</td>\n",
       "      <td>0.065719</td>\n",
       "      <td>0.221147</td>\n",
       "      <td>0.089307</td>\n",
       "      <td>-0.015486</td>\n",
       "      <td>-0.007330</td>\n",
       "      <td>-0.035653</td>\n",
       "      <td>1.000000</td>\n",
       "    </tr>\n",
       "  </tbody>\n",
       "</table>\n",
       "</div>"
      ],
      "text/plain": [
       "                  age    gender    height    weight     ap_hi     ap_lo  \\\n",
       "age          1.000000 -0.022811 -0.081515  0.053684  0.020764  0.017647   \n",
       "gender      -0.022811  1.000000  0.499033  0.155406  0.006005  0.015254   \n",
       "height      -0.081515  0.499033  1.000000  0.290968  0.005488  0.006150   \n",
       "weight       0.053684  0.155406  0.290968  1.000000  0.030702  0.043710   \n",
       "ap_hi        0.020764  0.006005  0.005488  0.030702  1.000000  0.016086   \n",
       "ap_lo        0.017647  0.015254  0.006150  0.043710  0.016086  1.000000   \n",
       "cholesterol  0.154424 -0.035821 -0.050226  0.141768  0.023778  0.024019   \n",
       "gluc         0.098703 -0.020491 -0.018595  0.106857  0.011841  0.010806   \n",
       "smoke       -0.047633  0.338135  0.187989  0.067780 -0.000922  0.005186   \n",
       "alco        -0.029723  0.170966  0.094419  0.067113  0.001408  0.010601   \n",
       "active      -0.009927  0.005866 -0.006570 -0.016867 -0.000033  0.004780   \n",
       "cardio       0.238159  0.008109 -0.010821  0.181660  0.054475  0.065719   \n",
       "\n",
       "             cholesterol      gluc     smoke      alco    active    cardio  \n",
       "age             0.154424  0.098703 -0.047633 -0.029723 -0.009927  0.238159  \n",
       "gender         -0.035821 -0.020491  0.338135  0.170966  0.005866  0.008109  \n",
       "height         -0.050226 -0.018595  0.187989  0.094419 -0.006570 -0.010821  \n",
       "weight          0.141768  0.106857  0.067780  0.067113 -0.016867  0.181660  \n",
       "ap_hi           0.023778  0.011841 -0.000922  0.001408 -0.000033  0.054475  \n",
       "ap_lo           0.024019  0.010806  0.005186  0.010601  0.004780  0.065719  \n",
       "cholesterol     1.000000  0.451578  0.010354  0.035760  0.009911  0.221147  \n",
       "gluc            0.451578  1.000000 -0.004756  0.011246 -0.006770  0.089307  \n",
       "smoke           0.010354 -0.004756  1.000000  0.340094  0.025858 -0.015486  \n",
       "alco            0.035760  0.011246  0.340094  1.000000  0.025476 -0.007330  \n",
       "active          0.009911 -0.006770  0.025858  0.025476  1.000000 -0.035653  \n",
       "cardio          0.221147  0.089307 -0.015486 -0.007330 -0.035653  1.000000  "
      ]
     },
     "execution_count": 7,
     "metadata": {},
     "output_type": "execute_result"
    }
   ],
   "source": [
    "df_train.corr()"
   ]
  },
  {
   "cell_type": "code",
   "execution_count": 8,
   "id": "0bf8ad81",
   "metadata": {
    "execution": {
     "iopub.execute_input": "2023-03-28T21:26:46.674336Z",
     "iopub.status.busy": "2023-03-28T21:26:46.673972Z",
     "iopub.status.idle": "2023-03-28T21:26:46.705189Z",
     "shell.execute_reply": "2023-03-28T21:26:46.704075Z"
    },
    "papermill": {
     "duration": 0.046508,
     "end_time": "2023-03-28T21:26:46.707505",
     "exception": false,
     "start_time": "2023-03-28T21:26:46.660997",
     "status": "completed"
    },
    "tags": []
   },
   "outputs": [
    {
     "data": {
      "text/plain": [
       "(24, 6)"
      ]
     },
     "execution_count": 8,
     "metadata": {},
     "output_type": "execute_result"
    }
   ],
   "source": [
    "df_train.duplicated().sum(), df_test.duplicated().sum() "
   ]
  },
  {
   "cell_type": "code",
   "execution_count": 9,
   "id": "d2031687",
   "metadata": {
    "execution": {
     "iopub.execute_input": "2023-03-28T21:26:46.732604Z",
     "iopub.status.busy": "2023-03-28T21:26:46.732227Z",
     "iopub.status.idle": "2023-03-28T21:26:46.755007Z",
     "shell.execute_reply": "2023-03-28T21:26:46.753978Z"
    },
    "papermill": {
     "duration": 0.038094,
     "end_time": "2023-03-28T21:26:46.757399",
     "exception": false,
     "start_time": "2023-03-28T21:26:46.719305",
     "status": "completed"
    },
    "tags": []
   },
   "outputs": [],
   "source": [
    "# dropping duplicates\n",
    "\n",
    "df_train.drop_duplicates(keep='first', inplace=True)\n",
    "# df_test.drop_duplicates(keep='first', inplace=True)    "
   ]
  },
  {
   "cell_type": "code",
   "execution_count": 10,
   "id": "19eba1db",
   "metadata": {
    "execution": {
     "iopub.execute_input": "2023-03-28T21:26:46.782129Z",
     "iopub.status.busy": "2023-03-28T21:26:46.781734Z",
     "iopub.status.idle": "2023-03-28T21:26:46.811209Z",
     "shell.execute_reply": "2023-03-28T21:26:46.809909Z"
    },
    "papermill": {
     "duration": 0.044503,
     "end_time": "2023-03-28T21:26:46.813465",
     "exception": false,
     "start_time": "2023-03-28T21:26:46.768962",
     "status": "completed"
    },
    "tags": []
   },
   "outputs": [
    {
     "name": "stdout",
     "output_type": "stream",
     "text": [
      "0\n",
      "6\n"
     ]
    }
   ],
   "source": [
    "for df in (df_train,df_test): print(df.duplicated().sum()) "
   ]
  },
  {
   "cell_type": "code",
   "execution_count": 11,
   "id": "0ef4dbb6",
   "metadata": {
    "execution": {
     "iopub.execute_input": "2023-03-28T21:26:46.838411Z",
     "iopub.status.busy": "2023-03-28T21:26:46.838058Z",
     "iopub.status.idle": "2023-03-28T21:26:46.846461Z",
     "shell.execute_reply": "2023-03-28T21:26:46.845591Z"
    },
    "papermill": {
     "duration": 0.02335,
     "end_time": "2023-03-28T21:26:46.848494",
     "exception": false,
     "start_time": "2023-03-28T21:26:46.825144",
     "status": "completed"
    },
    "tags": []
   },
   "outputs": [],
   "source": [
    "# labling gender to binary values\n",
    "\n",
    "df_train['gender'] = df_train['gender'].map({1: 0, 2: 1})\n",
    "df_test['gender'] = df_test['gender'].map({1: 0, 2: 1})"
   ]
  },
  {
   "cell_type": "code",
   "execution_count": 12,
   "id": "6bd55f3c",
   "metadata": {
    "execution": {
     "iopub.execute_input": "2023-03-28T21:26:46.873218Z",
     "iopub.status.busy": "2023-03-28T21:26:46.872816Z",
     "iopub.status.idle": "2023-03-28T21:26:46.883354Z",
     "shell.execute_reply": "2023-03-28T21:26:46.882208Z"
    },
    "papermill": {
     "duration": 0.025424,
     "end_time": "2023-03-28T21:26:46.885547",
     "exception": false,
     "start_time": "2023-03-28T21:26:46.860123",
     "status": "completed"
    },
    "tags": []
   },
   "outputs": [],
   "source": [
    "# converting age from days to years\n",
    "\n",
    "df_train['age'] = df_train['age'] / 365.25\n",
    "df_train['age'] = df_train['age'].astype(int)\n",
    "\n",
    "df_test['age'] = df_test['age'] / 365.25\n",
    "df_test['age'] = df_test['age'].astype(int)"
   ]
  },
  {
   "cell_type": "code",
   "execution_count": 13,
   "id": "623f9818",
   "metadata": {
    "execution": {
     "iopub.execute_input": "2023-03-28T21:26:46.910310Z",
     "iopub.status.busy": "2023-03-28T21:26:46.909912Z",
     "iopub.status.idle": "2023-03-28T21:26:46.986697Z",
     "shell.execute_reply": "2023-03-28T21:26:46.985550Z"
    },
    "papermill": {
     "duration": 0.09221,
     "end_time": "2023-03-28T21:26:46.989302",
     "exception": false,
     "start_time": "2023-03-28T21:26:46.897092",
     "status": "completed"
    },
    "tags": []
   },
   "outputs": [
    {
     "data": {
      "text/html": [
       "<div>\n",
       "<style scoped>\n",
       "    .dataframe tbody tr th:only-of-type {\n",
       "        vertical-align: middle;\n",
       "    }\n",
       "\n",
       "    .dataframe tbody tr th {\n",
       "        vertical-align: top;\n",
       "    }\n",
       "\n",
       "    .dataframe thead th {\n",
       "        text-align: right;\n",
       "    }\n",
       "</style>\n",
       "<table border=\"1\" class=\"dataframe\">\n",
       "  <thead>\n",
       "    <tr style=\"text-align: right;\">\n",
       "      <th></th>\n",
       "      <th>count</th>\n",
       "      <th>mean</th>\n",
       "      <th>std</th>\n",
       "      <th>min</th>\n",
       "      <th>25%</th>\n",
       "      <th>50%</th>\n",
       "      <th>75%</th>\n",
       "      <th>max</th>\n",
       "    </tr>\n",
       "  </thead>\n",
       "  <tbody>\n",
       "    <tr>\n",
       "      <th>age</th>\n",
       "      <td>69976.0</td>\n",
       "      <td>52.803475</td>\n",
       "      <td>6.762773</td>\n",
       "      <td>29.0</td>\n",
       "      <td>48.0</td>\n",
       "      <td>53.0</td>\n",
       "      <td>58.0</td>\n",
       "      <td>64.0</td>\n",
       "    </tr>\n",
       "    <tr>\n",
       "      <th>gender</th>\n",
       "      <td>69976.0</td>\n",
       "      <td>0.349648</td>\n",
       "      <td>0.476862</td>\n",
       "      <td>0.0</td>\n",
       "      <td>0.0</td>\n",
       "      <td>0.0</td>\n",
       "      <td>1.0</td>\n",
       "      <td>1.0</td>\n",
       "    </tr>\n",
       "    <tr>\n",
       "      <th>height</th>\n",
       "      <td>69976.0</td>\n",
       "      <td>164.359152</td>\n",
       "      <td>8.211218</td>\n",
       "      <td>55.0</td>\n",
       "      <td>159.0</td>\n",
       "      <td>165.0</td>\n",
       "      <td>170.0</td>\n",
       "      <td>250.0</td>\n",
       "    </tr>\n",
       "    <tr>\n",
       "      <th>weight</th>\n",
       "      <td>69976.0</td>\n",
       "      <td>74.208519</td>\n",
       "      <td>14.397211</td>\n",
       "      <td>10.0</td>\n",
       "      <td>65.0</td>\n",
       "      <td>72.0</td>\n",
       "      <td>82.0</td>\n",
       "      <td>200.0</td>\n",
       "    </tr>\n",
       "    <tr>\n",
       "      <th>ap_hi</th>\n",
       "      <td>69976.0</td>\n",
       "      <td>128.820453</td>\n",
       "      <td>154.037729</td>\n",
       "      <td>-150.0</td>\n",
       "      <td>120.0</td>\n",
       "      <td>120.0</td>\n",
       "      <td>140.0</td>\n",
       "      <td>16020.0</td>\n",
       "    </tr>\n",
       "    <tr>\n",
       "      <th>ap_lo</th>\n",
       "      <td>69976.0</td>\n",
       "      <td>96.636261</td>\n",
       "      <td>188.504581</td>\n",
       "      <td>-70.0</td>\n",
       "      <td>80.0</td>\n",
       "      <td>80.0</td>\n",
       "      <td>90.0</td>\n",
       "      <td>11000.0</td>\n",
       "    </tr>\n",
       "    <tr>\n",
       "      <th>cholesterol</th>\n",
       "      <td>69976.0</td>\n",
       "      <td>1.366997</td>\n",
       "      <td>0.680333</td>\n",
       "      <td>1.0</td>\n",
       "      <td>1.0</td>\n",
       "      <td>1.0</td>\n",
       "      <td>2.0</td>\n",
       "      <td>3.0</td>\n",
       "    </tr>\n",
       "    <tr>\n",
       "      <th>gluc</th>\n",
       "      <td>69976.0</td>\n",
       "      <td>1.226535</td>\n",
       "      <td>0.572353</td>\n",
       "      <td>1.0</td>\n",
       "      <td>1.0</td>\n",
       "      <td>1.0</td>\n",
       "      <td>1.0</td>\n",
       "      <td>3.0</td>\n",
       "    </tr>\n",
       "    <tr>\n",
       "      <th>smoke</th>\n",
       "      <td>69976.0</td>\n",
       "      <td>0.088159</td>\n",
       "      <td>0.283528</td>\n",
       "      <td>0.0</td>\n",
       "      <td>0.0</td>\n",
       "      <td>0.0</td>\n",
       "      <td>0.0</td>\n",
       "      <td>1.0</td>\n",
       "    </tr>\n",
       "    <tr>\n",
       "      <th>alco</th>\n",
       "      <td>69976.0</td>\n",
       "      <td>0.053790</td>\n",
       "      <td>0.225604</td>\n",
       "      <td>0.0</td>\n",
       "      <td>0.0</td>\n",
       "      <td>0.0</td>\n",
       "      <td>0.0</td>\n",
       "      <td>1.0</td>\n",
       "    </tr>\n",
       "    <tr>\n",
       "      <th>active</th>\n",
       "      <td>69976.0</td>\n",
       "      <td>0.803718</td>\n",
       "      <td>0.397187</td>\n",
       "      <td>0.0</td>\n",
       "      <td>1.0</td>\n",
       "      <td>1.0</td>\n",
       "      <td>1.0</td>\n",
       "      <td>1.0</td>\n",
       "    </tr>\n",
       "    <tr>\n",
       "      <th>cardio</th>\n",
       "      <td>69976.0</td>\n",
       "      <td>0.499771</td>\n",
       "      <td>0.500004</td>\n",
       "      <td>0.0</td>\n",
       "      <td>0.0</td>\n",
       "      <td>0.0</td>\n",
       "      <td>1.0</td>\n",
       "      <td>1.0</td>\n",
       "    </tr>\n",
       "  </tbody>\n",
       "</table>\n",
       "</div>"
      ],
      "text/plain": [
       "               count        mean         std    min    25%    50%    75%  \\\n",
       "age          69976.0   52.803475    6.762773   29.0   48.0   53.0   58.0   \n",
       "gender       69976.0    0.349648    0.476862    0.0    0.0    0.0    1.0   \n",
       "height       69976.0  164.359152    8.211218   55.0  159.0  165.0  170.0   \n",
       "weight       69976.0   74.208519   14.397211   10.0   65.0   72.0   82.0   \n",
       "ap_hi        69976.0  128.820453  154.037729 -150.0  120.0  120.0  140.0   \n",
       "ap_lo        69976.0   96.636261  188.504581  -70.0   80.0   80.0   90.0   \n",
       "cholesterol  69976.0    1.366997    0.680333    1.0    1.0    1.0    2.0   \n",
       "gluc         69976.0    1.226535    0.572353    1.0    1.0    1.0    1.0   \n",
       "smoke        69976.0    0.088159    0.283528    0.0    0.0    0.0    0.0   \n",
       "alco         69976.0    0.053790    0.225604    0.0    0.0    0.0    0.0   \n",
       "active       69976.0    0.803718    0.397187    0.0    1.0    1.0    1.0   \n",
       "cardio       69976.0    0.499771    0.500004    0.0    0.0    0.0    1.0   \n",
       "\n",
       "                 max  \n",
       "age             64.0  \n",
       "gender           1.0  \n",
       "height         250.0  \n",
       "weight         200.0  \n",
       "ap_hi        16020.0  \n",
       "ap_lo        11000.0  \n",
       "cholesterol      3.0  \n",
       "gluc             3.0  \n",
       "smoke            1.0  \n",
       "alco             1.0  \n",
       "active           1.0  \n",
       "cardio           1.0  "
      ]
     },
     "execution_count": 13,
     "metadata": {},
     "output_type": "execute_result"
    }
   ],
   "source": [
    "df_train.describe().T"
   ]
  },
  {
   "cell_type": "markdown",
   "id": "65e104b1",
   "metadata": {
    "papermill": {
     "duration": 0.011649,
     "end_time": "2023-03-28T21:26:47.013311",
     "exception": false,
     "start_time": "2023-03-28T21:26:47.001662",
     "status": "completed"
    },
    "tags": []
   },
   "source": [
    "Column check shows:\n",
    " - age is ok\n",
    " - gender is binary now\n",
    " - height has outliners\n",
    " - weight has outliners \n",
    " - arterial pressure populated with negative and high values\n",
    " - others sims ok"
   ]
  },
  {
   "cell_type": "code",
   "execution_count": 14,
   "id": "44e9efc2",
   "metadata": {
    "execution": {
     "iopub.execute_input": "2023-03-28T21:26:47.038679Z",
     "iopub.status.busy": "2023-03-28T21:26:47.038320Z",
     "iopub.status.idle": "2023-03-28T21:26:47.053688Z",
     "shell.execute_reply": "2023-03-28T21:26:47.052618Z"
    },
    "papermill": {
     "duration": 0.031043,
     "end_time": "2023-03-28T21:26:47.056102",
     "exception": false,
     "start_time": "2023-03-28T21:26:47.025059",
     "status": "completed"
    },
    "tags": []
   },
   "outputs": [
    {
     "data": {
      "text/html": [
       "<div>\n",
       "<style scoped>\n",
       "    .dataframe tbody tr th:only-of-type {\n",
       "        vertical-align: middle;\n",
       "    }\n",
       "\n",
       "    .dataframe tbody tr th {\n",
       "        vertical-align: top;\n",
       "    }\n",
       "\n",
       "    .dataframe thead th {\n",
       "        text-align: right;\n",
       "    }\n",
       "</style>\n",
       "<table border=\"1\" class=\"dataframe\">\n",
       "  <thead>\n",
       "    <tr style=\"text-align: right;\">\n",
       "      <th></th>\n",
       "      <th>age</th>\n",
       "      <th>gender</th>\n",
       "      <th>height</th>\n",
       "      <th>weight</th>\n",
       "      <th>ap_hi</th>\n",
       "      <th>ap_lo</th>\n",
       "      <th>cholesterol</th>\n",
       "      <th>gluc</th>\n",
       "      <th>smoke</th>\n",
       "      <th>alco</th>\n",
       "      <th>active</th>\n",
       "      <th>cardio</th>\n",
       "    </tr>\n",
       "    <tr>\n",
       "      <th>id</th>\n",
       "      <th></th>\n",
       "      <th></th>\n",
       "      <th></th>\n",
       "      <th></th>\n",
       "      <th></th>\n",
       "      <th></th>\n",
       "      <th></th>\n",
       "      <th></th>\n",
       "      <th></th>\n",
       "      <th></th>\n",
       "      <th></th>\n",
       "      <th></th>\n",
       "    </tr>\n",
       "  </thead>\n",
       "  <tbody>\n",
       "    <tr>\n",
       "      <th>5306</th>\n",
       "      <td>42</td>\n",
       "      <td>0</td>\n",
       "      <td>120</td>\n",
       "      <td>30.0</td>\n",
       "      <td>110</td>\n",
       "      <td>70</td>\n",
       "      <td>1</td>\n",
       "      <td>1</td>\n",
       "      <td>0</td>\n",
       "      <td>0</td>\n",
       "      <td>1</td>\n",
       "      <td>0</td>\n",
       "    </tr>\n",
       "    <tr>\n",
       "      <th>26503</th>\n",
       "      <td>49</td>\n",
       "      <td>0</td>\n",
       "      <td>160</td>\n",
       "      <td>30.0</td>\n",
       "      <td>120</td>\n",
       "      <td>80</td>\n",
       "      <td>1</td>\n",
       "      <td>1</td>\n",
       "      <td>0</td>\n",
       "      <td>0</td>\n",
       "      <td>1</td>\n",
       "      <td>1</td>\n",
       "    </tr>\n",
       "    <tr>\n",
       "      <th>38312</th>\n",
       "      <td>63</td>\n",
       "      <td>0</td>\n",
       "      <td>157</td>\n",
       "      <td>23.0</td>\n",
       "      <td>110</td>\n",
       "      <td>80</td>\n",
       "      <td>1</td>\n",
       "      <td>1</td>\n",
       "      <td>0</td>\n",
       "      <td>0</td>\n",
       "      <td>1</td>\n",
       "      <td>0</td>\n",
       "    </tr>\n",
       "    <tr>\n",
       "      <th>42156</th>\n",
       "      <td>55</td>\n",
       "      <td>1</td>\n",
       "      <td>177</td>\n",
       "      <td>22.0</td>\n",
       "      <td>120</td>\n",
       "      <td>80</td>\n",
       "      <td>1</td>\n",
       "      <td>1</td>\n",
       "      <td>1</td>\n",
       "      <td>1</td>\n",
       "      <td>1</td>\n",
       "      <td>0</td>\n",
       "    </tr>\n",
       "    <tr>\n",
       "      <th>48318</th>\n",
       "      <td>59</td>\n",
       "      <td>1</td>\n",
       "      <td>178</td>\n",
       "      <td>11.0</td>\n",
       "      <td>130</td>\n",
       "      <td>90</td>\n",
       "      <td>1</td>\n",
       "      <td>1</td>\n",
       "      <td>0</td>\n",
       "      <td>0</td>\n",
       "      <td>1</td>\n",
       "      <td>1</td>\n",
       "    </tr>\n",
       "  </tbody>\n",
       "</table>\n",
       "</div>"
      ],
      "text/plain": [
       "       age  gender  height  weight  ap_hi  ap_lo  cholesterol  gluc  smoke  \\\n",
       "id                                                                           \n",
       "5306    42       0     120    30.0    110     70            1     1      0   \n",
       "26503   49       0     160    30.0    120     80            1     1      0   \n",
       "38312   63       0     157    23.0    110     80            1     1      0   \n",
       "42156   55       1     177    22.0    120     80            1     1      1   \n",
       "48318   59       1     178    11.0    130     90            1     1      0   \n",
       "\n",
       "       alco  active  cardio  \n",
       "id                           \n",
       "5306      0       1       0  \n",
       "26503     0       1       1  \n",
       "38312     0       1       0  \n",
       "42156     1       1       0  \n",
       "48318     0       1       1  "
      ]
     },
     "metadata": {},
     "output_type": "display_data"
    }
   ],
   "source": [
    "wrong_weight = df_train[df_train['weight'] <= 30]\n",
    "display(wrong_weight.head())"
   ]
  },
  {
   "cell_type": "code",
   "execution_count": 15,
   "id": "984e8462",
   "metadata": {
    "execution": {
     "iopub.execute_input": "2023-03-28T21:26:47.082614Z",
     "iopub.status.busy": "2023-03-28T21:26:47.082211Z",
     "iopub.status.idle": "2023-03-28T21:26:47.098727Z",
     "shell.execute_reply": "2023-03-28T21:26:47.097923Z"
    },
    "papermill": {
     "duration": 0.032553,
     "end_time": "2023-03-28T21:26:47.101055",
     "exception": false,
     "start_time": "2023-03-28T21:26:47.068502",
     "status": "completed"
    },
    "tags": []
   },
   "outputs": [],
   "source": [
    "df_train.loc[df_train[df_train['weight'] <= 30].index, 'weight'] = df_train['weight'].median()\n",
    "df_test.loc[df_test[df_test['weight'] <= 30].index, 'weight'] = df_train['weight'].median()"
   ]
  },
  {
   "cell_type": "code",
   "execution_count": 16,
   "id": "922497e9",
   "metadata": {
    "execution": {
     "iopub.execute_input": "2023-03-28T21:26:47.127653Z",
     "iopub.status.busy": "2023-03-28T21:26:47.127253Z",
     "iopub.status.idle": "2023-03-28T21:26:47.150363Z",
     "shell.execute_reply": "2023-03-28T21:26:47.149335Z"
    },
    "papermill": {
     "duration": 0.039099,
     "end_time": "2023-03-28T21:26:47.152487",
     "exception": false,
     "start_time": "2023-03-28T21:26:47.113388",
     "status": "completed"
    },
    "tags": []
   },
   "outputs": [
    {
     "data": {
      "text/html": [
       "<div>\n",
       "<style scoped>\n",
       "    .dataframe tbody tr th:only-of-type {\n",
       "        vertical-align: middle;\n",
       "    }\n",
       "\n",
       "    .dataframe tbody tr th {\n",
       "        vertical-align: top;\n",
       "    }\n",
       "\n",
       "    .dataframe thead th {\n",
       "        text-align: right;\n",
       "    }\n",
       "</style>\n",
       "<table border=\"1\" class=\"dataframe\">\n",
       "  <thead>\n",
       "    <tr style=\"text-align: right;\">\n",
       "      <th></th>\n",
       "      <th>age</th>\n",
       "      <th>gender</th>\n",
       "      <th>height</th>\n",
       "      <th>weight</th>\n",
       "      <th>ap_hi</th>\n",
       "      <th>ap_lo</th>\n",
       "      <th>cholesterol</th>\n",
       "      <th>gluc</th>\n",
       "      <th>smoke</th>\n",
       "      <th>alco</th>\n",
       "      <th>active</th>\n",
       "      <th>cardio</th>\n",
       "    </tr>\n",
       "    <tr>\n",
       "      <th>id</th>\n",
       "      <th></th>\n",
       "      <th></th>\n",
       "      <th></th>\n",
       "      <th></th>\n",
       "      <th></th>\n",
       "      <th></th>\n",
       "      <th></th>\n",
       "      <th></th>\n",
       "      <th></th>\n",
       "      <th></th>\n",
       "      <th></th>\n",
       "      <th></th>\n",
       "    </tr>\n",
       "  </thead>\n",
       "  <tbody>\n",
       "    <tr>\n",
       "      <th>9223</th>\n",
       "      <td>58</td>\n",
       "      <td>0</td>\n",
       "      <td>250</td>\n",
       "      <td>86.0</td>\n",
       "      <td>140</td>\n",
       "      <td>100</td>\n",
       "      <td>3</td>\n",
       "      <td>1</td>\n",
       "      <td>0</td>\n",
       "      <td>0</td>\n",
       "      <td>1</td>\n",
       "      <td>1</td>\n",
       "    </tr>\n",
       "  </tbody>\n",
       "</table>\n",
       "</div>"
      ],
      "text/plain": [
       "      age  gender  height  weight  ap_hi  ap_lo  cholesterol  gluc  smoke  \\\n",
       "id                                                                          \n",
       "9223   58       0     250    86.0    140    100            3     1      0   \n",
       "\n",
       "      alco  active  cardio  \n",
       "id                          \n",
       "9223     0       1       1  "
      ]
     },
     "metadata": {},
     "output_type": "display_data"
    },
    {
     "data": {
      "text/html": [
       "<div>\n",
       "<style scoped>\n",
       "    .dataframe tbody tr th:only-of-type {\n",
       "        vertical-align: middle;\n",
       "    }\n",
       "\n",
       "    .dataframe tbody tr th {\n",
       "        vertical-align: top;\n",
       "    }\n",
       "\n",
       "    .dataframe thead th {\n",
       "        text-align: right;\n",
       "    }\n",
       "</style>\n",
       "<table border=\"1\" class=\"dataframe\">\n",
       "  <thead>\n",
       "    <tr style=\"text-align: right;\">\n",
       "      <th></th>\n",
       "      <th>age</th>\n",
       "      <th>gender</th>\n",
       "      <th>height</th>\n",
       "      <th>weight</th>\n",
       "      <th>ap_hi</th>\n",
       "      <th>ap_lo</th>\n",
       "      <th>cholesterol</th>\n",
       "      <th>gluc</th>\n",
       "      <th>smoke</th>\n",
       "      <th>alco</th>\n",
       "      <th>active</th>\n",
       "      <th>cardio</th>\n",
       "    </tr>\n",
       "    <tr>\n",
       "      <th>id</th>\n",
       "      <th></th>\n",
       "      <th></th>\n",
       "      <th></th>\n",
       "      <th></th>\n",
       "      <th></th>\n",
       "      <th></th>\n",
       "      <th></th>\n",
       "      <th></th>\n",
       "      <th></th>\n",
       "      <th></th>\n",
       "      <th></th>\n",
       "      <th></th>\n",
       "    </tr>\n",
       "  </thead>\n",
       "  <tbody>\n",
       "    <tr>\n",
       "      <th>309</th>\n",
       "      <td>59</td>\n",
       "      <td>1</td>\n",
       "      <td>76</td>\n",
       "      <td>55.0</td>\n",
       "      <td>120</td>\n",
       "      <td>80</td>\n",
       "      <td>1</td>\n",
       "      <td>1</td>\n",
       "      <td>0</td>\n",
       "      <td>0</td>\n",
       "      <td>1</td>\n",
       "      <td>0</td>\n",
       "    </tr>\n",
       "    <tr>\n",
       "      <th>10843</th>\n",
       "      <td>40</td>\n",
       "      <td>1</td>\n",
       "      <td>70</td>\n",
       "      <td>72.0</td>\n",
       "      <td>120</td>\n",
       "      <td>8</td>\n",
       "      <td>1</td>\n",
       "      <td>1</td>\n",
       "      <td>0</td>\n",
       "      <td>0</td>\n",
       "      <td>1</td>\n",
       "      <td>0</td>\n",
       "    </tr>\n",
       "    <tr>\n",
       "      <th>11662</th>\n",
       "      <td>48</td>\n",
       "      <td>1</td>\n",
       "      <td>97</td>\n",
       "      <td>170.0</td>\n",
       "      <td>160</td>\n",
       "      <td>100</td>\n",
       "      <td>1</td>\n",
       "      <td>1</td>\n",
       "      <td>1</td>\n",
       "      <td>0</td>\n",
       "      <td>1</td>\n",
       "      <td>1</td>\n",
       "    </tr>\n",
       "    <tr>\n",
       "      <th>18218</th>\n",
       "      <td>53</td>\n",
       "      <td>0</td>\n",
       "      <td>75</td>\n",
       "      <td>168.0</td>\n",
       "      <td>120</td>\n",
       "      <td>80</td>\n",
       "      <td>1</td>\n",
       "      <td>1</td>\n",
       "      <td>1</td>\n",
       "      <td>0</td>\n",
       "      <td>1</td>\n",
       "      <td>1</td>\n",
       "    </tr>\n",
       "    <tr>\n",
       "      <th>18928</th>\n",
       "      <td>61</td>\n",
       "      <td>1</td>\n",
       "      <td>71</td>\n",
       "      <td>68.0</td>\n",
       "      <td>120</td>\n",
       "      <td>80</td>\n",
       "      <td>3</td>\n",
       "      <td>1</td>\n",
       "      <td>0</td>\n",
       "      <td>0</td>\n",
       "      <td>1</td>\n",
       "      <td>0</td>\n",
       "    </tr>\n",
       "  </tbody>\n",
       "</table>\n",
       "</div>"
      ],
      "text/plain": [
       "       age  gender  height  weight  ap_hi  ap_lo  cholesterol  gluc  smoke  \\\n",
       "id                                                                           \n",
       "309     59       1      76    55.0    120     80            1     1      0   \n",
       "10843   40       1      70    72.0    120      8            1     1      0   \n",
       "11662   48       1      97   170.0    160    100            1     1      1   \n",
       "18218   53       0      75   168.0    120     80            1     1      1   \n",
       "18928   61       1      71    68.0    120     80            3     1      0   \n",
       "\n",
       "       alco  active  cardio  \n",
       "id                           \n",
       "309       0       1       0  \n",
       "10843     0       1       0  \n",
       "11662     0       1       1  \n",
       "18218     0       1       1  \n",
       "18928     0       1       0  "
      ]
     },
     "metadata": {},
     "output_type": "display_data"
    }
   ],
   "source": [
    "big_height = df_train[df_train['height'] > 220]\n",
    "display(big_height.head())\n",
    "small_height = df_train[df_train['height'] < 100]\n",
    "display(small_height.head())"
   ]
  },
  {
   "cell_type": "code",
   "execution_count": 17,
   "id": "594e52bb",
   "metadata": {
    "execution": {
     "iopub.execute_input": "2023-03-28T21:26:47.182567Z",
     "iopub.status.busy": "2023-03-28T21:26:47.182157Z",
     "iopub.status.idle": "2023-03-28T21:26:47.199579Z",
     "shell.execute_reply": "2023-03-28T21:26:47.198381Z"
    },
    "papermill": {
     "duration": 0.033875,
     "end_time": "2023-03-28T21:26:47.202212",
     "exception": false,
     "start_time": "2023-03-28T21:26:47.168337",
     "status": "completed"
    },
    "tags": []
   },
   "outputs": [],
   "source": [
    "df_train.loc[df_train.query('height > 220').index, 'height'] = df_train['height'].median()\n",
    "df_test.loc[df_test.query('height > 220').index, 'height'] = df_train['height'].median()"
   ]
  },
  {
   "cell_type": "code",
   "execution_count": 18,
   "id": "53e20a33",
   "metadata": {
    "execution": {
     "iopub.execute_input": "2023-03-28T21:26:47.229748Z",
     "iopub.status.busy": "2023-03-28T21:26:47.229357Z",
     "iopub.status.idle": "2023-03-28T21:26:49.787869Z",
     "shell.execute_reply": "2023-03-28T21:26:49.786565Z"
    },
    "papermill": {
     "duration": 2.575172,
     "end_time": "2023-03-28T21:26:49.790618",
     "exception": false,
     "start_time": "2023-03-28T21:26:47.215446",
     "status": "completed"
    },
    "tags": []
   },
   "outputs": [],
   "source": [
    "def ap_plot(df):\n",
    "    sns.scatterplot(data=df_train, x=\"ap_hi\", y=\"ap_lo\")\n",
    "\n",
    "\n",
    "    max_ap_hi = df[\"ap_hi\"].max()\n",
    "    min_ap_hi = df[\"ap_hi\"].min()\n",
    "    max_ap_lo = df[\"ap_lo\"].max()\n",
    "    min_ap_lo = df[\"ap_lo\"].min()\n",
    "\n",
    "    # добавляем вертикальные линии\n",
    "    plt.axvline(x=max_ap_hi, color='r', linestyle='--')\n",
    "    plt.axvline(x=min_ap_hi, color='r', linestyle='--')\n",
    "\n",
    "    # добавляем горизонтальные линии\n",
    "    plt.axhline(y=max_ap_lo, color='r', linestyle='--')\n",
    "    plt.axhline(y=min_ap_lo, color='r', linestyle='--')\n",
    "\n",
    "    # добавляем подписи к осям и заголовок графика\n",
    "    plt.xlabel(\"ap_hi\")\n",
    "    plt.ylabel(\"ap_lo\")\n",
    "    plt.title(\"Scatterplot for ap_lo vs. ap_hi with Max and Min Lines\")\n",
    "\n",
    "    # показываем график\n",
    "    plt.show()\n",
    "ap_plot(df_train)"
   ]
  },
  {
   "cell_type": "code",
   "execution_count": 19,
   "id": "cbd78caa",
   "metadata": {
    "execution": {
     "iopub.execute_input": "2023-03-28T21:26:49.817339Z",
     "iopub.status.busy": "2023-03-28T21:26:49.816956Z",
     "iopub.status.idle": "2023-03-28T21:26:49.836230Z",
     "shell.execute_reply": "2023-03-28T21:26:49.835185Z"
    },
    "papermill": {
     "duration": 0.035137,
     "end_time": "2023-03-28T21:26:49.838446",
     "exception": false,
     "start_time": "2023-03-28T21:26:49.803309",
     "status": "completed"
    },
    "tags": []
   },
   "outputs": [
    {
     "data": {
      "text/html": [
       "<div>\n",
       "<style scoped>\n",
       "    .dataframe tbody tr th:only-of-type {\n",
       "        vertical-align: middle;\n",
       "    }\n",
       "\n",
       "    .dataframe tbody tr th {\n",
       "        vertical-align: top;\n",
       "    }\n",
       "\n",
       "    .dataframe thead th {\n",
       "        text-align: right;\n",
       "    }\n",
       "</style>\n",
       "<table border=\"1\" class=\"dataframe\">\n",
       "  <thead>\n",
       "    <tr style=\"text-align: right;\">\n",
       "      <th></th>\n",
       "      <th>age</th>\n",
       "      <th>gender</th>\n",
       "      <th>height</th>\n",
       "      <th>weight</th>\n",
       "      <th>ap_hi</th>\n",
       "      <th>ap_lo</th>\n",
       "      <th>cholesterol</th>\n",
       "      <th>gluc</th>\n",
       "      <th>smoke</th>\n",
       "      <th>alco</th>\n",
       "      <th>active</th>\n",
       "      <th>cardio</th>\n",
       "    </tr>\n",
       "    <tr>\n",
       "      <th>id</th>\n",
       "      <th></th>\n",
       "      <th></th>\n",
       "      <th></th>\n",
       "      <th></th>\n",
       "      <th></th>\n",
       "      <th></th>\n",
       "      <th></th>\n",
       "      <th></th>\n",
       "      <th></th>\n",
       "      <th></th>\n",
       "      <th></th>\n",
       "      <th></th>\n",
       "    </tr>\n",
       "  </thead>\n",
       "  <tbody>\n",
       "    <tr>\n",
       "      <th>25947</th>\n",
       "      <td>61</td>\n",
       "      <td>1</td>\n",
       "      <td>180</td>\n",
       "      <td>107.0</td>\n",
       "      <td>160</td>\n",
       "      <td>1000</td>\n",
       "      <td>1</td>\n",
       "      <td>1</td>\n",
       "      <td>0</td>\n",
       "      <td>0</td>\n",
       "      <td>1</td>\n",
       "      <td>1</td>\n",
       "    </tr>\n",
       "    <tr>\n",
       "      <th>26084</th>\n",
       "      <td>43</td>\n",
       "      <td>0</td>\n",
       "      <td>165</td>\n",
       "      <td>78.0</td>\n",
       "      <td>150</td>\n",
       "      <td>1000</td>\n",
       "      <td>2</td>\n",
       "      <td>1</td>\n",
       "      <td>0</td>\n",
       "      <td>0</td>\n",
       "      <td>1</td>\n",
       "      <td>1</td>\n",
       "    </tr>\n",
       "    <tr>\n",
       "      <th>80886</th>\n",
       "      <td>51</td>\n",
       "      <td>0</td>\n",
       "      <td>168</td>\n",
       "      <td>110.0</td>\n",
       "      <td>160</td>\n",
       "      <td>1000</td>\n",
       "      <td>1</td>\n",
       "      <td>1</td>\n",
       "      <td>1</td>\n",
       "      <td>0</td>\n",
       "      <td>1</td>\n",
       "      <td>0</td>\n",
       "    </tr>\n",
       "    <tr>\n",
       "      <th>22000</th>\n",
       "      <td>49</td>\n",
       "      <td>1</td>\n",
       "      <td>180</td>\n",
       "      <td>91.0</td>\n",
       "      <td>140</td>\n",
       "      <td>1000</td>\n",
       "      <td>2</td>\n",
       "      <td>1</td>\n",
       "      <td>0</td>\n",
       "      <td>0</td>\n",
       "      <td>1</td>\n",
       "      <td>1</td>\n",
       "    </tr>\n",
       "    <tr>\n",
       "      <th>92873</th>\n",
       "      <td>42</td>\n",
       "      <td>1</td>\n",
       "      <td>186</td>\n",
       "      <td>80.0</td>\n",
       "      <td>160</td>\n",
       "      <td>1000</td>\n",
       "      <td>3</td>\n",
       "      <td>2</td>\n",
       "      <td>0</td>\n",
       "      <td>1</td>\n",
       "      <td>1</td>\n",
       "      <td>1</td>\n",
       "    </tr>\n",
       "    <tr>\n",
       "      <th>22180</th>\n",
       "      <td>61</td>\n",
       "      <td>0</td>\n",
       "      <td>152</td>\n",
       "      <td>65.0</td>\n",
       "      <td>95</td>\n",
       "      <td>170</td>\n",
       "      <td>1</td>\n",
       "      <td>1</td>\n",
       "      <td>0</td>\n",
       "      <td>1</td>\n",
       "      <td>1</td>\n",
       "      <td>1</td>\n",
       "    </tr>\n",
       "    <tr>\n",
       "      <th>98568</th>\n",
       "      <td>52</td>\n",
       "      <td>0</td>\n",
       "      <td>154</td>\n",
       "      <td>77.0</td>\n",
       "      <td>14</td>\n",
       "      <td>90</td>\n",
       "      <td>1</td>\n",
       "      <td>1</td>\n",
       "      <td>0</td>\n",
       "      <td>0</td>\n",
       "      <td>1</td>\n",
       "      <td>0</td>\n",
       "    </tr>\n",
       "    <tr>\n",
       "      <th>6508</th>\n",
       "      <td>55</td>\n",
       "      <td>1</td>\n",
       "      <td>158</td>\n",
       "      <td>58.0</td>\n",
       "      <td>12</td>\n",
       "      <td>80</td>\n",
       "      <td>1</td>\n",
       "      <td>1</td>\n",
       "      <td>1</td>\n",
       "      <td>1</td>\n",
       "      <td>1</td>\n",
       "      <td>0</td>\n",
       "    </tr>\n",
       "    <tr>\n",
       "      <th>34295</th>\n",
       "      <td>50</td>\n",
       "      <td>0</td>\n",
       "      <td>162</td>\n",
       "      <td>74.0</td>\n",
       "      <td>-140</td>\n",
       "      <td>90</td>\n",
       "      <td>1</td>\n",
       "      <td>1</td>\n",
       "      <td>0</td>\n",
       "      <td>0</td>\n",
       "      <td>1</td>\n",
       "      <td>1</td>\n",
       "    </tr>\n",
       "    <tr>\n",
       "      <th>88027</th>\n",
       "      <td>64</td>\n",
       "      <td>0</td>\n",
       "      <td>171</td>\n",
       "      <td>73.0</td>\n",
       "      <td>150</td>\n",
       "      <td>1000</td>\n",
       "      <td>1</td>\n",
       "      <td>1</td>\n",
       "      <td>0</td>\n",
       "      <td>0</td>\n",
       "      <td>1</td>\n",
       "      <td>1</td>\n",
       "    </tr>\n",
       "  </tbody>\n",
       "</table>\n",
       "</div>"
      ],
      "text/plain": [
       "       age  gender  height  weight  ap_hi  ap_lo  cholesterol  gluc  smoke  \\\n",
       "id                                                                           \n",
       "25947   61       1     180   107.0    160   1000            1     1      0   \n",
       "26084   43       0     165    78.0    150   1000            2     1      0   \n",
       "80886   51       0     168   110.0    160   1000            1     1      1   \n",
       "22000   49       1     180    91.0    140   1000            2     1      0   \n",
       "92873   42       1     186    80.0    160   1000            3     2      0   \n",
       "22180   61       0     152    65.0     95    170            1     1      0   \n",
       "98568   52       0     154    77.0     14     90            1     1      0   \n",
       "6508    55       1     158    58.0     12     80            1     1      1   \n",
       "34295   50       0     162    74.0   -140     90            1     1      0   \n",
       "88027   64       0     171    73.0    150   1000            1     1      0   \n",
       "\n",
       "       alco  active  cardio  \n",
       "id                           \n",
       "25947     0       1       1  \n",
       "26084     0       1       1  \n",
       "80886     0       1       0  \n",
       "22000     0       1       1  \n",
       "92873     1       1       1  \n",
       "22180     1       1       1  \n",
       "98568     0       1       0  \n",
       "6508      1       1       0  \n",
       "34295     0       1       1  \n",
       "88027     0       1       1  "
      ]
     },
     "metadata": {},
     "output_type": "display_data"
    }
   ],
   "source": [
    "display(df_train.loc[df_train['ap_lo'] > df_train['ap_hi']].sample(10))"
   ]
  },
  {
   "cell_type": "code",
   "execution_count": 20,
   "id": "ed38015a",
   "metadata": {
    "execution": {
     "iopub.execute_input": "2023-03-28T21:26:49.865997Z",
     "iopub.status.busy": "2023-03-28T21:26:49.865606Z",
     "iopub.status.idle": "2023-03-28T21:26:49.872367Z",
     "shell.execute_reply": "2023-03-28T21:26:49.871632Z"
    },
    "papermill": {
     "duration": 0.022878,
     "end_time": "2023-03-28T21:26:49.874330",
     "exception": false,
     "start_time": "2023-03-28T21:26:49.851452",
     "status": "completed"
    },
    "tags": []
   },
   "outputs": [],
   "source": [
    "for df in (df_train,df_test):\n",
    "    df['ap_hi'] = df['ap_hi'].abs()\n",
    "    df['ap_lo'] = df['ap_lo'].abs()"
   ]
  },
  {
   "cell_type": "code",
   "execution_count": 21,
   "id": "4cadb03b",
   "metadata": {
    "execution": {
     "iopub.execute_input": "2023-03-28T21:26:49.901973Z",
     "iopub.status.busy": "2023-03-28T21:26:49.901345Z",
     "iopub.status.idle": "2023-03-28T21:26:49.917732Z",
     "shell.execute_reply": "2023-03-28T21:26:49.916600Z"
    },
    "papermill": {
     "duration": 0.033164,
     "end_time": "2023-03-28T21:26:49.920223",
     "exception": false,
     "start_time": "2023-03-28T21:26:49.887059",
     "status": "completed"
    },
    "tags": []
   },
   "outputs": [],
   "source": [
    "# wrong placing of arterial pressure when ap_lo is higher than ap_hi\n",
    "for df in (df_train,df_test):\n",
    "    mask = df['ap_lo'] > df['ap_hi']\n",
    "    df.loc[mask, ['ap_lo', 'ap_hi']] = df.loc[mask, ['ap_hi', 'ap_lo']].values"
   ]
  },
  {
   "cell_type": "code",
   "execution_count": 22,
   "id": "8beb2e06",
   "metadata": {
    "execution": {
     "iopub.execute_input": "2023-03-28T21:26:49.947627Z",
     "iopub.status.busy": "2023-03-28T21:26:49.947229Z",
     "iopub.status.idle": "2023-03-28T21:26:57.611860Z",
     "shell.execute_reply": "2023-03-28T21:26:57.610995Z"
    },
    "papermill": {
     "duration": 7.681071,
     "end_time": "2023-03-28T21:26:57.614270",
     "exception": false,
     "start_time": "2023-03-28T21:26:49.933199",
     "status": "completed"
    },
    "tags": []
   },
   "outputs": [],
   "source": [
    "def ap_hi(row):\n",
    "      \n",
    "    if row['ap_hi'] > 260 and row['ap_hi'] <= 2000:\n",
    "        ap_hi = int(row['ap_hi'] / 10)\n",
    "        row['ap_hi'] = ap_hi\n",
    "    elif row['ap_hi'] > 2000:\n",
    "        ap_hi = int(row['ap_hi'] / 100)\n",
    "        row['ap_hi'] = ap_hi\n",
    "        \n",
    "    return row\n",
    "\n",
    "for df in (df_train,df_test): df = df.apply(ap_hi, axis=1)"
   ]
  },
  {
   "cell_type": "code",
   "execution_count": 23,
   "id": "6044cd7b",
   "metadata": {
    "execution": {
     "iopub.execute_input": "2023-03-28T21:26:57.642636Z",
     "iopub.status.busy": "2023-03-28T21:26:57.641550Z",
     "iopub.status.idle": "2023-03-28T21:26:57.657892Z",
     "shell.execute_reply": "2023-03-28T21:26:57.656885Z"
    },
    "papermill": {
     "duration": 0.032943,
     "end_time": "2023-03-28T21:26:57.660427",
     "exception": false,
     "start_time": "2023-03-28T21:26:57.627484",
     "status": "completed"
    },
    "tags": []
   },
   "outputs": [],
   "source": [
    "for df in (df_train,df_test):\n",
    "    df.loc[df['ap_lo'] > 150, 'ap_lo'] /= 10\n",
    "    df.loc[df['ap_hi'] > 4000, 'ap_hi'] /= 100"
   ]
  },
  {
   "cell_type": "code",
   "execution_count": 24,
   "id": "e8d8e341",
   "metadata": {
    "execution": {
     "iopub.execute_input": "2023-03-28T21:26:57.688200Z",
     "iopub.status.busy": "2023-03-28T21:26:57.687786Z",
     "iopub.status.idle": "2023-03-28T21:26:57.711415Z",
     "shell.execute_reply": "2023-03-28T21:26:57.710314Z"
    },
    "papermill": {
     "duration": 0.040266,
     "end_time": "2023-03-28T21:26:57.713780",
     "exception": false,
     "start_time": "2023-03-28T21:26:57.673514",
     "status": "completed"
    },
    "tags": []
   },
   "outputs": [
    {
     "data": {
      "text/html": [
       "<div>\n",
       "<style scoped>\n",
       "    .dataframe tbody tr th:only-of-type {\n",
       "        vertical-align: middle;\n",
       "    }\n",
       "\n",
       "    .dataframe tbody tr th {\n",
       "        vertical-align: top;\n",
       "    }\n",
       "\n",
       "    .dataframe thead th {\n",
       "        text-align: right;\n",
       "    }\n",
       "</style>\n",
       "<table border=\"1\" class=\"dataframe\">\n",
       "  <thead>\n",
       "    <tr style=\"text-align: right;\">\n",
       "      <th></th>\n",
       "      <th>age</th>\n",
       "      <th>gender</th>\n",
       "      <th>height</th>\n",
       "      <th>weight</th>\n",
       "      <th>ap_hi</th>\n",
       "      <th>ap_lo</th>\n",
       "      <th>cholesterol</th>\n",
       "      <th>gluc</th>\n",
       "      <th>smoke</th>\n",
       "      <th>alco</th>\n",
       "      <th>active</th>\n",
       "      <th>cardio</th>\n",
       "    </tr>\n",
       "    <tr>\n",
       "      <th>id</th>\n",
       "      <th></th>\n",
       "      <th></th>\n",
       "      <th></th>\n",
       "      <th></th>\n",
       "      <th></th>\n",
       "      <th></th>\n",
       "      <th></th>\n",
       "      <th></th>\n",
       "      <th></th>\n",
       "      <th></th>\n",
       "      <th></th>\n",
       "      <th></th>\n",
       "    </tr>\n",
       "  </thead>\n",
       "  <tbody>\n",
       "  </tbody>\n",
       "</table>\n",
       "</div>"
      ],
      "text/plain": [
       "Empty DataFrame\n",
       "Columns: [age, gender, height, weight, ap_hi, ap_lo, cholesterol, gluc, smoke, alco, active, cardio]\n",
       "Index: []"
      ]
     },
     "metadata": {},
     "output_type": "display_data"
    },
    {
     "data": {
      "text/html": [
       "<div>\n",
       "<style scoped>\n",
       "    .dataframe tbody tr th:only-of-type {\n",
       "        vertical-align: middle;\n",
       "    }\n",
       "\n",
       "    .dataframe tbody tr th {\n",
       "        vertical-align: top;\n",
       "    }\n",
       "\n",
       "    .dataframe thead th {\n",
       "        text-align: right;\n",
       "    }\n",
       "</style>\n",
       "<table border=\"1\" class=\"dataframe\">\n",
       "  <thead>\n",
       "    <tr style=\"text-align: right;\">\n",
       "      <th></th>\n",
       "      <th>age</th>\n",
       "      <th>gender</th>\n",
       "      <th>height</th>\n",
       "      <th>weight</th>\n",
       "      <th>ap_hi</th>\n",
       "      <th>ap_lo</th>\n",
       "      <th>cholesterol</th>\n",
       "      <th>gluc</th>\n",
       "      <th>smoke</th>\n",
       "      <th>alco</th>\n",
       "      <th>active</th>\n",
       "      <th>cardio</th>\n",
       "    </tr>\n",
       "    <tr>\n",
       "      <th>id</th>\n",
       "      <th></th>\n",
       "      <th></th>\n",
       "      <th></th>\n",
       "      <th></th>\n",
       "      <th></th>\n",
       "      <th></th>\n",
       "      <th></th>\n",
       "      <th></th>\n",
       "      <th></th>\n",
       "      <th></th>\n",
       "      <th></th>\n",
       "      <th></th>\n",
       "    </tr>\n",
       "  </thead>\n",
       "  <tbody>\n",
       "    <tr>\n",
       "      <th>2845</th>\n",
       "      <td>62</td>\n",
       "      <td>1</td>\n",
       "      <td>167</td>\n",
       "      <td>59.0</td>\n",
       "      <td>906.0</td>\n",
       "      <td>0.0</td>\n",
       "      <td>1</td>\n",
       "      <td>1</td>\n",
       "      <td>0</td>\n",
       "      <td>0</td>\n",
       "      <td>1</td>\n",
       "      <td>0</td>\n",
       "    </tr>\n",
       "    <tr>\n",
       "      <th>19258</th>\n",
       "      <td>40</td>\n",
       "      <td>1</td>\n",
       "      <td>150</td>\n",
       "      <td>60.0</td>\n",
       "      <td>130.0</td>\n",
       "      <td>0.0</td>\n",
       "      <td>1</td>\n",
       "      <td>1</td>\n",
       "      <td>0</td>\n",
       "      <td>0</td>\n",
       "      <td>0</td>\n",
       "      <td>0</td>\n",
       "    </tr>\n",
       "    <tr>\n",
       "      <th>23512</th>\n",
       "      <td>56</td>\n",
       "      <td>0</td>\n",
       "      <td>156</td>\n",
       "      <td>50.0</td>\n",
       "      <td>138.0</td>\n",
       "      <td>0.0</td>\n",
       "      <td>3</td>\n",
       "      <td>1</td>\n",
       "      <td>0</td>\n",
       "      <td>0</td>\n",
       "      <td>1</td>\n",
       "      <td>1</td>\n",
       "    </tr>\n",
       "    <tr>\n",
       "      <th>24837</th>\n",
       "      <td>49</td>\n",
       "      <td>0</td>\n",
       "      <td>164</td>\n",
       "      <td>78.0</td>\n",
       "      <td>138.0</td>\n",
       "      <td>0.0</td>\n",
       "      <td>1</td>\n",
       "      <td>1</td>\n",
       "      <td>0</td>\n",
       "      <td>0</td>\n",
       "      <td>1</td>\n",
       "      <td>0</td>\n",
       "    </tr>\n",
       "    <tr>\n",
       "      <th>32749</th>\n",
       "      <td>57</td>\n",
       "      <td>1</td>\n",
       "      <td>166</td>\n",
       "      <td>68.0</td>\n",
       "      <td>149.0</td>\n",
       "      <td>0.0</td>\n",
       "      <td>1</td>\n",
       "      <td>1</td>\n",
       "      <td>0</td>\n",
       "      <td>0</td>\n",
       "      <td>1</td>\n",
       "      <td>1</td>\n",
       "    </tr>\n",
       "  </tbody>\n",
       "</table>\n",
       "</div>"
      ],
      "text/plain": [
       "       age  gender  height  weight  ap_hi  ap_lo  cholesterol  gluc  smoke  \\\n",
       "id                                                                           \n",
       "2845    62       1     167    59.0  906.0    0.0            1     1      0   \n",
       "19258   40       1     150    60.0  130.0    0.0            1     1      0   \n",
       "23512   56       0     156    50.0  138.0    0.0            3     1      0   \n",
       "24837   49       0     164    78.0  138.0    0.0            1     1      0   \n",
       "32749   57       1     166    68.0  149.0    0.0            1     1      0   \n",
       "\n",
       "       alco  active  cardio  \n",
       "id                           \n",
       "2845      0       1       0  \n",
       "19258     0       0       0  \n",
       "23512     0       1       1  \n",
       "24837     0       1       0  \n",
       "32749     0       1       1  "
      ]
     },
     "metadata": {},
     "output_type": "display_data"
    }
   ],
   "source": [
    "nul_ap_hi = df_train[df_train['ap_hi'] == 0]\n",
    "display(nul_ap_hi.head())\n",
    "nul_ap_lo = df_train[df_train['ap_lo'] == 0]\n",
    "display(nul_ap_lo.head())"
   ]
  },
  {
   "cell_type": "code",
   "execution_count": 25,
   "id": "7c726f8d",
   "metadata": {
    "execution": {
     "iopub.execute_input": "2023-03-28T21:26:57.741776Z",
     "iopub.status.busy": "2023-03-28T21:26:57.741399Z",
     "iopub.status.idle": "2023-03-28T21:26:57.759725Z",
     "shell.execute_reply": "2023-03-28T21:26:57.758979Z"
    },
    "papermill": {
     "duration": 0.034886,
     "end_time": "2023-03-28T21:26:57.761894",
     "exception": false,
     "start_time": "2023-03-28T21:26:57.727008",
     "status": "completed"
    },
    "tags": []
   },
   "outputs": [
    {
     "data": {
      "text/html": [
       "<div>\n",
       "<style scoped>\n",
       "    .dataframe tbody tr th:only-of-type {\n",
       "        vertical-align: middle;\n",
       "    }\n",
       "\n",
       "    .dataframe tbody tr th {\n",
       "        vertical-align: top;\n",
       "    }\n",
       "\n",
       "    .dataframe thead th {\n",
       "        text-align: right;\n",
       "    }\n",
       "</style>\n",
       "<table border=\"1\" class=\"dataframe\">\n",
       "  <thead>\n",
       "    <tr style=\"text-align: right;\">\n",
       "      <th></th>\n",
       "      <th>age</th>\n",
       "      <th>gender</th>\n",
       "      <th>height</th>\n",
       "      <th>weight</th>\n",
       "      <th>ap_hi</th>\n",
       "      <th>ap_lo</th>\n",
       "      <th>cholesterol</th>\n",
       "      <th>gluc</th>\n",
       "      <th>smoke</th>\n",
       "      <th>alco</th>\n",
       "      <th>active</th>\n",
       "      <th>cardio</th>\n",
       "    </tr>\n",
       "    <tr>\n",
       "      <th>id</th>\n",
       "      <th></th>\n",
       "      <th></th>\n",
       "      <th></th>\n",
       "      <th></th>\n",
       "      <th></th>\n",
       "      <th></th>\n",
       "      <th></th>\n",
       "      <th></th>\n",
       "      <th></th>\n",
       "      <th></th>\n",
       "      <th></th>\n",
       "      <th></th>\n",
       "    </tr>\n",
       "  </thead>\n",
       "  <tbody>\n",
       "    <tr>\n",
       "      <th>2845</th>\n",
       "      <td>62</td>\n",
       "      <td>1</td>\n",
       "      <td>167</td>\n",
       "      <td>59.0</td>\n",
       "      <td>906.0</td>\n",
       "      <td>80.0</td>\n",
       "      <td>1</td>\n",
       "      <td>1</td>\n",
       "      <td>0</td>\n",
       "      <td>0</td>\n",
       "      <td>1</td>\n",
       "      <td>0</td>\n",
       "    </tr>\n",
       "    <tr>\n",
       "      <th>19258</th>\n",
       "      <td>40</td>\n",
       "      <td>1</td>\n",
       "      <td>150</td>\n",
       "      <td>60.0</td>\n",
       "      <td>130.0</td>\n",
       "      <td>80.0</td>\n",
       "      <td>1</td>\n",
       "      <td>1</td>\n",
       "      <td>0</td>\n",
       "      <td>0</td>\n",
       "      <td>0</td>\n",
       "      <td>0</td>\n",
       "    </tr>\n",
       "    <tr>\n",
       "      <th>23512</th>\n",
       "      <td>56</td>\n",
       "      <td>0</td>\n",
       "      <td>156</td>\n",
       "      <td>50.0</td>\n",
       "      <td>138.0</td>\n",
       "      <td>80.0</td>\n",
       "      <td>3</td>\n",
       "      <td>1</td>\n",
       "      <td>0</td>\n",
       "      <td>0</td>\n",
       "      <td>1</td>\n",
       "      <td>1</td>\n",
       "    </tr>\n",
       "    <tr>\n",
       "      <th>24837</th>\n",
       "      <td>49</td>\n",
       "      <td>0</td>\n",
       "      <td>164</td>\n",
       "      <td>78.0</td>\n",
       "      <td>138.0</td>\n",
       "      <td>80.0</td>\n",
       "      <td>1</td>\n",
       "      <td>1</td>\n",
       "      <td>0</td>\n",
       "      <td>0</td>\n",
       "      <td>1</td>\n",
       "      <td>0</td>\n",
       "    </tr>\n",
       "    <tr>\n",
       "      <th>32749</th>\n",
       "      <td>57</td>\n",
       "      <td>1</td>\n",
       "      <td>166</td>\n",
       "      <td>68.0</td>\n",
       "      <td>149.0</td>\n",
       "      <td>80.0</td>\n",
       "      <td>1</td>\n",
       "      <td>1</td>\n",
       "      <td>0</td>\n",
       "      <td>0</td>\n",
       "      <td>1</td>\n",
       "      <td>1</td>\n",
       "    </tr>\n",
       "  </tbody>\n",
       "</table>\n",
       "</div>"
      ],
      "text/plain": [
       "       age  gender  height  weight  ap_hi  ap_lo  cholesterol  gluc  smoke  \\\n",
       "id                                                                           \n",
       "2845    62       1     167    59.0  906.0   80.0            1     1      0   \n",
       "19258   40       1     150    60.0  130.0   80.0            1     1      0   \n",
       "23512   56       0     156    50.0  138.0   80.0            3     1      0   \n",
       "24837   49       0     164    78.0  138.0   80.0            1     1      0   \n",
       "32749   57       1     166    68.0  149.0   80.0            1     1      0   \n",
       "\n",
       "       alco  active  cardio  \n",
       "id                           \n",
       "2845      0       1       0  \n",
       "19258     0       0       0  \n",
       "23512     0       1       1  \n",
       "24837     0       1       0  \n",
       "32749     0       1       1  "
      ]
     },
     "metadata": {},
     "output_type": "display_data"
    }
   ],
   "source": [
    "df_train.loc[nul_ap_lo.index, 'ap_lo'] = None\n",
    "df_train['ap_lo'] = df_train['ap_lo'].fillna(df_train['ap_lo'].median())\n",
    "display(df_train.loc[nul_ap_lo.index].head())"
   ]
  },
  {
   "cell_type": "code",
   "execution_count": 26,
   "id": "5437ef01",
   "metadata": {
    "execution": {
     "iopub.execute_input": "2023-03-28T21:26:57.790996Z",
     "iopub.status.busy": "2023-03-28T21:26:57.790297Z",
     "iopub.status.idle": "2023-03-28T21:27:00.199752Z",
     "shell.execute_reply": "2023-03-28T21:27:00.198635Z"
    },
    "papermill": {
     "duration": 2.426986,
     "end_time": "2023-03-28T21:27:00.202454",
     "exception": false,
     "start_time": "2023-03-28T21:26:57.775468",
     "status": "completed"
    },
    "scrolled": true,
    "tags": []
   },
   "outputs": [],
   "source": [
    "ap_plot(df_train)"
   ]
  },
  {
   "cell_type": "code",
   "execution_count": 27,
   "id": "f8eb92d3",
   "metadata": {
    "execution": {
     "iopub.execute_input": "2023-03-28T21:27:00.231252Z",
     "iopub.status.busy": "2023-03-28T21:27:00.230855Z",
     "iopub.status.idle": "2023-03-28T21:27:00.244549Z",
     "shell.execute_reply": "2023-03-28T21:27:00.243143Z"
    },
    "papermill": {
     "duration": 0.030578,
     "end_time": "2023-03-28T21:27:00.246772",
     "exception": false,
     "start_time": "2023-03-28T21:27:00.216194",
     "status": "completed"
    },
    "tags": []
   },
   "outputs": [
    {
     "data": {
      "text/plain": [
       "958"
      ]
     },
     "execution_count": 27,
     "metadata": {},
     "output_type": "execute_result"
    }
   ],
   "source": [
    "df_train.query('ap_hi > 500').count()['age']"
   ]
  },
  {
   "cell_type": "markdown",
   "id": "fe6a6012",
   "metadata": {
    "papermill": {
     "duration": 0.013202,
     "end_time": "2023-03-28T21:27:00.273624",
     "exception": false,
     "start_time": "2023-03-28T21:27:00.260422",
     "status": "completed"
    },
    "tags": []
   },
   "source": [
    "Arterial pressure is better but there is a way to improve"
   ]
  },
  {
   "cell_type": "code",
   "execution_count": 28,
   "id": "d3c1b576",
   "metadata": {
    "execution": {
     "iopub.execute_input": "2023-03-28T21:27:00.302500Z",
     "iopub.status.busy": "2023-03-28T21:27:00.302126Z",
     "iopub.status.idle": "2023-03-28T21:27:00.309901Z",
     "shell.execute_reply": "2023-03-28T21:27:00.308811Z"
    },
    "papermill": {
     "duration": 0.025137,
     "end_time": "2023-03-28T21:27:00.312222",
     "exception": false,
     "start_time": "2023-03-28T21:27:00.287085",
     "status": "completed"
    },
    "tags": []
   },
   "outputs": [],
   "source": [
    "# introducing bmi index\n",
    "for df in (df_train,df_test): df['bmi'] = df['weight']/(df['height']/100)**2"
   ]
  },
  {
   "cell_type": "code",
   "execution_count": 29,
   "id": "47b7ef9d",
   "metadata": {
    "execution": {
     "iopub.execute_input": "2023-03-28T21:27:00.341097Z",
     "iopub.status.busy": "2023-03-28T21:27:00.340711Z",
     "iopub.status.idle": "2023-03-28T21:27:00.350252Z",
     "shell.execute_reply": "2023-03-28T21:27:00.349228Z"
    },
    "papermill": {
     "duration": 0.026712,
     "end_time": "2023-03-28T21:27:00.352636",
     "exception": false,
     "start_time": "2023-03-28T21:27:00.325924",
     "status": "completed"
    },
    "tags": []
   },
   "outputs": [],
   "source": [
    "# deleting hieght and weight as they correlate with bmi\n",
    "for df in (df_train,df_test): df.drop(columns=['height', 'weight'], inplace=True)"
   ]
  },
  {
   "cell_type": "code",
   "execution_count": 30,
   "id": "f8d86078",
   "metadata": {
    "execution": {
     "iopub.execute_input": "2023-03-28T21:27:00.382063Z",
     "iopub.status.busy": "2023-03-28T21:27:00.381674Z",
     "iopub.status.idle": "2023-03-28T21:27:00.387608Z",
     "shell.execute_reply": "2023-03-28T21:27:00.386891Z"
    },
    "papermill": {
     "duration": 0.023507,
     "end_time": "2023-03-28T21:27:00.389918",
     "exception": false,
     "start_time": "2023-03-28T21:27:00.366411",
     "status": "completed"
    },
    "tags": []
   },
   "outputs": [
    {
     "data": {
      "text/plain": [
       "(69976, 11)"
      ]
     },
     "execution_count": 30,
     "metadata": {},
     "output_type": "execute_result"
    }
   ],
   "source": [
    "df_train.shape"
   ]
  },
  {
   "cell_type": "code",
   "execution_count": 31,
   "id": "874feb2c",
   "metadata": {
    "execution": {
     "iopub.execute_input": "2023-03-28T21:27:00.419565Z",
     "iopub.status.busy": "2023-03-28T21:27:00.418934Z",
     "iopub.status.idle": "2023-03-28T21:27:00.424556Z",
     "shell.execute_reply": "2023-03-28T21:27:00.423553Z"
    },
    "papermill": {
     "duration": 0.023088,
     "end_time": "2023-03-28T21:27:00.426945",
     "exception": false,
     "start_time": "2023-03-28T21:27:00.403857",
     "status": "completed"
    },
    "tags": []
   },
   "outputs": [
    {
     "data": {
      "text/plain": [
       "(30000, 10)"
      ]
     },
     "execution_count": 31,
     "metadata": {},
     "output_type": "execute_result"
    }
   ],
   "source": [
    "df_test.shape"
   ]
  },
  {
   "cell_type": "code",
   "execution_count": 32,
   "id": "000ac694",
   "metadata": {
    "execution": {
     "iopub.execute_input": "2023-03-28T21:27:00.456715Z",
     "iopub.status.busy": "2023-03-28T21:27:00.455684Z",
     "iopub.status.idle": "2023-03-28T21:27:00.464048Z",
     "shell.execute_reply": "2023-03-28T21:27:00.462359Z"
    },
    "papermill": {
     "duration": 0.025616,
     "end_time": "2023-03-28T21:27:00.466362",
     "exception": false,
     "start_time": "2023-03-28T21:27:00.440746",
     "status": "completed"
    },
    "tags": []
   },
   "outputs": [
    {
     "name": "stdout",
     "output_type": "stream",
     "text": [
      "0    35004\n",
      "1    34972\n",
      "Name: cardio, dtype: int64\n"
     ]
    }
   ],
   "source": [
    "print(df_train['cardio'].value_counts())"
   ]
  },
  {
   "cell_type": "code",
   "execution_count": 33,
   "id": "e63a4318",
   "metadata": {
    "execution": {
     "iopub.execute_input": "2023-03-28T21:27:00.495850Z",
     "iopub.status.busy": "2023-03-28T21:27:00.495448Z",
     "iopub.status.idle": "2023-03-28T21:27:00.526886Z",
     "shell.execute_reply": "2023-03-28T21:27:00.525304Z"
    },
    "papermill": {
     "duration": 0.049807,
     "end_time": "2023-03-28T21:27:00.530240",
     "exception": false,
     "start_time": "2023-03-28T21:27:00.480433",
     "status": "completed"
    },
    "tags": []
   },
   "outputs": [
    {
     "name": "stdout",
     "output_type": "stream",
     "text": [
      "<class 'pandas.core.frame.DataFrame'>\n",
      "Int64Index: 69976 entries, 0 to 99999\n",
      "Data columns (total 11 columns):\n",
      " #   Column       Non-Null Count  Dtype   \n",
      "---  ------       --------------  -----   \n",
      " 0   age          69976 non-null  int64   \n",
      " 1   gender       69976 non-null  category\n",
      " 2   ap_hi        69976 non-null  int64   \n",
      " 3   ap_lo        69976 non-null  int64   \n",
      " 4   cholesterol  69976 non-null  int64   \n",
      " 5   gluc         69976 non-null  int64   \n",
      " 6   smoke        69976 non-null  category\n",
      " 7   alco         69976 non-null  category\n",
      " 8   active       69976 non-null  category\n",
      " 9   cardio       69976 non-null  int64   \n",
      " 10  bmi          69976 non-null  float64 \n",
      "dtypes: category(4), float64(1), int64(6)\n",
      "memory usage: 6.6 MB\n"
     ]
    }
   ],
   "source": [
    "categorical_features = ['gender', 'smoke', 'alco', 'active']\n",
    "int_features = ['age','ap_hi', 'ap_lo', 'cholesterol', 'gluc', 'cardio']\n",
    "df_train[categorical_features] = df_train[categorical_features].astype('category')\n",
    "df_train[int_features] = df_train[int_features].astype('int64')\n",
    "df_train.info()"
   ]
  },
  {
   "cell_type": "code",
   "execution_count": 34,
   "id": "b3fc8084",
   "metadata": {
    "execution": {
     "iopub.execute_input": "2023-03-28T21:27:00.559823Z",
     "iopub.status.busy": "2023-03-28T21:27:00.559479Z",
     "iopub.status.idle": "2023-03-28T21:27:00.569669Z",
     "shell.execute_reply": "2023-03-28T21:27:00.568187Z"
    },
    "papermill": {
     "duration": 0.027639,
     "end_time": "2023-03-28T21:27:00.572002",
     "exception": false,
     "start_time": "2023-03-28T21:27:00.544363",
     "status": "completed"
    },
    "tags": []
   },
   "outputs": [
    {
     "name": "stdout",
     "output_type": "stream",
     "text": [
      "Столбцы с количественными признаками тренировочная выборка: \n",
      " ['age', 'ap_hi', 'ap_lo', 'cholesterol', 'gluc', 'cardio', 'bmi']\n"
     ]
    }
   ],
   "source": [
    "df_train_numeric = df_train.select_dtypes(include=[np.number])\n",
    "df_train_numeric_cols = df_train_numeric.columns.values.tolist()\n",
    "print('Столбцы с количественными признаками тренировочная выборка: \\n', df_train_numeric_cols)"
   ]
  },
  {
   "cell_type": "code",
   "execution_count": 35,
   "id": "0abbf561",
   "metadata": {
    "execution": {
     "iopub.execute_input": "2023-03-28T21:27:00.601367Z",
     "iopub.status.busy": "2023-03-28T21:27:00.600997Z",
     "iopub.status.idle": "2023-03-28T21:27:00.607646Z",
     "shell.execute_reply": "2023-03-28T21:27:00.606613Z"
    },
    "papermill": {
     "duration": 0.024037,
     "end_time": "2023-03-28T21:27:00.609865",
     "exception": false,
     "start_time": "2023-03-28T21:27:00.585828",
     "status": "completed"
    },
    "tags": []
   },
   "outputs": [],
   "source": [
    "features_train = df_train.drop(['cardio'], axis=1)\n",
    "target_train = df_train['cardio']"
   ]
  },
  {
   "cell_type": "code",
   "execution_count": 36,
   "id": "54ef4aff",
   "metadata": {
    "execution": {
     "iopub.execute_input": "2023-03-28T21:27:00.639493Z",
     "iopub.status.busy": "2023-03-28T21:27:00.639121Z",
     "iopub.status.idle": "2023-03-28T21:27:00.663333Z",
     "shell.execute_reply": "2023-03-28T21:27:00.662141Z"
    },
    "papermill": {
     "duration": 0.041924,
     "end_time": "2023-03-28T21:27:00.665780",
     "exception": false,
     "start_time": "2023-03-28T21:27:00.623856",
     "status": "completed"
    },
    "tags": []
   },
   "outputs": [],
   "source": [
    "sc = MinMaxScaler()\n",
    "features_train_sc = features_train.copy()\n",
    "features_train_sc[['age', 'ap_hi', 'ap_lo', 'cholesterol', 'gluc', 'bmi']] = \\\n",
    "sc.fit_transform(features_train[['age', 'ap_hi', 'ap_lo', 'cholesterol', 'gluc', 'bmi']])\n",
    "\n",
    "features_test_sc = df_test.copy()\n",
    "features_test_sc[['age', 'ap_hi', 'ap_lo', 'cholesterol', 'gluc', 'bmi']] = \\\n",
    "sc.transform(features_test_sc[['age', 'ap_hi', 'ap_lo', 'cholesterol', 'gluc', 'bmi']])"
   ]
  },
  {
   "cell_type": "code",
   "execution_count": 37,
   "id": "2486e41a",
   "metadata": {
    "execution": {
     "iopub.execute_input": "2023-03-28T21:27:00.695772Z",
     "iopub.status.busy": "2023-03-28T21:27:00.694758Z",
     "iopub.status.idle": "2023-03-28T21:28:50.951140Z",
     "shell.execute_reply": "2023-03-28T21:28:50.950022Z"
    },
    "papermill": {
     "duration": 110.287126,
     "end_time": "2023-03-28T21:28:50.966933",
     "exception": false,
     "start_time": "2023-03-28T21:27:00.679807",
     "status": "completed"
    },
    "tags": []
   },
   "outputs": [
    {
     "name": "stdout",
     "output_type": "stream",
     "text": [
      "Fitting 5 folds for each of 1 candidates, totalling 5 fits\n"
     ]
    },
    {
     "data": {
      "text/plain": [
       "RandomizedSearchCV(cv=5, estimator=GradientBoostingClassifier(random_state=23),\n",
       "                   n_iter=1, n_jobs=-1,\n",
       "                   param_distributions={'learning_rate': [0.01, 0.05, 0.1, 0.2],\n",
       "                                        'max_depth': [3, 5, 7, 9],\n",
       "                                        'max_features': [None, 'auto', 'sqrt',\n",
       "                                                         'log2'],\n",
       "                                        'min_samples_leaf': [1, 2, 4, 6],\n",
       "                                        'min_samples_split': [2, 5, 10, 15],\n",
       "                                        'n_estimators': [50, 100, 200, 300]},\n",
       "                   random_state=23, scoring='roc_auc', verbose=2)"
      ]
     },
     "execution_count": 37,
     "metadata": {},
     "output_type": "execute_result"
    }
   ],
   "source": [
    "grb = GradientBoostingClassifier(random_state=23)\n",
    "param_distributions = {\n",
    "    'learning_rate': [0.01, 0.05, 0.1, 0.2],\n",
    "    'n_estimators': [50, 100, 200, 300],\n",
    "    'max_depth': [3, 5, 7, 9],\n",
    "    'min_samples_split': [2, 5, 10, 15],\n",
    "    'min_samples_leaf': [1, 2, 4, 6],\n",
    "    'max_features': [None, 'auto', 'sqrt', 'log2']\n",
    "}\n",
    "\n",
    "rs_grb = RandomizedSearchCV(grb, \n",
    "                               param_distributions=param_distributions, \n",
    "                               cv=5, \n",
    "                               n_iter=1, \n",
    "                               n_jobs=-1, \n",
    "                               random_state=23,\n",
    "                               verbose=2,\n",
    "                               scoring='roc_auc')\n",
    "\n",
    "rs_grb.fit(features_train_sc, target_train)"
   ]
  },
  {
   "cell_type": "code",
   "execution_count": 38,
   "id": "5a531f17",
   "metadata": {
    "execution": {
     "iopub.execute_input": "2023-03-28T21:28:50.998261Z",
     "iopub.status.busy": "2023-03-28T21:28:50.997551Z",
     "iopub.status.idle": "2023-03-28T21:28:51.003784Z",
     "shell.execute_reply": "2023-03-28T21:28:51.002365Z"
    },
    "papermill": {
     "duration": 0.024791,
     "end_time": "2023-03-28T21:28:51.006164",
     "exception": false,
     "start_time": "2023-03-28T21:28:50.981373",
     "status": "completed"
    },
    "tags": []
   },
   "outputs": [
    {
     "name": "stdout",
     "output_type": "stream",
     "text": [
      "Оптимальные параметры GradientBoostingClassifier:  {'n_estimators': 300, 'min_samples_split': 2, 'min_samples_leaf': 2, 'max_features': 'auto', 'max_depth': 7, 'learning_rate': 0.01}\n",
      "\n",
      "Лучший показатель AUC_ROC GradientBoostingClassifier: 0.8016442659321863\n"
     ]
    }
   ],
   "source": [
    "print('Оптимальные параметры GradientBoostingClassifier: ', rs_grb.best_params_)\n",
    "print()\n",
    "print('Лучший показатель AUC_ROC GradientBoostingClassifier:', rs_grb.best_score_)"
   ]
  },
  {
   "cell_type": "code",
   "execution_count": 39,
   "id": "9a4893ed",
   "metadata": {
    "execution": {
     "iopub.execute_input": "2023-03-28T21:28:51.037562Z",
     "iopub.status.busy": "2023-03-28T21:28:51.036600Z",
     "iopub.status.idle": "2023-03-28T21:29:11.921240Z",
     "shell.execute_reply": "2023-03-28T21:29:11.919876Z"
    },
    "papermill": {
     "duration": 20.903048,
     "end_time": "2023-03-28T21:29:11.924047",
     "exception": false,
     "start_time": "2023-03-28T21:28:51.020999",
     "status": "completed"
    },
    "tags": []
   },
   "outputs": [
    {
     "name": "stdout",
     "output_type": "stream",
     "text": [
      "(30000, 1)\n"
     ]
    }
   ],
   "source": [
    "grb_opt = GradientBoostingClassifier(\n",
    "                                    n_estimators= 400, \n",
    "                                    min_samples_split= 15, \n",
    "                                    min_samples_leaf= 2, \n",
    "                                    max_features= 'auto', \n",
    "                                    max_depth= 3, \n",
    "                                    learning_rate= 0.05,\n",
    "                                    random_state=23\n",
    ").fit(features_train_sc, target_train)\n",
    "\n",
    "predictions = grb_opt.predict(features_test_sc)\n",
    "\n",
    "to_submit = pd.DataFrame(index=features_test_sc.index)\n",
    "to_submit['cardio'] = predictions\n",
    "to_submit['cardio'] = to_submit['cardio'].astype('float16')\n",
    "to_submit.to_csv('submission.csv')\n",
    "print(to_submit.shape)"
   ]
  },
  {
   "cell_type": "code",
   "execution_count": 40,
   "id": "c434acb8",
   "metadata": {
    "execution": {
     "iopub.execute_input": "2023-03-28T21:29:11.955735Z",
     "iopub.status.busy": "2023-03-28T21:29:11.955357Z",
     "iopub.status.idle": "2023-03-28T21:29:11.978484Z",
     "shell.execute_reply": "2023-03-28T21:29:11.977504Z"
    },
    "papermill": {
     "duration": 0.041746,
     "end_time": "2023-03-28T21:29:11.980697",
     "exception": false,
     "start_time": "2023-03-28T21:29:11.938951",
     "status": "completed"
    },
    "tags": []
   },
   "outputs": [
    {
     "data": {
      "text/plain": [
       "['heart.model']"
      ]
     },
     "execution_count": 40,
     "metadata": {},
     "output_type": "execute_result"
    }
   ],
   "source": [
    "from joblib import dump\n",
    "dump(grb_opt, 'heart.model')"
   ]
  },
  {
   "cell_type": "code",
   "execution_count": 41,
   "id": "6e10f2d7",
   "metadata": {
    "execution": {
     "iopub.execute_input": "2023-03-28T21:29:12.011493Z",
     "iopub.status.busy": "2023-03-28T21:29:12.010712Z",
     "iopub.status.idle": "2023-03-28T21:29:12.019881Z",
     "shell.execute_reply": "2023-03-28T21:29:12.018980Z"
    },
    "papermill": {
     "duration": 0.026465,
     "end_time": "2023-03-28T21:29:12.021781",
     "exception": false,
     "start_time": "2023-03-28T21:29:11.995316",
     "status": "completed"
    },
    "tags": []
   },
   "outputs": [
    {
     "data": {
      "text/html": [
       "<div>\n",
       "<style scoped>\n",
       "    .dataframe tbody tr th:only-of-type {\n",
       "        vertical-align: middle;\n",
       "    }\n",
       "\n",
       "    .dataframe tbody tr th {\n",
       "        vertical-align: top;\n",
       "    }\n",
       "\n",
       "    .dataframe thead th {\n",
       "        text-align: right;\n",
       "    }\n",
       "</style>\n",
       "<table border=\"1\" class=\"dataframe\">\n",
       "  <thead>\n",
       "    <tr style=\"text-align: right;\">\n",
       "      <th></th>\n",
       "      <th>cardio</th>\n",
       "    </tr>\n",
       "    <tr>\n",
       "      <th>id</th>\n",
       "      <th></th>\n",
       "    </tr>\n",
       "  </thead>\n",
       "  <tbody>\n",
       "    <tr>\n",
       "      <th>5</th>\n",
       "      <td>1.0</td>\n",
       "    </tr>\n",
       "    <tr>\n",
       "      <th>6</th>\n",
       "      <td>1.0</td>\n",
       "    </tr>\n",
       "    <tr>\n",
       "      <th>7</th>\n",
       "      <td>0.0</td>\n",
       "    </tr>\n",
       "    <tr>\n",
       "      <th>10</th>\n",
       "      <td>1.0</td>\n",
       "    </tr>\n",
       "    <tr>\n",
       "      <th>11</th>\n",
       "      <td>0.0</td>\n",
       "    </tr>\n",
       "  </tbody>\n",
       "</table>\n",
       "</div>"
      ],
      "text/plain": [
       "    cardio\n",
       "id        \n",
       "5      1.0\n",
       "6      1.0\n",
       "7      0.0\n",
       "10     1.0\n",
       "11     0.0"
      ]
     },
     "execution_count": 41,
     "metadata": {},
     "output_type": "execute_result"
    }
   ],
   "source": [
    "to_submit.head()"
   ]
  }
 ],
 "metadata": {
  "kernelspec": {
   "display_name": "Python 3",
   "language": "python",
   "name": "python3"
  },
  "language_info": {
   "codemirror_mode": {
    "name": "ipython",
    "version": 3
   },
   "file_extension": ".py",
   "mimetype": "text/x-python",
   "name": "python",
   "nbconvert_exporter": "python",
   "pygments_lexer": "ipython3",
   "version": "3.7.12"
  },
  "papermill": {
   "default_parameters": {},
   "duration": 159.980962,
   "end_time": "2023-03-28T21:29:14.656442",
   "environment_variables": {},
   "exception": null,
   "input_path": "__notebook__.ipynb",
   "output_path": "__notebook__.ipynb",
   "parameters": {},
   "start_time": "2023-03-28T21:26:34.675480",
   "version": "2.3.4"
  }
 },
 "nbformat": 4,
 "nbformat_minor": 5
}

{
 "cells": [
  {
   "cell_type": "code",
   "execution_count": 1,
   "id": "15e04cc3",
   "metadata": {
    "_cell_guid": "b1076dfc-b9ad-4769-8c92-a6c4dae69d19",
    "_uuid": "8f2839f25d086af736a60e9eeb907d3b93b6e0e5",
    "execution": {
     "iopub.execute_input": "2023-03-28T21:33:28.419539Z",
     "iopub.status.busy": "2023-03-28T21:33:28.418926Z",
     "iopub.status.idle": "2023-03-28T21:33:28.433437Z",
     "shell.execute_reply": "2023-03-28T21:33:28.432593Z"
    },
    "papermill": {
     "duration": 0.032822,
     "end_time": "2023-03-28T21:33:28.436325",
     "exception": false,
     "start_time": "2023-03-28T21:33:28.403503",
     "status": "completed"
    },
    "tags": []
   },
   "outputs": [
    {
     "name": "stdout",
     "output_type": "stream",
     "text": [
      "/kaggle/input/yap15-heart-diseases-predictions/sample_submission.csv\n",
      "/kaggle/input/yap15-heart-diseases-predictions/train.csv\n",
      "/kaggle/input/yap15-heart-diseases-predictions/test.csv\n"
     ]
    }
   ],
   "source": [
    "# This Python 3 environment comes with many helpful analytics libraries installed\n",
    "# It is defined by the kaggle/python Docker image: https://github.com/kaggle/docker-python\n",
    "# For example, here's several helpful packages to load\n",
    "\n",
    "import numpy as np # linear algebra\n",
    "import pandas as pd # data processing, CSV file I/O (e.g. pd.read_csv)\n",
    "\n",
    "# Input data files are available in the read-only \"../input/\" directory\n",
    "# For example, running this (by clicking run or pressing Shift+Enter) will list all files under the input directory\n",
    "\n",
    "import os\n",
    "for dirname, _, filenames in os.walk('/kaggle/input'):\n",
    "    for filename in filenames:\n",
    "        print(os.path.join(dirname, filename))\n",
    "\n",
    "# You can write up to 20GB to the current directory (/kaggle/working/) that gets preserved as output when you create a version using \"Save & Run All\" \n",
    "# You can also write temporary files to /kaggle/temp/, but they won't be saved outside of the current session"
   ]
  },
  {
   "cell_type": "code",
   "execution_count": 2,
   "id": "3a715c52",
   "metadata": {
    "execution": {
     "iopub.execute_input": "2023-03-28T21:33:28.460950Z",
     "iopub.status.busy": "2023-03-28T21:33:28.460260Z",
     "iopub.status.idle": "2023-03-28T21:33:31.423618Z",
     "shell.execute_reply": "2023-03-28T21:33:31.422507Z"
    },
    "papermill": {
     "duration": 2.978057,
     "end_time": "2023-03-28T21:33:31.426200",
     "exception": false,
     "start_time": "2023-03-28T21:33:28.448143",
     "status": "completed"
    },
    "tags": []
   },
   "outputs": [],
   "source": [
    "import matplotlib.pyplot as plt\n",
    "import seaborn as sns\n",
    "%matplotlib inline\n",
    "import pandas_profiling\n",
    "\n",
    "import warnings\n",
    "warnings.filterwarnings('ignore')\n",
    "\n",
    "\n",
    "from sklearn.model_selection import train_test_split, GridSearchCV, RandomizedSearchCV\n",
    "from sklearn.model_selection import cross_val_score\n",
    "\n",
    "from sklearn.preprocessing import MinMaxScaler\n",
    "from sklearn.metrics import f1_score, roc_auc_score, classification_report\n",
    "\n",
    "from sklearn.ensemble import GradientBoostingClassifier\n",
    "\n",
    "# Сброс ограничений на количество выводимых рядов\n",
    "pd.set_option('display.max_rows', None)\n",
    " \n",
    "# Сброс ограничений на число столбцов\n",
    "pd.set_option('display.max_columns', None)\n",
    " \n",
    "# Сброс ограничений на количество символов в записи\n",
    "pd.set_option('display.max_colwidth', None)"
   ]
  },
  {
   "cell_type": "code",
   "execution_count": 3,
   "id": "dbbd5b01",
   "metadata": {
    "execution": {
     "iopub.execute_input": "2023-03-28T21:33:31.449857Z",
     "iopub.status.busy": "2023-03-28T21:33:31.449238Z",
     "iopub.status.idle": "2023-03-28T21:33:31.703404Z",
     "shell.execute_reply": "2023-03-28T21:33:31.702007Z"
    },
    "papermill": {
     "duration": 0.268865,
     "end_time": "2023-03-28T21:33:31.705870",
     "exception": false,
     "start_time": "2023-03-28T21:33:31.437005",
     "status": "completed"
    },
    "tags": []
   },
   "outputs": [
    {
     "data": {
      "text/html": [
       "<div>\n",
       "<style scoped>\n",
       "    .dataframe tbody tr th:only-of-type {\n",
       "        vertical-align: middle;\n",
       "    }\n",
       "\n",
       "    .dataframe tbody tr th {\n",
       "        vertical-align: top;\n",
       "    }\n",
       "\n",
       "    .dataframe thead th {\n",
       "        text-align: right;\n",
       "    }\n",
       "</style>\n",
       "<table border=\"1\" class=\"dataframe\">\n",
       "  <thead>\n",
       "    <tr style=\"text-align: right;\">\n",
       "      <th></th>\n",
       "      <th>age</th>\n",
       "      <th>gender</th>\n",
       "      <th>height</th>\n",
       "      <th>weight</th>\n",
       "      <th>ap_hi</th>\n",
       "      <th>ap_lo</th>\n",
       "      <th>cholesterol</th>\n",
       "      <th>gluc</th>\n",
       "      <th>smoke</th>\n",
       "      <th>alco</th>\n",
       "      <th>active</th>\n",
       "      <th>cardio</th>\n",
       "    </tr>\n",
       "    <tr>\n",
       "      <th>id</th>\n",
       "      <th></th>\n",
       "      <th></th>\n",
       "      <th></th>\n",
       "      <th></th>\n",
       "      <th></th>\n",
       "      <th></th>\n",
       "      <th></th>\n",
       "      <th></th>\n",
       "      <th></th>\n",
       "      <th></th>\n",
       "      <th></th>\n",
       "      <th></th>\n",
       "    </tr>\n",
       "  </thead>\n",
       "  <tbody>\n",
       "    <tr>\n",
       "      <th>0</th>\n",
       "      <td>18393</td>\n",
       "      <td>2</td>\n",
       "      <td>168</td>\n",
       "      <td>62.0</td>\n",
       "      <td>110</td>\n",
       "      <td>80</td>\n",
       "      <td>1</td>\n",
       "      <td>1</td>\n",
       "      <td>0</td>\n",
       "      <td>0</td>\n",
       "      <td>1</td>\n",
       "      <td>0</td>\n",
       "    </tr>\n",
       "    <tr>\n",
       "      <th>1</th>\n",
       "      <td>20228</td>\n",
       "      <td>1</td>\n",
       "      <td>156</td>\n",
       "      <td>85.0</td>\n",
       "      <td>140</td>\n",
       "      <td>90</td>\n",
       "      <td>3</td>\n",
       "      <td>1</td>\n",
       "      <td>0</td>\n",
       "      <td>0</td>\n",
       "      <td>1</td>\n",
       "      <td>1</td>\n",
       "    </tr>\n",
       "    <tr>\n",
       "      <th>2</th>\n",
       "      <td>18857</td>\n",
       "      <td>1</td>\n",
       "      <td>165</td>\n",
       "      <td>64.0</td>\n",
       "      <td>130</td>\n",
       "      <td>70</td>\n",
       "      <td>3</td>\n",
       "      <td>1</td>\n",
       "      <td>0</td>\n",
       "      <td>0</td>\n",
       "      <td>0</td>\n",
       "      <td>1</td>\n",
       "    </tr>\n",
       "    <tr>\n",
       "      <th>3</th>\n",
       "      <td>17623</td>\n",
       "      <td>2</td>\n",
       "      <td>169</td>\n",
       "      <td>82.0</td>\n",
       "      <td>150</td>\n",
       "      <td>100</td>\n",
       "      <td>1</td>\n",
       "      <td>1</td>\n",
       "      <td>0</td>\n",
       "      <td>0</td>\n",
       "      <td>1</td>\n",
       "      <td>1</td>\n",
       "    </tr>\n",
       "    <tr>\n",
       "      <th>4</th>\n",
       "      <td>17474</td>\n",
       "      <td>1</td>\n",
       "      <td>156</td>\n",
       "      <td>56.0</td>\n",
       "      <td>100</td>\n",
       "      <td>60</td>\n",
       "      <td>1</td>\n",
       "      <td>1</td>\n",
       "      <td>0</td>\n",
       "      <td>0</td>\n",
       "      <td>0</td>\n",
       "      <td>0</td>\n",
       "    </tr>\n",
       "  </tbody>\n",
       "</table>\n",
       "</div>"
      ],
      "text/plain": [
       "      age  gender  height  weight  ap_hi  ap_lo  cholesterol  gluc  smoke  \\\n",
       "id                                                                          \n",
       "0   18393       2     168    62.0    110     80            1     1      0   \n",
       "1   20228       1     156    85.0    140     90            3     1      0   \n",
       "2   18857       1     165    64.0    130     70            3     1      0   \n",
       "3   17623       2     169    82.0    150    100            1     1      0   \n",
       "4   17474       1     156    56.0    100     60            1     1      0   \n",
       "\n",
       "    alco  active  cardio  \n",
       "id                        \n",
       "0      0       1       0  \n",
       "1      0       1       1  \n",
       "2      0       0       1  \n",
       "3      0       1       1  \n",
       "4      0       0       0  "
      ]
     },
     "metadata": {},
     "output_type": "display_data"
    },
    {
     "data": {
      "text/html": [
       "<div>\n",
       "<style scoped>\n",
       "    .dataframe tbody tr th:only-of-type {\n",
       "        vertical-align: middle;\n",
       "    }\n",
       "\n",
       "    .dataframe tbody tr th {\n",
       "        vertical-align: top;\n",
       "    }\n",
       "\n",
       "    .dataframe thead th {\n",
       "        text-align: right;\n",
       "    }\n",
       "</style>\n",
       "<table border=\"1\" class=\"dataframe\">\n",
       "  <thead>\n",
       "    <tr style=\"text-align: right;\">\n",
       "      <th></th>\n",
       "      <th>age</th>\n",
       "      <th>gender</th>\n",
       "      <th>height</th>\n",
       "      <th>weight</th>\n",
       "      <th>ap_hi</th>\n",
       "      <th>ap_lo</th>\n",
       "      <th>cholesterol</th>\n",
       "      <th>gluc</th>\n",
       "      <th>smoke</th>\n",
       "      <th>alco</th>\n",
       "      <th>active</th>\n",
       "    </tr>\n",
       "    <tr>\n",
       "      <th>id</th>\n",
       "      <th></th>\n",
       "      <th></th>\n",
       "      <th></th>\n",
       "      <th></th>\n",
       "      <th></th>\n",
       "      <th></th>\n",
       "      <th></th>\n",
       "      <th></th>\n",
       "      <th></th>\n",
       "      <th></th>\n",
       "      <th></th>\n",
       "    </tr>\n",
       "  </thead>\n",
       "  <tbody>\n",
       "    <tr>\n",
       "      <th>5</th>\n",
       "      <td>18888</td>\n",
       "      <td>1</td>\n",
       "      <td>154</td>\n",
       "      <td>85.0</td>\n",
       "      <td>130</td>\n",
       "      <td>80</td>\n",
       "      <td>1</td>\n",
       "      <td>1</td>\n",
       "      <td>0</td>\n",
       "      <td>0</td>\n",
       "      <td>1</td>\n",
       "    </tr>\n",
       "    <tr>\n",
       "      <th>6</th>\n",
       "      <td>19042</td>\n",
       "      <td>2</td>\n",
       "      <td>170</td>\n",
       "      <td>69.0</td>\n",
       "      <td>130</td>\n",
       "      <td>90</td>\n",
       "      <td>1</td>\n",
       "      <td>1</td>\n",
       "      <td>0</td>\n",
       "      <td>0</td>\n",
       "      <td>1</td>\n",
       "    </tr>\n",
       "    <tr>\n",
       "      <th>7</th>\n",
       "      <td>20432</td>\n",
       "      <td>1</td>\n",
       "      <td>160</td>\n",
       "      <td>70.0</td>\n",
       "      <td>120</td>\n",
       "      <td>75</td>\n",
       "      <td>1</td>\n",
       "      <td>1</td>\n",
       "      <td>0</td>\n",
       "      <td>0</td>\n",
       "      <td>0</td>\n",
       "    </tr>\n",
       "    <tr>\n",
       "      <th>10</th>\n",
       "      <td>18133</td>\n",
       "      <td>2</td>\n",
       "      <td>185</td>\n",
       "      <td>94.0</td>\n",
       "      <td>130</td>\n",
       "      <td>90</td>\n",
       "      <td>1</td>\n",
       "      <td>1</td>\n",
       "      <td>0</td>\n",
       "      <td>0</td>\n",
       "      <td>1</td>\n",
       "    </tr>\n",
       "    <tr>\n",
       "      <th>11</th>\n",
       "      <td>16093</td>\n",
       "      <td>2</td>\n",
       "      <td>170</td>\n",
       "      <td>76.0</td>\n",
       "      <td>120</td>\n",
       "      <td>80</td>\n",
       "      <td>1</td>\n",
       "      <td>1</td>\n",
       "      <td>0</td>\n",
       "      <td>0</td>\n",
       "      <td>1</td>\n",
       "    </tr>\n",
       "  </tbody>\n",
       "</table>\n",
       "</div>"
      ],
      "text/plain": [
       "      age  gender  height  weight  ap_hi  ap_lo  cholesterol  gluc  smoke  \\\n",
       "id                                                                          \n",
       "5   18888       1     154    85.0    130     80            1     1      0   \n",
       "6   19042       2     170    69.0    130     90            1     1      0   \n",
       "7   20432       1     160    70.0    120     75            1     1      0   \n",
       "10  18133       2     185    94.0    130     90            1     1      0   \n",
       "11  16093       2     170    76.0    120     80            1     1      0   \n",
       "\n",
       "    alco  active  \n",
       "id                \n",
       "5      0       1  \n",
       "6      0       1  \n",
       "7      0       0  \n",
       "10     0       1  \n",
       "11     0       1  "
      ]
     },
     "metadata": {},
     "output_type": "display_data"
    },
    {
     "data": {
      "text/plain": [
       "Index(['age', 'gender', 'height', 'weight', 'ap_hi', 'ap_lo', 'cholesterol',\n",
       "       'gluc', 'smoke', 'alco', 'active', 'cardio'],\n",
       "      dtype='object')"
      ]
     },
     "metadata": {},
     "output_type": "display_data"
    },
    {
     "name": "stdout",
     "output_type": "stream",
     "text": [
      "<class 'pandas.core.frame.DataFrame'>\n",
      "Int64Index: 70000 entries, 0 to 99999\n",
      "Data columns (total 12 columns):\n",
      " #   Column       Non-Null Count  Dtype  \n",
      "---  ------       --------------  -----  \n",
      " 0   age          70000 non-null  int64  \n",
      " 1   gender       70000 non-null  int64  \n",
      " 2   height       70000 non-null  int64  \n",
      " 3   weight       70000 non-null  float64\n",
      " 4   ap_hi        70000 non-null  int64  \n",
      " 5   ap_lo        70000 non-null  int64  \n",
      " 6   cholesterol  70000 non-null  int64  \n",
      " 7   gluc         70000 non-null  int64  \n",
      " 8   smoke        70000 non-null  int64  \n",
      " 9   alco         70000 non-null  int64  \n",
      " 10  active       70000 non-null  int64  \n",
      " 11  cardio       70000 non-null  int64  \n",
      "dtypes: float64(1), int64(11)\n",
      "memory usage: 6.9 MB\n"
     ]
    },
    {
     "data": {
      "text/plain": [
       "None"
      ]
     },
     "metadata": {},
     "output_type": "display_data"
    },
    {
     "name": "stdout",
     "output_type": "stream",
     "text": [
      "Размер  тренировочной таблицы: (70000, 12)\n",
      "Размер  тестовой таблицы: (30000, 11)\n"
     ]
    }
   ],
   "source": [
    "try:\n",
    "    df_train = pd.read_csv('/kaggle/input/yap15-heart-diseases-predictions/train.csv',index_col=0)\n",
    "    df_test = pd.read_csv('/kaggle/input/yap15-heart-diseases-predictions/test.csv',index_col=0)\n",
    "except:\n",
    "    df_train = pd.read_csv('./train.csv',index_col=0)\n",
    "    df_test = pd.read_csv('./test.csv',index_col=0)\n",
    "    \n",
    "display(df_train.head())\n",
    "display(df_test.head())\n",
    "display(df_train.columns)\n",
    "display(df_train.info())\n",
    "print('Размер  тренировочной таблицы:', df_train.shape)\n",
    "print('Размер  тестовой таблицы:', df_test.shape)"
   ]
  },
  {
   "cell_type": "code",
   "execution_count": 4,
   "id": "9d7274c0",
   "metadata": {
    "execution": {
     "iopub.execute_input": "2023-03-28T21:33:31.731531Z",
     "iopub.status.busy": "2023-03-28T21:33:31.730970Z",
     "iopub.status.idle": "2023-03-28T21:33:31.742251Z",
     "shell.execute_reply": "2023-03-28T21:33:31.741049Z"
    },
    "papermill": {
     "duration": 0.026891,
     "end_time": "2023-03-28T21:33:31.744595",
     "exception": false,
     "start_time": "2023-03-28T21:33:31.717704",
     "status": "completed"
    },
    "tags": []
   },
   "outputs": [
    {
     "data": {
      "text/plain": [
       "age            0\n",
       "gender         0\n",
       "height         0\n",
       "weight         0\n",
       "ap_hi          0\n",
       "ap_lo          0\n",
       "cholesterol    0\n",
       "gluc           0\n",
       "smoke          0\n",
       "alco           0\n",
       "active         0\n",
       "cardio         0\n",
       "dtype: int64"
      ]
     },
     "execution_count": 4,
     "metadata": {},
     "output_type": "execute_result"
    }
   ],
   "source": [
    "df_train.isnull().sum()"
   ]
  },
  {
   "cell_type": "code",
   "execution_count": 5,
   "id": "6d6c4ad5",
   "metadata": {
    "execution": {
     "iopub.execute_input": "2023-03-28T21:33:31.770230Z",
     "iopub.status.busy": "2023-03-28T21:33:31.769800Z",
     "iopub.status.idle": "2023-03-28T21:33:31.779967Z",
     "shell.execute_reply": "2023-03-28T21:33:31.778822Z"
    },
    "papermill": {
     "duration": 0.0256,
     "end_time": "2023-03-28T21:33:31.782121",
     "exception": false,
     "start_time": "2023-03-28T21:33:31.756521",
     "status": "completed"
    },
    "tags": []
   },
   "outputs": [
    {
     "data": {
      "text/plain": [
       "age            0\n",
       "gender         0\n",
       "height         0\n",
       "weight         0\n",
       "ap_hi          0\n",
       "ap_lo          0\n",
       "cholesterol    0\n",
       "gluc           0\n",
       "smoke          0\n",
       "alco           0\n",
       "active         0\n",
       "dtype: int64"
      ]
     },
     "execution_count": 5,
     "metadata": {},
     "output_type": "execute_result"
    }
   ],
   "source": [
    "df_test.isnull().sum()"
   ]
  },
  {
   "cell_type": "code",
   "execution_count": 6,
   "id": "35101db6",
   "metadata": {
    "execution": {
     "iopub.execute_input": "2023-03-28T21:33:31.807961Z",
     "iopub.status.busy": "2023-03-28T21:33:31.807484Z",
     "iopub.status.idle": "2023-03-28T21:33:31.812427Z",
     "shell.execute_reply": "2023-03-28T21:33:31.811193Z"
    },
    "papermill": {
     "duration": 0.020279,
     "end_time": "2023-03-28T21:33:31.814550",
     "exception": false,
     "start_time": "2023-03-28T21:33:31.794271",
     "status": "completed"
    },
    "tags": []
   },
   "outputs": [],
   "source": [
    "# profile=pandas_profiling.ProfileReport(df_train)\n",
    "# profile"
   ]
  },
  {
   "cell_type": "code",
   "execution_count": 7,
   "id": "1674e9f5",
   "metadata": {
    "execution": {
     "iopub.execute_input": "2023-03-28T21:33:31.840588Z",
     "iopub.status.busy": "2023-03-28T21:33:31.840169Z",
     "iopub.status.idle": "2023-03-28T21:33:31.894758Z",
     "shell.execute_reply": "2023-03-28T21:33:31.893547Z"
    },
    "papermill": {
     "duration": 0.07089,
     "end_time": "2023-03-28T21:33:31.897591",
     "exception": false,
     "start_time": "2023-03-28T21:33:31.826701",
     "status": "completed"
    },
    "tags": []
   },
   "outputs": [
    {
     "data": {
      "text/html": [
       "<div>\n",
       "<style scoped>\n",
       "    .dataframe tbody tr th:only-of-type {\n",
       "        vertical-align: middle;\n",
       "    }\n",
       "\n",
       "    .dataframe tbody tr th {\n",
       "        vertical-align: top;\n",
       "    }\n",
       "\n",
       "    .dataframe thead th {\n",
       "        text-align: right;\n",
       "    }\n",
       "</style>\n",
       "<table border=\"1\" class=\"dataframe\">\n",
       "  <thead>\n",
       "    <tr style=\"text-align: right;\">\n",
       "      <th></th>\n",
       "      <th>age</th>\n",
       "      <th>gender</th>\n",
       "      <th>height</th>\n",
       "      <th>weight</th>\n",
       "      <th>ap_hi</th>\n",
       "      <th>ap_lo</th>\n",
       "      <th>cholesterol</th>\n",
       "      <th>gluc</th>\n",
       "      <th>smoke</th>\n",
       "      <th>alco</th>\n",
       "      <th>active</th>\n",
       "      <th>cardio</th>\n",
       "    </tr>\n",
       "  </thead>\n",
       "  <tbody>\n",
       "    <tr>\n",
       "      <th>age</th>\n",
       "      <td>1.000000</td>\n",
       "      <td>-0.022811</td>\n",
       "      <td>-0.081515</td>\n",
       "      <td>0.053684</td>\n",
       "      <td>0.020764</td>\n",
       "      <td>0.017647</td>\n",
       "      <td>0.154424</td>\n",
       "      <td>0.098703</td>\n",
       "      <td>-0.047633</td>\n",
       "      <td>-0.029723</td>\n",
       "      <td>-0.009927</td>\n",
       "      <td>0.238159</td>\n",
       "    </tr>\n",
       "    <tr>\n",
       "      <th>gender</th>\n",
       "      <td>-0.022811</td>\n",
       "      <td>1.000000</td>\n",
       "      <td>0.499033</td>\n",
       "      <td>0.155406</td>\n",
       "      <td>0.006005</td>\n",
       "      <td>0.015254</td>\n",
       "      <td>-0.035821</td>\n",
       "      <td>-0.020491</td>\n",
       "      <td>0.338135</td>\n",
       "      <td>0.170966</td>\n",
       "      <td>0.005866</td>\n",
       "      <td>0.008109</td>\n",
       "    </tr>\n",
       "    <tr>\n",
       "      <th>height</th>\n",
       "      <td>-0.081515</td>\n",
       "      <td>0.499033</td>\n",
       "      <td>1.000000</td>\n",
       "      <td>0.290968</td>\n",
       "      <td>0.005488</td>\n",
       "      <td>0.006150</td>\n",
       "      <td>-0.050226</td>\n",
       "      <td>-0.018595</td>\n",
       "      <td>0.187989</td>\n",
       "      <td>0.094419</td>\n",
       "      <td>-0.006570</td>\n",
       "      <td>-0.010821</td>\n",
       "    </tr>\n",
       "    <tr>\n",
       "      <th>weight</th>\n",
       "      <td>0.053684</td>\n",
       "      <td>0.155406</td>\n",
       "      <td>0.290968</td>\n",
       "      <td>1.000000</td>\n",
       "      <td>0.030702</td>\n",
       "      <td>0.043710</td>\n",
       "      <td>0.141768</td>\n",
       "      <td>0.106857</td>\n",
       "      <td>0.067780</td>\n",
       "      <td>0.067113</td>\n",
       "      <td>-0.016867</td>\n",
       "      <td>0.181660</td>\n",
       "    </tr>\n",
       "    <tr>\n",
       "      <th>ap_hi</th>\n",
       "      <td>0.020764</td>\n",
       "      <td>0.006005</td>\n",
       "      <td>0.005488</td>\n",
       "      <td>0.030702</td>\n",
       "      <td>1.000000</td>\n",
       "      <td>0.016086</td>\n",
       "      <td>0.023778</td>\n",
       "      <td>0.011841</td>\n",
       "      <td>-0.000922</td>\n",
       "      <td>0.001408</td>\n",
       "      <td>-0.000033</td>\n",
       "      <td>0.054475</td>\n",
       "    </tr>\n",
       "    <tr>\n",
       "      <th>ap_lo</th>\n",
       "      <td>0.017647</td>\n",
       "      <td>0.015254</td>\n",
       "      <td>0.006150</td>\n",
       "      <td>0.043710</td>\n",
       "      <td>0.016086</td>\n",
       "      <td>1.000000</td>\n",
       "      <td>0.024019</td>\n",
       "      <td>0.010806</td>\n",
       "      <td>0.005186</td>\n",
       "      <td>0.010601</td>\n",
       "      <td>0.004780</td>\n",
       "      <td>0.065719</td>\n",
       "    </tr>\n",
       "    <tr>\n",
       "      <th>cholesterol</th>\n",
       "      <td>0.154424</td>\n",
       "      <td>-0.035821</td>\n",
       "      <td>-0.050226</td>\n",
       "      <td>0.141768</td>\n",
       "      <td>0.023778</td>\n",
       "      <td>0.024019</td>\n",
       "      <td>1.000000</td>\n",
       "      <td>0.451578</td>\n",
       "      <td>0.010354</td>\n",
       "      <td>0.035760</td>\n",
       "      <td>0.009911</td>\n",
       "      <td>0.221147</td>\n",
       "    </tr>\n",
       "    <tr>\n",
       "      <th>gluc</th>\n",
       "      <td>0.098703</td>\n",
       "      <td>-0.020491</td>\n",
       "      <td>-0.018595</td>\n",
       "      <td>0.106857</td>\n",
       "      <td>0.011841</td>\n",
       "      <td>0.010806</td>\n",
       "      <td>0.451578</td>\n",
       "      <td>1.000000</td>\n",
       "      <td>-0.004756</td>\n",
       "      <td>0.011246</td>\n",
       "      <td>-0.006770</td>\n",
       "      <td>0.089307</td>\n",
       "    </tr>\n",
       "    <tr>\n",
       "      <th>smoke</th>\n",
       "      <td>-0.047633</td>\n",
       "      <td>0.338135</td>\n",
       "      <td>0.187989</td>\n",
       "      <td>0.067780</td>\n",
       "      <td>-0.000922</td>\n",
       "      <td>0.005186</td>\n",
       "      <td>0.010354</td>\n",
       "      <td>-0.004756</td>\n",
       "      <td>1.000000</td>\n",
       "      <td>0.340094</td>\n",
       "      <td>0.025858</td>\n",
       "      <td>-0.015486</td>\n",
       "    </tr>\n",
       "    <tr>\n",
       "      <th>alco</th>\n",
       "      <td>-0.029723</td>\n",
       "      <td>0.170966</td>\n",
       "      <td>0.094419</td>\n",
       "      <td>0.067113</td>\n",
       "      <td>0.001408</td>\n",
       "      <td>0.010601</td>\n",
       "      <td>0.035760</td>\n",
       "      <td>0.011246</td>\n",
       "      <td>0.340094</td>\n",
       "      <td>1.000000</td>\n",
       "      <td>0.025476</td>\n",
       "      <td>-0.007330</td>\n",
       "    </tr>\n",
       "    <tr>\n",
       "      <th>active</th>\n",
       "      <td>-0.009927</td>\n",
       "      <td>0.005866</td>\n",
       "      <td>-0.006570</td>\n",
       "      <td>-0.016867</td>\n",
       "      <td>-0.000033</td>\n",
       "      <td>0.004780</td>\n",
       "      <td>0.009911</td>\n",
       "      <td>-0.006770</td>\n",
       "      <td>0.025858</td>\n",
       "      <td>0.025476</td>\n",
       "      <td>1.000000</td>\n",
       "      <td>-0.035653</td>\n",
       "    </tr>\n",
       "    <tr>\n",
       "      <th>cardio</th>\n",
       "      <td>0.238159</td>\n",
       "      <td>0.008109</td>\n",
       "      <td>-0.010821</td>\n",
       "      <td>0.181660</td>\n",
       "      <td>0.054475</td>\n",
       "      <td>0.065719</td>\n",
       "      <td>0.221147</td>\n",
       "      <td>0.089307</td>\n",
       "      <td>-0.015486</td>\n",
       "      <td>-0.007330</td>\n",
       "      <td>-0.035653</td>\n",
       "      <td>1.000000</td>\n",
       "    </tr>\n",
       "  </tbody>\n",
       "</table>\n",
       "</div>"
      ],
      "text/plain": [
       "                  age    gender    height    weight     ap_hi     ap_lo  \\\n",
       "age          1.000000 -0.022811 -0.081515  0.053684  0.020764  0.017647   \n",
       "gender      -0.022811  1.000000  0.499033  0.155406  0.006005  0.015254   \n",
       "height      -0.081515  0.499033  1.000000  0.290968  0.005488  0.006150   \n",
       "weight       0.053684  0.155406  0.290968  1.000000  0.030702  0.043710   \n",
       "ap_hi        0.020764  0.006005  0.005488  0.030702  1.000000  0.016086   \n",
       "ap_lo        0.017647  0.015254  0.006150  0.043710  0.016086  1.000000   \n",
       "cholesterol  0.154424 -0.035821 -0.050226  0.141768  0.023778  0.024019   \n",
       "gluc         0.098703 -0.020491 -0.018595  0.106857  0.011841  0.010806   \n",
       "smoke       -0.047633  0.338135  0.187989  0.067780 -0.000922  0.005186   \n",
       "alco        -0.029723  0.170966  0.094419  0.067113  0.001408  0.010601   \n",
       "active      -0.009927  0.005866 -0.006570 -0.016867 -0.000033  0.004780   \n",
       "cardio       0.238159  0.008109 -0.010821  0.181660  0.054475  0.065719   \n",
       "\n",
       "             cholesterol      gluc     smoke      alco    active    cardio  \n",
       "age             0.154424  0.098703 -0.047633 -0.029723 -0.009927  0.238159  \n",
       "gender         -0.035821 -0.020491  0.338135  0.170966  0.005866  0.008109  \n",
       "height         -0.050226 -0.018595  0.187989  0.094419 -0.006570 -0.010821  \n",
       "weight          0.141768  0.106857  0.067780  0.067113 -0.016867  0.181660  \n",
       "ap_hi           0.023778  0.011841 -0.000922  0.001408 -0.000033  0.054475  \n",
       "ap_lo           0.024019  0.010806  0.005186  0.010601  0.004780  0.065719  \n",
       "cholesterol     1.000000  0.451578  0.010354  0.035760  0.009911  0.221147  \n",
       "gluc            0.451578  1.000000 -0.004756  0.011246 -0.006770  0.089307  \n",
       "smoke           0.010354 -0.004756  1.000000  0.340094  0.025858 -0.015486  \n",
       "alco            0.035760  0.011246  0.340094  1.000000  0.025476 -0.007330  \n",
       "active          0.009911 -0.006770  0.025858  0.025476  1.000000 -0.035653  \n",
       "cardio          0.221147  0.089307 -0.015486 -0.007330 -0.035653  1.000000  "
      ]
     },
     "execution_count": 7,
     "metadata": {},
     "output_type": "execute_result"
    }
   ],
   "source": [
    "df_train.corr()"
   ]
  },
  {
   "cell_type": "code",
   "execution_count": 8,
   "id": "e79c325e",
   "metadata": {
    "execution": {
     "iopub.execute_input": "2023-03-28T21:33:31.924364Z",
     "iopub.status.busy": "2023-03-28T21:33:31.923948Z",
     "iopub.status.idle": "2023-03-28T21:33:31.955822Z",
     "shell.execute_reply": "2023-03-28T21:33:31.954976Z"
    },
    "papermill": {
     "duration": 0.04795,
     "end_time": "2023-03-28T21:33:31.958194",
     "exception": false,
     "start_time": "2023-03-28T21:33:31.910244",
     "status": "completed"
    },
    "tags": []
   },
   "outputs": [
    {
     "data": {
      "text/plain": [
       "(24, 6)"
      ]
     },
     "execution_count": 8,
     "metadata": {},
     "output_type": "execute_result"
    }
   ],
   "source": [
    "df_train.duplicated().sum(), df_test.duplicated().sum() "
   ]
  },
  {
   "cell_type": "code",
   "execution_count": 9,
   "id": "85f8ec86",
   "metadata": {
    "execution": {
     "iopub.execute_input": "2023-03-28T21:33:31.984800Z",
     "iopub.status.busy": "2023-03-28T21:33:31.984344Z",
     "iopub.status.idle": "2023-03-28T21:33:32.008967Z",
     "shell.execute_reply": "2023-03-28T21:33:32.007704Z"
    },
    "papermill": {
     "duration": 0.041175,
     "end_time": "2023-03-28T21:33:32.011737",
     "exception": false,
     "start_time": "2023-03-28T21:33:31.970562",
     "status": "completed"
    },
    "tags": []
   },
   "outputs": [],
   "source": [
    "# dropping duplicates\n",
    "\n",
    "df_train.drop_duplicates(keep='first', inplace=True)\n",
    "# df_test.drop_duplicates(keep='first', inplace=True)    "
   ]
  },
  {
   "cell_type": "code",
   "execution_count": 10,
   "id": "2112b7d5",
   "metadata": {
    "execution": {
     "iopub.execute_input": "2023-03-28T21:33:32.038639Z",
     "iopub.status.busy": "2023-03-28T21:33:32.038227Z",
     "iopub.status.idle": "2023-03-28T21:33:32.070700Z",
     "shell.execute_reply": "2023-03-28T21:33:32.069196Z"
    },
    "papermill": {
     "duration": 0.049147,
     "end_time": "2023-03-28T21:33:32.073412",
     "exception": false,
     "start_time": "2023-03-28T21:33:32.024265",
     "status": "completed"
    },
    "tags": []
   },
   "outputs": [
    {
     "name": "stdout",
     "output_type": "stream",
     "text": [
      "0\n",
      "6\n"
     ]
    }
   ],
   "source": [
    "for df in (df_train,df_test): print(df.duplicated().sum()) "
   ]
  },
  {
   "cell_type": "code",
   "execution_count": 11,
   "id": "54948586",
   "metadata": {
    "execution": {
     "iopub.execute_input": "2023-03-28T21:33:32.100259Z",
     "iopub.status.busy": "2023-03-28T21:33:32.099862Z",
     "iopub.status.idle": "2023-03-28T21:33:32.109590Z",
     "shell.execute_reply": "2023-03-28T21:33:32.108537Z"
    },
    "papermill": {
     "duration": 0.026112,
     "end_time": "2023-03-28T21:33:32.112114",
     "exception": false,
     "start_time": "2023-03-28T21:33:32.086002",
     "status": "completed"
    },
    "tags": []
   },
   "outputs": [],
   "source": [
    "# labling gender to binary values\n",
    "\n",
    "df_train['gender'] = df_train['gender'].map({1: 0, 2: 1})\n",
    "df_test['gender'] = df_test['gender'].map({1: 0, 2: 1})"
   ]
  },
  {
   "cell_type": "code",
   "execution_count": 12,
   "id": "1e6b4a13",
   "metadata": {
    "execution": {
     "iopub.execute_input": "2023-03-28T21:33:32.139176Z",
     "iopub.status.busy": "2023-03-28T21:33:32.138773Z",
     "iopub.status.idle": "2023-03-28T21:33:32.149846Z",
     "shell.execute_reply": "2023-03-28T21:33:32.148690Z"
    },
    "papermill": {
     "duration": 0.027683,
     "end_time": "2023-03-28T21:33:32.152328",
     "exception": false,
     "start_time": "2023-03-28T21:33:32.124645",
     "status": "completed"
    },
    "tags": []
   },
   "outputs": [],
   "source": [
    "# converting age from days to years\n",
    "\n",
    "df_train['age'] = df_train['age'] / 365.25\n",
    "df_train['age'] = df_train['age'].astype(int)\n",
    "\n",
    "df_test['age'] = df_test['age'] / 365.25\n",
    "df_test['age'] = df_test['age'].astype(int)"
   ]
  },
  {
   "cell_type": "code",
   "execution_count": 13,
   "id": "50c8ff5d",
   "metadata": {
    "execution": {
     "iopub.execute_input": "2023-03-28T21:33:32.179039Z",
     "iopub.status.busy": "2023-03-28T21:33:32.178615Z",
     "iopub.status.idle": "2023-03-28T21:33:32.256908Z",
     "shell.execute_reply": "2023-03-28T21:33:32.255784Z"
    },
    "papermill": {
     "duration": 0.094627,
     "end_time": "2023-03-28T21:33:32.259419",
     "exception": false,
     "start_time": "2023-03-28T21:33:32.164792",
     "status": "completed"
    },
    "tags": []
   },
   "outputs": [
    {
     "data": {
      "text/html": [
       "<div>\n",
       "<style scoped>\n",
       "    .dataframe tbody tr th:only-of-type {\n",
       "        vertical-align: middle;\n",
       "    }\n",
       "\n",
       "    .dataframe tbody tr th {\n",
       "        vertical-align: top;\n",
       "    }\n",
       "\n",
       "    .dataframe thead th {\n",
       "        text-align: right;\n",
       "    }\n",
       "</style>\n",
       "<table border=\"1\" class=\"dataframe\">\n",
       "  <thead>\n",
       "    <tr style=\"text-align: right;\">\n",
       "      <th></th>\n",
       "      <th>count</th>\n",
       "      <th>mean</th>\n",
       "      <th>std</th>\n",
       "      <th>min</th>\n",
       "      <th>25%</th>\n",
       "      <th>50%</th>\n",
       "      <th>75%</th>\n",
       "      <th>max</th>\n",
       "    </tr>\n",
       "  </thead>\n",
       "  <tbody>\n",
       "    <tr>\n",
       "      <th>age</th>\n",
       "      <td>69976.0</td>\n",
       "      <td>52.803475</td>\n",
       "      <td>6.762773</td>\n",
       "      <td>29.0</td>\n",
       "      <td>48.0</td>\n",
       "      <td>53.0</td>\n",
       "      <td>58.0</td>\n",
       "      <td>64.0</td>\n",
       "    </tr>\n",
       "    <tr>\n",
       "      <th>gender</th>\n",
       "      <td>69976.0</td>\n",
       "      <td>0.349648</td>\n",
       "      <td>0.476862</td>\n",
       "      <td>0.0</td>\n",
       "      <td>0.0</td>\n",
       "      <td>0.0</td>\n",
       "      <td>1.0</td>\n",
       "      <td>1.0</td>\n",
       "    </tr>\n",
       "    <tr>\n",
       "      <th>height</th>\n",
       "      <td>69976.0</td>\n",
       "      <td>164.359152</td>\n",
       "      <td>8.211218</td>\n",
       "      <td>55.0</td>\n",
       "      <td>159.0</td>\n",
       "      <td>165.0</td>\n",
       "      <td>170.0</td>\n",
       "      <td>250.0</td>\n",
       "    </tr>\n",
       "    <tr>\n",
       "      <th>weight</th>\n",
       "      <td>69976.0</td>\n",
       "      <td>74.208519</td>\n",
       "      <td>14.397211</td>\n",
       "      <td>10.0</td>\n",
       "      <td>65.0</td>\n",
       "      <td>72.0</td>\n",
       "      <td>82.0</td>\n",
       "      <td>200.0</td>\n",
       "    </tr>\n",
       "    <tr>\n",
       "      <th>ap_hi</th>\n",
       "      <td>69976.0</td>\n",
       "      <td>128.820453</td>\n",
       "      <td>154.037729</td>\n",
       "      <td>-150.0</td>\n",
       "      <td>120.0</td>\n",
       "      <td>120.0</td>\n",
       "      <td>140.0</td>\n",
       "      <td>16020.0</td>\n",
       "    </tr>\n",
       "    <tr>\n",
       "      <th>ap_lo</th>\n",
       "      <td>69976.0</td>\n",
       "      <td>96.636261</td>\n",
       "      <td>188.504581</td>\n",
       "      <td>-70.0</td>\n",
       "      <td>80.0</td>\n",
       "      <td>80.0</td>\n",
       "      <td>90.0</td>\n",
       "      <td>11000.0</td>\n",
       "    </tr>\n",
       "    <tr>\n",
       "      <th>cholesterol</th>\n",
       "      <td>69976.0</td>\n",
       "      <td>1.366997</td>\n",
       "      <td>0.680333</td>\n",
       "      <td>1.0</td>\n",
       "      <td>1.0</td>\n",
       "      <td>1.0</td>\n",
       "      <td>2.0</td>\n",
       "      <td>3.0</td>\n",
       "    </tr>\n",
       "    <tr>\n",
       "      <th>gluc</th>\n",
       "      <td>69976.0</td>\n",
       "      <td>1.226535</td>\n",
       "      <td>0.572353</td>\n",
       "      <td>1.0</td>\n",
       "      <td>1.0</td>\n",
       "      <td>1.0</td>\n",
       "      <td>1.0</td>\n",
       "      <td>3.0</td>\n",
       "    </tr>\n",
       "    <tr>\n",
       "      <th>smoke</th>\n",
       "      <td>69976.0</td>\n",
       "      <td>0.088159</td>\n",
       "      <td>0.283528</td>\n",
       "      <td>0.0</td>\n",
       "      <td>0.0</td>\n",
       "      <td>0.0</td>\n",
       "      <td>0.0</td>\n",
       "      <td>1.0</td>\n",
       "    </tr>\n",
       "    <tr>\n",
       "      <th>alco</th>\n",
       "      <td>69976.0</td>\n",
       "      <td>0.053790</td>\n",
       "      <td>0.225604</td>\n",
       "      <td>0.0</td>\n",
       "      <td>0.0</td>\n",
       "      <td>0.0</td>\n",
       "      <td>0.0</td>\n",
       "      <td>1.0</td>\n",
       "    </tr>\n",
       "    <tr>\n",
       "      <th>active</th>\n",
       "      <td>69976.0</td>\n",
       "      <td>0.803718</td>\n",
       "      <td>0.397187</td>\n",
       "      <td>0.0</td>\n",
       "      <td>1.0</td>\n",
       "      <td>1.0</td>\n",
       "      <td>1.0</td>\n",
       "      <td>1.0</td>\n",
       "    </tr>\n",
       "    <tr>\n",
       "      <th>cardio</th>\n",
       "      <td>69976.0</td>\n",
       "      <td>0.499771</td>\n",
       "      <td>0.500004</td>\n",
       "      <td>0.0</td>\n",
       "      <td>0.0</td>\n",
       "      <td>0.0</td>\n",
       "      <td>1.0</td>\n",
       "      <td>1.0</td>\n",
       "    </tr>\n",
       "  </tbody>\n",
       "</table>\n",
       "</div>"
      ],
      "text/plain": [
       "               count        mean         std    min    25%    50%    75%  \\\n",
       "age          69976.0   52.803475    6.762773   29.0   48.0   53.0   58.0   \n",
       "gender       69976.0    0.349648    0.476862    0.0    0.0    0.0    1.0   \n",
       "height       69976.0  164.359152    8.211218   55.0  159.0  165.0  170.0   \n",
       "weight       69976.0   74.208519   14.397211   10.0   65.0   72.0   82.0   \n",
       "ap_hi        69976.0  128.820453  154.037729 -150.0  120.0  120.0  140.0   \n",
       "ap_lo        69976.0   96.636261  188.504581  -70.0   80.0   80.0   90.0   \n",
       "cholesterol  69976.0    1.366997    0.680333    1.0    1.0    1.0    2.0   \n",
       "gluc         69976.0    1.226535    0.572353    1.0    1.0    1.0    1.0   \n",
       "smoke        69976.0    0.088159    0.283528    0.0    0.0    0.0    0.0   \n",
       "alco         69976.0    0.053790    0.225604    0.0    0.0    0.0    0.0   \n",
       "active       69976.0    0.803718    0.397187    0.0    1.0    1.0    1.0   \n",
       "cardio       69976.0    0.499771    0.500004    0.0    0.0    0.0    1.0   \n",
       "\n",
       "                 max  \n",
       "age             64.0  \n",
       "gender           1.0  \n",
       "height         250.0  \n",
       "weight         200.0  \n",
       "ap_hi        16020.0  \n",
       "ap_lo        11000.0  \n",
       "cholesterol      3.0  \n",
       "gluc             3.0  \n",
       "smoke            1.0  \n",
       "alco             1.0  \n",
       "active           1.0  \n",
       "cardio           1.0  "
      ]
     },
     "execution_count": 13,
     "metadata": {},
     "output_type": "execute_result"
    }
   ],
   "source": [
    "df_train.describe().T"
   ]
  },
  {
   "cell_type": "markdown",
   "id": "287873ba",
   "metadata": {
    "papermill": {
     "duration": 0.01219,
     "end_time": "2023-03-28T21:33:32.284370",
     "exception": false,
     "start_time": "2023-03-28T21:33:32.272180",
     "status": "completed"
    },
    "tags": []
   },
   "source": [
    "Column check shows:\n",
    " - age is ok\n",
    " - gender is binary now\n",
    " - height has outliners\n",
    " - weight has outliners \n",
    " - arterial pressure populated with negative and high values\n",
    " - others sims ok"
   ]
  },
  {
   "cell_type": "code",
   "execution_count": 14,
   "id": "692cab4d",
   "metadata": {
    "execution": {
     "iopub.execute_input": "2023-03-28T21:33:32.311400Z",
     "iopub.status.busy": "2023-03-28T21:33:32.311005Z",
     "iopub.status.idle": "2023-03-28T21:33:32.327170Z",
     "shell.execute_reply": "2023-03-28T21:33:32.326013Z"
    },
    "papermill": {
     "duration": 0.032522,
     "end_time": "2023-03-28T21:33:32.329452",
     "exception": false,
     "start_time": "2023-03-28T21:33:32.296930",
     "status": "completed"
    },
    "tags": []
   },
   "outputs": [
    {
     "data": {
      "text/html": [
       "<div>\n",
       "<style scoped>\n",
       "    .dataframe tbody tr th:only-of-type {\n",
       "        vertical-align: middle;\n",
       "    }\n",
       "\n",
       "    .dataframe tbody tr th {\n",
       "        vertical-align: top;\n",
       "    }\n",
       "\n",
       "    .dataframe thead th {\n",
       "        text-align: right;\n",
       "    }\n",
       "</style>\n",
       "<table border=\"1\" class=\"dataframe\">\n",
       "  <thead>\n",
       "    <tr style=\"text-align: right;\">\n",
       "      <th></th>\n",
       "      <th>age</th>\n",
       "      <th>gender</th>\n",
       "      <th>height</th>\n",
       "      <th>weight</th>\n",
       "      <th>ap_hi</th>\n",
       "      <th>ap_lo</th>\n",
       "      <th>cholesterol</th>\n",
       "      <th>gluc</th>\n",
       "      <th>smoke</th>\n",
       "      <th>alco</th>\n",
       "      <th>active</th>\n",
       "      <th>cardio</th>\n",
       "    </tr>\n",
       "    <tr>\n",
       "      <th>id</th>\n",
       "      <th></th>\n",
       "      <th></th>\n",
       "      <th></th>\n",
       "      <th></th>\n",
       "      <th></th>\n",
       "      <th></th>\n",
       "      <th></th>\n",
       "      <th></th>\n",
       "      <th></th>\n",
       "      <th></th>\n",
       "      <th></th>\n",
       "      <th></th>\n",
       "    </tr>\n",
       "  </thead>\n",
       "  <tbody>\n",
       "    <tr>\n",
       "      <th>5306</th>\n",
       "      <td>42</td>\n",
       "      <td>0</td>\n",
       "      <td>120</td>\n",
       "      <td>30.0</td>\n",
       "      <td>110</td>\n",
       "      <td>70</td>\n",
       "      <td>1</td>\n",
       "      <td>1</td>\n",
       "      <td>0</td>\n",
       "      <td>0</td>\n",
       "      <td>1</td>\n",
       "      <td>0</td>\n",
       "    </tr>\n",
       "    <tr>\n",
       "      <th>26503</th>\n",
       "      <td>49</td>\n",
       "      <td>0</td>\n",
       "      <td>160</td>\n",
       "      <td>30.0</td>\n",
       "      <td>120</td>\n",
       "      <td>80</td>\n",
       "      <td>1</td>\n",
       "      <td>1</td>\n",
       "      <td>0</td>\n",
       "      <td>0</td>\n",
       "      <td>1</td>\n",
       "      <td>1</td>\n",
       "    </tr>\n",
       "    <tr>\n",
       "      <th>38312</th>\n",
       "      <td>63</td>\n",
       "      <td>0</td>\n",
       "      <td>157</td>\n",
       "      <td>23.0</td>\n",
       "      <td>110</td>\n",
       "      <td>80</td>\n",
       "      <td>1</td>\n",
       "      <td>1</td>\n",
       "      <td>0</td>\n",
       "      <td>0</td>\n",
       "      <td>1</td>\n",
       "      <td>0</td>\n",
       "    </tr>\n",
       "    <tr>\n",
       "      <th>42156</th>\n",
       "      <td>55</td>\n",
       "      <td>1</td>\n",
       "      <td>177</td>\n",
       "      <td>22.0</td>\n",
       "      <td>120</td>\n",
       "      <td>80</td>\n",
       "      <td>1</td>\n",
       "      <td>1</td>\n",
       "      <td>1</td>\n",
       "      <td>1</td>\n",
       "      <td>1</td>\n",
       "      <td>0</td>\n",
       "    </tr>\n",
       "    <tr>\n",
       "      <th>48318</th>\n",
       "      <td>59</td>\n",
       "      <td>1</td>\n",
       "      <td>178</td>\n",
       "      <td>11.0</td>\n",
       "      <td>130</td>\n",
       "      <td>90</td>\n",
       "      <td>1</td>\n",
       "      <td>1</td>\n",
       "      <td>0</td>\n",
       "      <td>0</td>\n",
       "      <td>1</td>\n",
       "      <td>1</td>\n",
       "    </tr>\n",
       "  </tbody>\n",
       "</table>\n",
       "</div>"
      ],
      "text/plain": [
       "       age  gender  height  weight  ap_hi  ap_lo  cholesterol  gluc  smoke  \\\n",
       "id                                                                           \n",
       "5306    42       0     120    30.0    110     70            1     1      0   \n",
       "26503   49       0     160    30.0    120     80            1     1      0   \n",
       "38312   63       0     157    23.0    110     80            1     1      0   \n",
       "42156   55       1     177    22.0    120     80            1     1      1   \n",
       "48318   59       1     178    11.0    130     90            1     1      0   \n",
       "\n",
       "       alco  active  cardio  \n",
       "id                           \n",
       "5306      0       1       0  \n",
       "26503     0       1       1  \n",
       "38312     0       1       0  \n",
       "42156     1       1       0  \n",
       "48318     0       1       1  "
      ]
     },
     "metadata": {},
     "output_type": "display_data"
    }
   ],
   "source": [
    "wrong_weight = df_train[df_train['weight'] <= 30]\n",
    "display(wrong_weight.head())"
   ]
  },
  {
   "cell_type": "code",
   "execution_count": 15,
   "id": "125e69d6",
   "metadata": {
    "execution": {
     "iopub.execute_input": "2023-03-28T21:33:32.357108Z",
     "iopub.status.busy": "2023-03-28T21:33:32.356687Z",
     "iopub.status.idle": "2023-03-28T21:33:32.373524Z",
     "shell.execute_reply": "2023-03-28T21:33:32.372492Z"
    },
    "papermill": {
     "duration": 0.034142,
     "end_time": "2023-03-28T21:33:32.376626",
     "exception": false,
     "start_time": "2023-03-28T21:33:32.342484",
     "status": "completed"
    },
    "tags": []
   },
   "outputs": [],
   "source": [
    "df_train.loc[df_train[df_train['weight'] <= 30].index, 'weight'] = df_train['weight'].median()\n",
    "df_test.loc[df_test[df_test['weight'] <= 30].index, 'weight'] = df_train['weight'].median()"
   ]
  },
  {
   "cell_type": "code",
   "execution_count": 16,
   "id": "6c96f4bc",
   "metadata": {
    "execution": {
     "iopub.execute_input": "2023-03-28T21:33:32.404211Z",
     "iopub.status.busy": "2023-03-28T21:33:32.403806Z",
     "iopub.status.idle": "2023-03-28T21:33:32.429212Z",
     "shell.execute_reply": "2023-03-28T21:33:32.428203Z"
    },
    "papermill": {
     "duration": 0.041726,
     "end_time": "2023-03-28T21:33:32.431398",
     "exception": false,
     "start_time": "2023-03-28T21:33:32.389672",
     "status": "completed"
    },
    "tags": []
   },
   "outputs": [
    {
     "data": {
      "text/html": [
       "<div>\n",
       "<style scoped>\n",
       "    .dataframe tbody tr th:only-of-type {\n",
       "        vertical-align: middle;\n",
       "    }\n",
       "\n",
       "    .dataframe tbody tr th {\n",
       "        vertical-align: top;\n",
       "    }\n",
       "\n",
       "    .dataframe thead th {\n",
       "        text-align: right;\n",
       "    }\n",
       "</style>\n",
       "<table border=\"1\" class=\"dataframe\">\n",
       "  <thead>\n",
       "    <tr style=\"text-align: right;\">\n",
       "      <th></th>\n",
       "      <th>age</th>\n",
       "      <th>gender</th>\n",
       "      <th>height</th>\n",
       "      <th>weight</th>\n",
       "      <th>ap_hi</th>\n",
       "      <th>ap_lo</th>\n",
       "      <th>cholesterol</th>\n",
       "      <th>gluc</th>\n",
       "      <th>smoke</th>\n",
       "      <th>alco</th>\n",
       "      <th>active</th>\n",
       "      <th>cardio</th>\n",
       "    </tr>\n",
       "    <tr>\n",
       "      <th>id</th>\n",
       "      <th></th>\n",
       "      <th></th>\n",
       "      <th></th>\n",
       "      <th></th>\n",
       "      <th></th>\n",
       "      <th></th>\n",
       "      <th></th>\n",
       "      <th></th>\n",
       "      <th></th>\n",
       "      <th></th>\n",
       "      <th></th>\n",
       "      <th></th>\n",
       "    </tr>\n",
       "  </thead>\n",
       "  <tbody>\n",
       "    <tr>\n",
       "      <th>9223</th>\n",
       "      <td>58</td>\n",
       "      <td>0</td>\n",
       "      <td>250</td>\n",
       "      <td>86.0</td>\n",
       "      <td>140</td>\n",
       "      <td>100</td>\n",
       "      <td>3</td>\n",
       "      <td>1</td>\n",
       "      <td>0</td>\n",
       "      <td>0</td>\n",
       "      <td>1</td>\n",
       "      <td>1</td>\n",
       "    </tr>\n",
       "  </tbody>\n",
       "</table>\n",
       "</div>"
      ],
      "text/plain": [
       "      age  gender  height  weight  ap_hi  ap_lo  cholesterol  gluc  smoke  \\\n",
       "id                                                                          \n",
       "9223   58       0     250    86.0    140    100            3     1      0   \n",
       "\n",
       "      alco  active  cardio  \n",
       "id                          \n",
       "9223     0       1       1  "
      ]
     },
     "metadata": {},
     "output_type": "display_data"
    },
    {
     "data": {
      "text/html": [
       "<div>\n",
       "<style scoped>\n",
       "    .dataframe tbody tr th:only-of-type {\n",
       "        vertical-align: middle;\n",
       "    }\n",
       "\n",
       "    .dataframe tbody tr th {\n",
       "        vertical-align: top;\n",
       "    }\n",
       "\n",
       "    .dataframe thead th {\n",
       "        text-align: right;\n",
       "    }\n",
       "</style>\n",
       "<table border=\"1\" class=\"dataframe\">\n",
       "  <thead>\n",
       "    <tr style=\"text-align: right;\">\n",
       "      <th></th>\n",
       "      <th>age</th>\n",
       "      <th>gender</th>\n",
       "      <th>height</th>\n",
       "      <th>weight</th>\n",
       "      <th>ap_hi</th>\n",
       "      <th>ap_lo</th>\n",
       "      <th>cholesterol</th>\n",
       "      <th>gluc</th>\n",
       "      <th>smoke</th>\n",
       "      <th>alco</th>\n",
       "      <th>active</th>\n",
       "      <th>cardio</th>\n",
       "    </tr>\n",
       "    <tr>\n",
       "      <th>id</th>\n",
       "      <th></th>\n",
       "      <th></th>\n",
       "      <th></th>\n",
       "      <th></th>\n",
       "      <th></th>\n",
       "      <th></th>\n",
       "      <th></th>\n",
       "      <th></th>\n",
       "      <th></th>\n",
       "      <th></th>\n",
       "      <th></th>\n",
       "      <th></th>\n",
       "    </tr>\n",
       "  </thead>\n",
       "  <tbody>\n",
       "    <tr>\n",
       "      <th>309</th>\n",
       "      <td>59</td>\n",
       "      <td>1</td>\n",
       "      <td>76</td>\n",
       "      <td>55.0</td>\n",
       "      <td>120</td>\n",
       "      <td>80</td>\n",
       "      <td>1</td>\n",
       "      <td>1</td>\n",
       "      <td>0</td>\n",
       "      <td>0</td>\n",
       "      <td>1</td>\n",
       "      <td>0</td>\n",
       "    </tr>\n",
       "    <tr>\n",
       "      <th>10843</th>\n",
       "      <td>40</td>\n",
       "      <td>1</td>\n",
       "      <td>70</td>\n",
       "      <td>72.0</td>\n",
       "      <td>120</td>\n",
       "      <td>8</td>\n",
       "      <td>1</td>\n",
       "      <td>1</td>\n",
       "      <td>0</td>\n",
       "      <td>0</td>\n",
       "      <td>1</td>\n",
       "      <td>0</td>\n",
       "    </tr>\n",
       "    <tr>\n",
       "      <th>11662</th>\n",
       "      <td>48</td>\n",
       "      <td>1</td>\n",
       "      <td>97</td>\n",
       "      <td>170.0</td>\n",
       "      <td>160</td>\n",
       "      <td>100</td>\n",
       "      <td>1</td>\n",
       "      <td>1</td>\n",
       "      <td>1</td>\n",
       "      <td>0</td>\n",
       "      <td>1</td>\n",
       "      <td>1</td>\n",
       "    </tr>\n",
       "    <tr>\n",
       "      <th>18218</th>\n",
       "      <td>53</td>\n",
       "      <td>0</td>\n",
       "      <td>75</td>\n",
       "      <td>168.0</td>\n",
       "      <td>120</td>\n",
       "      <td>80</td>\n",
       "      <td>1</td>\n",
       "      <td>1</td>\n",
       "      <td>1</td>\n",
       "      <td>0</td>\n",
       "      <td>1</td>\n",
       "      <td>1</td>\n",
       "    </tr>\n",
       "    <tr>\n",
       "      <th>18928</th>\n",
       "      <td>61</td>\n",
       "      <td>1</td>\n",
       "      <td>71</td>\n",
       "      <td>68.0</td>\n",
       "      <td>120</td>\n",
       "      <td>80</td>\n",
       "      <td>3</td>\n",
       "      <td>1</td>\n",
       "      <td>0</td>\n",
       "      <td>0</td>\n",
       "      <td>1</td>\n",
       "      <td>0</td>\n",
       "    </tr>\n",
       "  </tbody>\n",
       "</table>\n",
       "</div>"
      ],
      "text/plain": [
       "       age  gender  height  weight  ap_hi  ap_lo  cholesterol  gluc  smoke  \\\n",
       "id                                                                           \n",
       "309     59       1      76    55.0    120     80            1     1      0   \n",
       "10843   40       1      70    72.0    120      8            1     1      0   \n",
       "11662   48       1      97   170.0    160    100            1     1      1   \n",
       "18218   53       0      75   168.0    120     80            1     1      1   \n",
       "18928   61       1      71    68.0    120     80            3     1      0   \n",
       "\n",
       "       alco  active  cardio  \n",
       "id                           \n",
       "309       0       1       0  \n",
       "10843     0       1       0  \n",
       "11662     0       1       1  \n",
       "18218     0       1       1  \n",
       "18928     0       1       0  "
      ]
     },
     "metadata": {},
     "output_type": "display_data"
    }
   ],
   "source": [
    "big_height = df_train[df_train['height'] > 220]\n",
    "display(big_height.head())\n",
    "small_height = df_train[df_train['height'] < 100]\n",
    "display(small_height.head())"
   ]
  },
  {
   "cell_type": "code",
   "execution_count": 17,
   "id": "c99009bd",
   "metadata": {
    "execution": {
     "iopub.execute_input": "2023-03-28T21:33:32.459919Z",
     "iopub.status.busy": "2023-03-28T21:33:32.459460Z",
     "iopub.status.idle": "2023-03-28T21:33:32.478958Z",
     "shell.execute_reply": "2023-03-28T21:33:32.477588Z"
    },
    "papermill": {
     "duration": 0.036936,
     "end_time": "2023-03-28T21:33:32.481695",
     "exception": false,
     "start_time": "2023-03-28T21:33:32.444759",
     "status": "completed"
    },
    "tags": []
   },
   "outputs": [],
   "source": [
    "df_train.loc[df_train.query('height > 220').index, 'height'] = df_train['height'].median()\n",
    "df_test.loc[df_test.query('height > 220').index, 'height'] = df_train['height'].median()"
   ]
  },
  {
   "cell_type": "code",
   "execution_count": 18,
   "id": "e372f14e",
   "metadata": {
    "execution": {
     "iopub.execute_input": "2023-03-28T21:33:32.511030Z",
     "iopub.status.busy": "2023-03-28T21:33:32.510091Z",
     "iopub.status.idle": "2023-03-28T21:33:35.124582Z",
     "shell.execute_reply": "2023-03-28T21:33:35.123155Z"
    },
    "papermill": {
     "duration": 2.631907,
     "end_time": "2023-03-28T21:33:35.127384",
     "exception": false,
     "start_time": "2023-03-28T21:33:32.495477",
     "status": "completed"
    },
    "tags": []
   },
   "outputs": [],
   "source": [
    "def ap_plot(df):\n",
    "    sns.scatterplot(data=df_train, x=\"ap_hi\", y=\"ap_lo\")\n",
    "\n",
    "\n",
    "    max_ap_hi = df[\"ap_hi\"].max()\n",
    "    min_ap_hi = df[\"ap_hi\"].min()\n",
    "    max_ap_lo = df[\"ap_lo\"].max()\n",
    "    min_ap_lo = df[\"ap_lo\"].min()\n",
    "\n",
    "    # добавляем вертикальные линии\n",
    "    plt.axvline(x=max_ap_hi, color='r', linestyle='--')\n",
    "    plt.axvline(x=min_ap_hi, color='r', linestyle='--')\n",
    "\n",
    "    # добавляем горизонтальные линии\n",
    "    plt.axhline(y=max_ap_lo, color='r', linestyle='--')\n",
    "    plt.axhline(y=min_ap_lo, color='r', linestyle='--')\n",
    "\n",
    "    # добавляем подписи к осям и заголовок графика\n",
    "    plt.xlabel(\"ap_hi\")\n",
    "    plt.ylabel(\"ap_lo\")\n",
    "    plt.title(\"Scatterplot for ap_lo vs. ap_hi with Max and Min Lines\")\n",
    "\n",
    "    # показываем график\n",
    "    plt.show()\n",
    "ap_plot(df_train)"
   ]
  },
  {
   "cell_type": "code",
   "execution_count": 19,
   "id": "4a7e7b4c",
   "metadata": {
    "execution": {
     "iopub.execute_input": "2023-03-28T21:33:35.156047Z",
     "iopub.status.busy": "2023-03-28T21:33:35.155606Z",
     "iopub.status.idle": "2023-03-28T21:33:35.175845Z",
     "shell.execute_reply": "2023-03-28T21:33:35.174664Z"
    },
    "papermill": {
     "duration": 0.037253,
     "end_time": "2023-03-28T21:33:35.178251",
     "exception": false,
     "start_time": "2023-03-28T21:33:35.140998",
     "status": "completed"
    },
    "tags": []
   },
   "outputs": [
    {
     "data": {
      "text/html": [
       "<div>\n",
       "<style scoped>\n",
       "    .dataframe tbody tr th:only-of-type {\n",
       "        vertical-align: middle;\n",
       "    }\n",
       "\n",
       "    .dataframe tbody tr th {\n",
       "        vertical-align: top;\n",
       "    }\n",
       "\n",
       "    .dataframe thead th {\n",
       "        text-align: right;\n",
       "    }\n",
       "</style>\n",
       "<table border=\"1\" class=\"dataframe\">\n",
       "  <thead>\n",
       "    <tr style=\"text-align: right;\">\n",
       "      <th></th>\n",
       "      <th>age</th>\n",
       "      <th>gender</th>\n",
       "      <th>height</th>\n",
       "      <th>weight</th>\n",
       "      <th>ap_hi</th>\n",
       "      <th>ap_lo</th>\n",
       "      <th>cholesterol</th>\n",
       "      <th>gluc</th>\n",
       "      <th>smoke</th>\n",
       "      <th>alco</th>\n",
       "      <th>active</th>\n",
       "      <th>cardio</th>\n",
       "    </tr>\n",
       "    <tr>\n",
       "      <th>id</th>\n",
       "      <th></th>\n",
       "      <th></th>\n",
       "      <th></th>\n",
       "      <th></th>\n",
       "      <th></th>\n",
       "      <th></th>\n",
       "      <th></th>\n",
       "      <th></th>\n",
       "      <th></th>\n",
       "      <th></th>\n",
       "      <th></th>\n",
       "      <th></th>\n",
       "    </tr>\n",
       "  </thead>\n",
       "  <tbody>\n",
       "    <tr>\n",
       "      <th>35894</th>\n",
       "      <td>52</td>\n",
       "      <td>1</td>\n",
       "      <td>174</td>\n",
       "      <td>74.0</td>\n",
       "      <td>130</td>\n",
       "      <td>1000</td>\n",
       "      <td>1</td>\n",
       "      <td>1</td>\n",
       "      <td>0</td>\n",
       "      <td>0</td>\n",
       "      <td>1</td>\n",
       "      <td>1</td>\n",
       "    </tr>\n",
       "    <tr>\n",
       "      <th>81051</th>\n",
       "      <td>50</td>\n",
       "      <td>0</td>\n",
       "      <td>160</td>\n",
       "      <td>80.0</td>\n",
       "      <td>10</td>\n",
       "      <td>80</td>\n",
       "      <td>1</td>\n",
       "      <td>1</td>\n",
       "      <td>0</td>\n",
       "      <td>0</td>\n",
       "      <td>1</td>\n",
       "      <td>1</td>\n",
       "    </tr>\n",
       "    <tr>\n",
       "      <th>82040</th>\n",
       "      <td>64</td>\n",
       "      <td>1</td>\n",
       "      <td>170</td>\n",
       "      <td>100.0</td>\n",
       "      <td>17</td>\n",
       "      <td>90</td>\n",
       "      <td>2</td>\n",
       "      <td>1</td>\n",
       "      <td>0</td>\n",
       "      <td>0</td>\n",
       "      <td>0</td>\n",
       "      <td>1</td>\n",
       "    </tr>\n",
       "    <tr>\n",
       "      <th>3524</th>\n",
       "      <td>51</td>\n",
       "      <td>0</td>\n",
       "      <td>148</td>\n",
       "      <td>62.0</td>\n",
       "      <td>150</td>\n",
       "      <td>1000</td>\n",
       "      <td>1</td>\n",
       "      <td>1</td>\n",
       "      <td>0</td>\n",
       "      <td>0</td>\n",
       "      <td>1</td>\n",
       "      <td>1</td>\n",
       "    </tr>\n",
       "    <tr>\n",
       "      <th>89360</th>\n",
       "      <td>64</td>\n",
       "      <td>0</td>\n",
       "      <td>175</td>\n",
       "      <td>65.0</td>\n",
       "      <td>150</td>\n",
       "      <td>1000</td>\n",
       "      <td>1</td>\n",
       "      <td>1</td>\n",
       "      <td>0</td>\n",
       "      <td>0</td>\n",
       "      <td>0</td>\n",
       "      <td>0</td>\n",
       "    </tr>\n",
       "    <tr>\n",
       "      <th>49416</th>\n",
       "      <td>49</td>\n",
       "      <td>1</td>\n",
       "      <td>176</td>\n",
       "      <td>81.0</td>\n",
       "      <td>180</td>\n",
       "      <td>1100</td>\n",
       "      <td>2</td>\n",
       "      <td>1</td>\n",
       "      <td>0</td>\n",
       "      <td>0</td>\n",
       "      <td>1</td>\n",
       "      <td>1</td>\n",
       "    </tr>\n",
       "    <tr>\n",
       "      <th>10770</th>\n",
       "      <td>57</td>\n",
       "      <td>0</td>\n",
       "      <td>162</td>\n",
       "      <td>78.0</td>\n",
       "      <td>160</td>\n",
       "      <td>1100</td>\n",
       "      <td>1</td>\n",
       "      <td>1</td>\n",
       "      <td>0</td>\n",
       "      <td>0</td>\n",
       "      <td>1</td>\n",
       "      <td>1</td>\n",
       "    </tr>\n",
       "    <tr>\n",
       "      <th>96609</th>\n",
       "      <td>62</td>\n",
       "      <td>0</td>\n",
       "      <td>154</td>\n",
       "      <td>52.0</td>\n",
       "      <td>15</td>\n",
       "      <td>80</td>\n",
       "      <td>1</td>\n",
       "      <td>1</td>\n",
       "      <td>0</td>\n",
       "      <td>0</td>\n",
       "      <td>0</td>\n",
       "      <td>1</td>\n",
       "    </tr>\n",
       "    <tr>\n",
       "      <th>30706</th>\n",
       "      <td>58</td>\n",
       "      <td>1</td>\n",
       "      <td>171</td>\n",
       "      <td>69.0</td>\n",
       "      <td>160</td>\n",
       "      <td>1000</td>\n",
       "      <td>1</td>\n",
       "      <td>1</td>\n",
       "      <td>0</td>\n",
       "      <td>0</td>\n",
       "      <td>1</td>\n",
       "      <td>1</td>\n",
       "    </tr>\n",
       "    <tr>\n",
       "      <th>65413</th>\n",
       "      <td>53</td>\n",
       "      <td>1</td>\n",
       "      <td>183</td>\n",
       "      <td>100.0</td>\n",
       "      <td>90</td>\n",
       "      <td>150</td>\n",
       "      <td>1</td>\n",
       "      <td>1</td>\n",
       "      <td>0</td>\n",
       "      <td>0</td>\n",
       "      <td>1</td>\n",
       "      <td>1</td>\n",
       "    </tr>\n",
       "  </tbody>\n",
       "</table>\n",
       "</div>"
      ],
      "text/plain": [
       "       age  gender  height  weight  ap_hi  ap_lo  cholesterol  gluc  smoke  \\\n",
       "id                                                                           \n",
       "35894   52       1     174    74.0    130   1000            1     1      0   \n",
       "81051   50       0     160    80.0     10     80            1     1      0   \n",
       "82040   64       1     170   100.0     17     90            2     1      0   \n",
       "3524    51       0     148    62.0    150   1000            1     1      0   \n",
       "89360   64       0     175    65.0    150   1000            1     1      0   \n",
       "49416   49       1     176    81.0    180   1100            2     1      0   \n",
       "10770   57       0     162    78.0    160   1100            1     1      0   \n",
       "96609   62       0     154    52.0     15     80            1     1      0   \n",
       "30706   58       1     171    69.0    160   1000            1     1      0   \n",
       "65413   53       1     183   100.0     90    150            1     1      0   \n",
       "\n",
       "       alco  active  cardio  \n",
       "id                           \n",
       "35894     0       1       1  \n",
       "81051     0       1       1  \n",
       "82040     0       0       1  \n",
       "3524      0       1       1  \n",
       "89360     0       0       0  \n",
       "49416     0       1       1  \n",
       "10770     0       1       1  \n",
       "96609     0       0       1  \n",
       "30706     0       1       1  \n",
       "65413     0       1       1  "
      ]
     },
     "metadata": {},
     "output_type": "display_data"
    }
   ],
   "source": [
    "display(df_train.loc[df_train['ap_lo'] > df_train['ap_hi']].sample(10))"
   ]
  },
  {
   "cell_type": "code",
   "execution_count": 20,
   "id": "0ae672a9",
   "metadata": {
    "execution": {
     "iopub.execute_input": "2023-03-28T21:33:35.207996Z",
     "iopub.status.busy": "2023-03-28T21:33:35.207570Z",
     "iopub.status.idle": "2023-03-28T21:33:35.216274Z",
     "shell.execute_reply": "2023-03-28T21:33:35.215251Z"
    },
    "papermill": {
     "duration": 0.026315,
     "end_time": "2023-03-28T21:33:35.218577",
     "exception": false,
     "start_time": "2023-03-28T21:33:35.192262",
     "status": "completed"
    },
    "tags": []
   },
   "outputs": [],
   "source": [
    "for df in (df_train,df_test):\n",
    "    df['ap_hi'] = df['ap_hi'].abs()\n",
    "    df['ap_lo'] = df['ap_lo'].abs()"
   ]
  },
  {
   "cell_type": "code",
   "execution_count": 21,
   "id": "62a519d3",
   "metadata": {
    "execution": {
     "iopub.execute_input": "2023-03-28T21:33:35.248323Z",
     "iopub.status.busy": "2023-03-28T21:33:35.247616Z",
     "iopub.status.idle": "2023-03-28T21:33:35.264128Z",
     "shell.execute_reply": "2023-03-28T21:33:35.262950Z"
    },
    "papermill": {
     "duration": 0.034465,
     "end_time": "2023-03-28T21:33:35.266880",
     "exception": false,
     "start_time": "2023-03-28T21:33:35.232415",
     "status": "completed"
    },
    "tags": []
   },
   "outputs": [],
   "source": [
    "# wrong placing of arterial pressure when ap_lo is higher than ap_hi\n",
    "for df in (df_train,df_test):\n",
    "    mask = df['ap_lo'] > df['ap_hi']\n",
    "    df.loc[mask, ['ap_lo', 'ap_hi']] = df.loc[mask, ['ap_hi', 'ap_lo']].values"
   ]
  },
  {
   "cell_type": "code",
   "execution_count": 22,
   "id": "f7112363",
   "metadata": {
    "execution": {
     "iopub.execute_input": "2023-03-28T21:33:35.297622Z",
     "iopub.status.busy": "2023-03-28T21:33:35.296521Z",
     "iopub.status.idle": "2023-03-28T21:33:43.208331Z",
     "shell.execute_reply": "2023-03-28T21:33:43.207370Z"
    },
    "papermill": {
     "duration": 7.929726,
     "end_time": "2023-03-28T21:33:43.210859",
     "exception": false,
     "start_time": "2023-03-28T21:33:35.281133",
     "status": "completed"
    },
    "tags": []
   },
   "outputs": [],
   "source": [
    "def ap_hi(row):\n",
    "      \n",
    "    if row['ap_hi'] > 260 and row['ap_hi'] <= 2000:\n",
    "        ap_hi = int(row['ap_hi'] / 10)\n",
    "        row['ap_hi'] = ap_hi\n",
    "    elif row['ap_hi'] > 2000:\n",
    "        ap_hi = int(row['ap_hi'] / 100)\n",
    "        row['ap_hi'] = ap_hi\n",
    "        \n",
    "    return row\n",
    "\n",
    "for df in (df_train,df_test): df = df.apply(ap_hi, axis=1)"
   ]
  },
  {
   "cell_type": "code",
   "execution_count": 23,
   "id": "4dd5ed05",
   "metadata": {
    "execution": {
     "iopub.execute_input": "2023-03-28T21:33:43.240502Z",
     "iopub.status.busy": "2023-03-28T21:33:43.239477Z",
     "iopub.status.idle": "2023-03-28T21:33:43.256773Z",
     "shell.execute_reply": "2023-03-28T21:33:43.255552Z"
    },
    "papermill": {
     "duration": 0.035051,
     "end_time": "2023-03-28T21:33:43.259631",
     "exception": false,
     "start_time": "2023-03-28T21:33:43.224580",
     "status": "completed"
    },
    "tags": []
   },
   "outputs": [],
   "source": [
    "for df in (df_train,df_test):\n",
    "    df.loc[df['ap_lo'] > 150, 'ap_lo'] /= 10\n",
    "    df.loc[df['ap_hi'] > 4000, 'ap_hi'] /= 100"
   ]
  },
  {
   "cell_type": "code",
   "execution_count": 24,
   "id": "7474a434",
   "metadata": {
    "execution": {
     "iopub.execute_input": "2023-03-28T21:33:43.289545Z",
     "iopub.status.busy": "2023-03-28T21:33:43.288583Z",
     "iopub.status.idle": "2023-03-28T21:33:43.314292Z",
     "shell.execute_reply": "2023-03-28T21:33:43.313014Z"
    },
    "papermill": {
     "duration": 0.043109,
     "end_time": "2023-03-28T21:33:43.316653",
     "exception": false,
     "start_time": "2023-03-28T21:33:43.273544",
     "status": "completed"
    },
    "tags": []
   },
   "outputs": [
    {
     "data": {
      "text/html": [
       "<div>\n",
       "<style scoped>\n",
       "    .dataframe tbody tr th:only-of-type {\n",
       "        vertical-align: middle;\n",
       "    }\n",
       "\n",
       "    .dataframe tbody tr th {\n",
       "        vertical-align: top;\n",
       "    }\n",
       "\n",
       "    .dataframe thead th {\n",
       "        text-align: right;\n",
       "    }\n",
       "</style>\n",
       "<table border=\"1\" class=\"dataframe\">\n",
       "  <thead>\n",
       "    <tr style=\"text-align: right;\">\n",
       "      <th></th>\n",
       "      <th>age</th>\n",
       "      <th>gender</th>\n",
       "      <th>height</th>\n",
       "      <th>weight</th>\n",
       "      <th>ap_hi</th>\n",
       "      <th>ap_lo</th>\n",
       "      <th>cholesterol</th>\n",
       "      <th>gluc</th>\n",
       "      <th>smoke</th>\n",
       "      <th>alco</th>\n",
       "      <th>active</th>\n",
       "      <th>cardio</th>\n",
       "    </tr>\n",
       "    <tr>\n",
       "      <th>id</th>\n",
       "      <th></th>\n",
       "      <th></th>\n",
       "      <th></th>\n",
       "      <th></th>\n",
       "      <th></th>\n",
       "      <th></th>\n",
       "      <th></th>\n",
       "      <th></th>\n",
       "      <th></th>\n",
       "      <th></th>\n",
       "      <th></th>\n",
       "      <th></th>\n",
       "    </tr>\n",
       "  </thead>\n",
       "  <tbody>\n",
       "  </tbody>\n",
       "</table>\n",
       "</div>"
      ],
      "text/plain": [
       "Empty DataFrame\n",
       "Columns: [age, gender, height, weight, ap_hi, ap_lo, cholesterol, gluc, smoke, alco, active, cardio]\n",
       "Index: []"
      ]
     },
     "metadata": {},
     "output_type": "display_data"
    },
    {
     "data": {
      "text/html": [
       "<div>\n",
       "<style scoped>\n",
       "    .dataframe tbody tr th:only-of-type {\n",
       "        vertical-align: middle;\n",
       "    }\n",
       "\n",
       "    .dataframe tbody tr th {\n",
       "        vertical-align: top;\n",
       "    }\n",
       "\n",
       "    .dataframe thead th {\n",
       "        text-align: right;\n",
       "    }\n",
       "</style>\n",
       "<table border=\"1\" class=\"dataframe\">\n",
       "  <thead>\n",
       "    <tr style=\"text-align: right;\">\n",
       "      <th></th>\n",
       "      <th>age</th>\n",
       "      <th>gender</th>\n",
       "      <th>height</th>\n",
       "      <th>weight</th>\n",
       "      <th>ap_hi</th>\n",
       "      <th>ap_lo</th>\n",
       "      <th>cholesterol</th>\n",
       "      <th>gluc</th>\n",
       "      <th>smoke</th>\n",
       "      <th>alco</th>\n",
       "      <th>active</th>\n",
       "      <th>cardio</th>\n",
       "    </tr>\n",
       "    <tr>\n",
       "      <th>id</th>\n",
       "      <th></th>\n",
       "      <th></th>\n",
       "      <th></th>\n",
       "      <th></th>\n",
       "      <th></th>\n",
       "      <th></th>\n",
       "      <th></th>\n",
       "      <th></th>\n",
       "      <th></th>\n",
       "      <th></th>\n",
       "      <th></th>\n",
       "      <th></th>\n",
       "    </tr>\n",
       "  </thead>\n",
       "  <tbody>\n",
       "    <tr>\n",
       "      <th>2845</th>\n",
       "      <td>62</td>\n",
       "      <td>1</td>\n",
       "      <td>167</td>\n",
       "      <td>59.0</td>\n",
       "      <td>906.0</td>\n",
       "      <td>0.0</td>\n",
       "      <td>1</td>\n",
       "      <td>1</td>\n",
       "      <td>0</td>\n",
       "      <td>0</td>\n",
       "      <td>1</td>\n",
       "      <td>0</td>\n",
       "    </tr>\n",
       "    <tr>\n",
       "      <th>19258</th>\n",
       "      <td>40</td>\n",
       "      <td>1</td>\n",
       "      <td>150</td>\n",
       "      <td>60.0</td>\n",
       "      <td>130.0</td>\n",
       "      <td>0.0</td>\n",
       "      <td>1</td>\n",
       "      <td>1</td>\n",
       "      <td>0</td>\n",
       "      <td>0</td>\n",
       "      <td>0</td>\n",
       "      <td>0</td>\n",
       "    </tr>\n",
       "    <tr>\n",
       "      <th>23512</th>\n",
       "      <td>56</td>\n",
       "      <td>0</td>\n",
       "      <td>156</td>\n",
       "      <td>50.0</td>\n",
       "      <td>138.0</td>\n",
       "      <td>0.0</td>\n",
       "      <td>3</td>\n",
       "      <td>1</td>\n",
       "      <td>0</td>\n",
       "      <td>0</td>\n",
       "      <td>1</td>\n",
       "      <td>1</td>\n",
       "    </tr>\n",
       "    <tr>\n",
       "      <th>24837</th>\n",
       "      <td>49</td>\n",
       "      <td>0</td>\n",
       "      <td>164</td>\n",
       "      <td>78.0</td>\n",
       "      <td>138.0</td>\n",
       "      <td>0.0</td>\n",
       "      <td>1</td>\n",
       "      <td>1</td>\n",
       "      <td>0</td>\n",
       "      <td>0</td>\n",
       "      <td>1</td>\n",
       "      <td>0</td>\n",
       "    </tr>\n",
       "    <tr>\n",
       "      <th>32749</th>\n",
       "      <td>57</td>\n",
       "      <td>1</td>\n",
       "      <td>166</td>\n",
       "      <td>68.0</td>\n",
       "      <td>149.0</td>\n",
       "      <td>0.0</td>\n",
       "      <td>1</td>\n",
       "      <td>1</td>\n",
       "      <td>0</td>\n",
       "      <td>0</td>\n",
       "      <td>1</td>\n",
       "      <td>1</td>\n",
       "    </tr>\n",
       "  </tbody>\n",
       "</table>\n",
       "</div>"
      ],
      "text/plain": [
       "       age  gender  height  weight  ap_hi  ap_lo  cholesterol  gluc  smoke  \\\n",
       "id                                                                           \n",
       "2845    62       1     167    59.0  906.0    0.0            1     1      0   \n",
       "19258   40       1     150    60.0  130.0    0.0            1     1      0   \n",
       "23512   56       0     156    50.0  138.0    0.0            3     1      0   \n",
       "24837   49       0     164    78.0  138.0    0.0            1     1      0   \n",
       "32749   57       1     166    68.0  149.0    0.0            1     1      0   \n",
       "\n",
       "       alco  active  cardio  \n",
       "id                           \n",
       "2845      0       1       0  \n",
       "19258     0       0       0  \n",
       "23512     0       1       1  \n",
       "24837     0       1       0  \n",
       "32749     0       1       1  "
      ]
     },
     "metadata": {},
     "output_type": "display_data"
    }
   ],
   "source": [
    "nul_ap_hi = df_train[df_train['ap_hi'] == 0]\n",
    "display(nul_ap_hi.head())\n",
    "nul_ap_lo = df_train[df_train['ap_lo'] == 0]\n",
    "display(nul_ap_lo.head())"
   ]
  },
  {
   "cell_type": "code",
   "execution_count": 25,
   "id": "5be09658",
   "metadata": {
    "execution": {
     "iopub.execute_input": "2023-03-28T21:33:43.346822Z",
     "iopub.status.busy": "2023-03-28T21:33:43.346411Z",
     "iopub.status.idle": "2023-03-28T21:33:43.366696Z",
     "shell.execute_reply": "2023-03-28T21:33:43.365679Z"
    },
    "papermill": {
     "duration": 0.038176,
     "end_time": "2023-03-28T21:33:43.369129",
     "exception": false,
     "start_time": "2023-03-28T21:33:43.330953",
     "status": "completed"
    },
    "tags": []
   },
   "outputs": [
    {
     "data": {
      "text/html": [
       "<div>\n",
       "<style scoped>\n",
       "    .dataframe tbody tr th:only-of-type {\n",
       "        vertical-align: middle;\n",
       "    }\n",
       "\n",
       "    .dataframe tbody tr th {\n",
       "        vertical-align: top;\n",
       "    }\n",
       "\n",
       "    .dataframe thead th {\n",
       "        text-align: right;\n",
       "    }\n",
       "</style>\n",
       "<table border=\"1\" class=\"dataframe\">\n",
       "  <thead>\n",
       "    <tr style=\"text-align: right;\">\n",
       "      <th></th>\n",
       "      <th>age</th>\n",
       "      <th>gender</th>\n",
       "      <th>height</th>\n",
       "      <th>weight</th>\n",
       "      <th>ap_hi</th>\n",
       "      <th>ap_lo</th>\n",
       "      <th>cholesterol</th>\n",
       "      <th>gluc</th>\n",
       "      <th>smoke</th>\n",
       "      <th>alco</th>\n",
       "      <th>active</th>\n",
       "      <th>cardio</th>\n",
       "    </tr>\n",
       "    <tr>\n",
       "      <th>id</th>\n",
       "      <th></th>\n",
       "      <th></th>\n",
       "      <th></th>\n",
       "      <th></th>\n",
       "      <th></th>\n",
       "      <th></th>\n",
       "      <th></th>\n",
       "      <th></th>\n",
       "      <th></th>\n",
       "      <th></th>\n",
       "      <th></th>\n",
       "      <th></th>\n",
       "    </tr>\n",
       "  </thead>\n",
       "  <tbody>\n",
       "    <tr>\n",
       "      <th>2845</th>\n",
       "      <td>62</td>\n",
       "      <td>1</td>\n",
       "      <td>167</td>\n",
       "      <td>59.0</td>\n",
       "      <td>906.0</td>\n",
       "      <td>80.0</td>\n",
       "      <td>1</td>\n",
       "      <td>1</td>\n",
       "      <td>0</td>\n",
       "      <td>0</td>\n",
       "      <td>1</td>\n",
       "      <td>0</td>\n",
       "    </tr>\n",
       "    <tr>\n",
       "      <th>19258</th>\n",
       "      <td>40</td>\n",
       "      <td>1</td>\n",
       "      <td>150</td>\n",
       "      <td>60.0</td>\n",
       "      <td>130.0</td>\n",
       "      <td>80.0</td>\n",
       "      <td>1</td>\n",
       "      <td>1</td>\n",
       "      <td>0</td>\n",
       "      <td>0</td>\n",
       "      <td>0</td>\n",
       "      <td>0</td>\n",
       "    </tr>\n",
       "    <tr>\n",
       "      <th>23512</th>\n",
       "      <td>56</td>\n",
       "      <td>0</td>\n",
       "      <td>156</td>\n",
       "      <td>50.0</td>\n",
       "      <td>138.0</td>\n",
       "      <td>80.0</td>\n",
       "      <td>3</td>\n",
       "      <td>1</td>\n",
       "      <td>0</td>\n",
       "      <td>0</td>\n",
       "      <td>1</td>\n",
       "      <td>1</td>\n",
       "    </tr>\n",
       "    <tr>\n",
       "      <th>24837</th>\n",
       "      <td>49</td>\n",
       "      <td>0</td>\n",
       "      <td>164</td>\n",
       "      <td>78.0</td>\n",
       "      <td>138.0</td>\n",
       "      <td>80.0</td>\n",
       "      <td>1</td>\n",
       "      <td>1</td>\n",
       "      <td>0</td>\n",
       "      <td>0</td>\n",
       "      <td>1</td>\n",
       "      <td>0</td>\n",
       "    </tr>\n",
       "    <tr>\n",
       "      <th>32749</th>\n",
       "      <td>57</td>\n",
       "      <td>1</td>\n",
       "      <td>166</td>\n",
       "      <td>68.0</td>\n",
       "      <td>149.0</td>\n",
       "      <td>80.0</td>\n",
       "      <td>1</td>\n",
       "      <td>1</td>\n",
       "      <td>0</td>\n",
       "      <td>0</td>\n",
       "      <td>1</td>\n",
       "      <td>1</td>\n",
       "    </tr>\n",
       "  </tbody>\n",
       "</table>\n",
       "</div>"
      ],
      "text/plain": [
       "       age  gender  height  weight  ap_hi  ap_lo  cholesterol  gluc  smoke  \\\n",
       "id                                                                           \n",
       "2845    62       1     167    59.0  906.0   80.0            1     1      0   \n",
       "19258   40       1     150    60.0  130.0   80.0            1     1      0   \n",
       "23512   56       0     156    50.0  138.0   80.0            3     1      0   \n",
       "24837   49       0     164    78.0  138.0   80.0            1     1      0   \n",
       "32749   57       1     166    68.0  149.0   80.0            1     1      0   \n",
       "\n",
       "       alco  active  cardio  \n",
       "id                           \n",
       "2845      0       1       0  \n",
       "19258     0       0       0  \n",
       "23512     0       1       1  \n",
       "24837     0       1       0  \n",
       "32749     0       1       1  "
      ]
     },
     "metadata": {},
     "output_type": "display_data"
    }
   ],
   "source": [
    "df_train.loc[nul_ap_lo.index, 'ap_lo'] = None\n",
    "df_train['ap_lo'] = df_train['ap_lo'].fillna(df_train['ap_lo'].median())\n",
    "display(df_train.loc[nul_ap_lo.index].head())"
   ]
  },
  {
   "cell_type": "code",
   "execution_count": 26,
   "id": "9074241c",
   "metadata": {
    "execution": {
     "iopub.execute_input": "2023-03-28T21:33:43.399430Z",
     "iopub.status.busy": "2023-03-28T21:33:43.399041Z",
     "iopub.status.idle": "2023-03-28T21:33:45.931444Z",
     "shell.execute_reply": "2023-03-28T21:33:45.929940Z"
    },
    "papermill": {
     "duration": 2.550771,
     "end_time": "2023-03-28T21:33:45.934260",
     "exception": false,
     "start_time": "2023-03-28T21:33:43.383489",
     "status": "completed"
    },
    "scrolled": true,
    "tags": []
   },
   "outputs": [],
   "source": [
    "ap_plot(df_train)"
   ]
  },
  {
   "cell_type": "code",
   "execution_count": 27,
   "id": "a685d73e",
   "metadata": {
    "execution": {
     "iopub.execute_input": "2023-03-28T21:33:45.964386Z",
     "iopub.status.busy": "2023-03-28T21:33:45.963941Z",
     "iopub.status.idle": "2023-03-28T21:33:45.978346Z",
     "shell.execute_reply": "2023-03-28T21:33:45.977215Z"
    },
    "papermill": {
     "duration": 0.032023,
     "end_time": "2023-03-28T21:33:45.980518",
     "exception": false,
     "start_time": "2023-03-28T21:33:45.948495",
     "status": "completed"
    },
    "tags": []
   },
   "outputs": [
    {
     "data": {
      "text/plain": [
       "958"
      ]
     },
     "execution_count": 27,
     "metadata": {},
     "output_type": "execute_result"
    }
   ],
   "source": [
    "df_train.query('ap_hi > 500').count()['age']"
   ]
  },
  {
   "cell_type": "markdown",
   "id": "84e00a50",
   "metadata": {
    "papermill": {
     "duration": 0.014139,
     "end_time": "2023-03-28T21:33:46.009388",
     "exception": false,
     "start_time": "2023-03-28T21:33:45.995249",
     "status": "completed"
    },
    "tags": []
   },
   "source": [
    "Arterial pressure is better but there is a way to improve"
   ]
  },
  {
   "cell_type": "code",
   "execution_count": 28,
   "id": "006c6a7a",
   "metadata": {
    "execution": {
     "iopub.execute_input": "2023-03-28T21:33:46.040461Z",
     "iopub.status.busy": "2023-03-28T21:33:46.040037Z",
     "iopub.status.idle": "2023-03-28T21:33:46.048899Z",
     "shell.execute_reply": "2023-03-28T21:33:46.047795Z"
    },
    "papermill": {
     "duration": 0.027065,
     "end_time": "2023-03-28T21:33:46.051247",
     "exception": false,
     "start_time": "2023-03-28T21:33:46.024182",
     "status": "completed"
    },
    "tags": []
   },
   "outputs": [],
   "source": [
    "# introducing bmi index\n",
    "for df in (df_train,df_test): df['bmi'] = df['weight']/(df['height']/100)**2"
   ]
  },
  {
   "cell_type": "code",
   "execution_count": 29,
   "id": "467023e2",
   "metadata": {
    "execution": {
     "iopub.execute_input": "2023-03-28T21:33:46.083018Z",
     "iopub.status.busy": "2023-03-28T21:33:46.081703Z",
     "iopub.status.idle": "2023-03-28T21:33:46.095141Z",
     "shell.execute_reply": "2023-03-28T21:33:46.094053Z"
    },
    "papermill": {
     "duration": 0.031799,
     "end_time": "2023-03-28T21:33:46.097712",
     "exception": false,
     "start_time": "2023-03-28T21:33:46.065913",
     "status": "completed"
    },
    "tags": []
   },
   "outputs": [],
   "source": [
    "# deleting hieght and weight as they correlate with bmi\n",
    "for df in (df_train,df_test): df.drop(columns=['height', 'weight'], inplace=True)"
   ]
  },
  {
   "cell_type": "code",
   "execution_count": 30,
   "id": "c14ed422",
   "metadata": {
    "execution": {
     "iopub.execute_input": "2023-03-28T21:33:46.129087Z",
     "iopub.status.busy": "2023-03-28T21:33:46.128376Z",
     "iopub.status.idle": "2023-03-28T21:33:46.135129Z",
     "shell.execute_reply": "2023-03-28T21:33:46.134287Z"
    },
    "papermill": {
     "duration": 0.024842,
     "end_time": "2023-03-28T21:33:46.137323",
     "exception": false,
     "start_time": "2023-03-28T21:33:46.112481",
     "status": "completed"
    },
    "tags": []
   },
   "outputs": [
    {
     "data": {
      "text/plain": [
       "(69976, 11)"
      ]
     },
     "execution_count": 30,
     "metadata": {},
     "output_type": "execute_result"
    }
   ],
   "source": [
    "df_train.shape"
   ]
  },
  {
   "cell_type": "code",
   "execution_count": 31,
   "id": "d157bfb9",
   "metadata": {
    "execution": {
     "iopub.execute_input": "2023-03-28T21:33:46.168837Z",
     "iopub.status.busy": "2023-03-28T21:33:46.168366Z",
     "iopub.status.idle": "2023-03-28T21:33:46.176077Z",
     "shell.execute_reply": "2023-03-28T21:33:46.174946Z"
    },
    "papermill": {
     "duration": 0.026198,
     "end_time": "2023-03-28T21:33:46.178283",
     "exception": false,
     "start_time": "2023-03-28T21:33:46.152085",
     "status": "completed"
    },
    "tags": []
   },
   "outputs": [
    {
     "data": {
      "text/plain": [
       "(30000, 10)"
      ]
     },
     "execution_count": 31,
     "metadata": {},
     "output_type": "execute_result"
    }
   ],
   "source": [
    "df_test.shape"
   ]
  },
  {
   "cell_type": "code",
   "execution_count": 32,
   "id": "4f4651dc",
   "metadata": {
    "execution": {
     "iopub.execute_input": "2023-03-28T21:33:46.209441Z",
     "iopub.status.busy": "2023-03-28T21:33:46.208981Z",
     "iopub.status.idle": "2023-03-28T21:33:46.217228Z",
     "shell.execute_reply": "2023-03-28T21:33:46.215953Z"
    },
    "papermill": {
     "duration": 0.026888,
     "end_time": "2023-03-28T21:33:46.219961",
     "exception": false,
     "start_time": "2023-03-28T21:33:46.193073",
     "status": "completed"
    },
    "tags": []
   },
   "outputs": [
    {
     "name": "stdout",
     "output_type": "stream",
     "text": [
      "0    35004\n",
      "1    34972\n",
      "Name: cardio, dtype: int64\n"
     ]
    }
   ],
   "source": [
    "print(df_train['cardio'].value_counts())"
   ]
  },
  {
   "cell_type": "code",
   "execution_count": 33,
   "id": "4d7c1468",
   "metadata": {
    "execution": {
     "iopub.execute_input": "2023-03-28T21:33:46.252113Z",
     "iopub.status.busy": "2023-03-28T21:33:46.251682Z",
     "iopub.status.idle": "2023-03-28T21:33:46.285242Z",
     "shell.execute_reply": "2023-03-28T21:33:46.283736Z"
    },
    "papermill": {
     "duration": 0.052418,
     "end_time": "2023-03-28T21:33:46.287843",
     "exception": false,
     "start_time": "2023-03-28T21:33:46.235425",
     "status": "completed"
    },
    "tags": []
   },
   "outputs": [
    {
     "name": "stdout",
     "output_type": "stream",
     "text": [
      "<class 'pandas.core.frame.DataFrame'>\n",
      "Int64Index: 69976 entries, 0 to 99999\n",
      "Data columns (total 11 columns):\n",
      " #   Column       Non-Null Count  Dtype   \n",
      "---  ------       --------------  -----   \n",
      " 0   age          69976 non-null  int64   \n",
      " 1   gender       69976 non-null  category\n",
      " 2   ap_hi        69976 non-null  int64   \n",
      " 3   ap_lo        69976 non-null  int64   \n",
      " 4   cholesterol  69976 non-null  int64   \n",
      " 5   gluc         69976 non-null  int64   \n",
      " 6   smoke        69976 non-null  category\n",
      " 7   alco         69976 non-null  category\n",
      " 8   active       69976 non-null  category\n",
      " 9   cardio       69976 non-null  int64   \n",
      " 10  bmi          69976 non-null  float64 \n",
      "dtypes: category(4), float64(1), int64(6)\n",
      "memory usage: 6.6 MB\n"
     ]
    }
   ],
   "source": [
    "categorical_features = ['gender', 'smoke', 'alco', 'active']\n",
    "int_features = ['age','ap_hi', 'ap_lo', 'cholesterol', 'gluc', 'cardio']\n",
    "df_train[categorical_features] = df_train[categorical_features].astype('category')\n",
    "df_train[int_features] = df_train[int_features].astype('int64')\n",
    "df_train.info()"
   ]
  },
  {
   "cell_type": "code",
   "execution_count": 34,
   "id": "a6403091",
   "metadata": {
    "execution": {
     "iopub.execute_input": "2023-03-28T21:33:46.319581Z",
     "iopub.status.busy": "2023-03-28T21:33:46.319179Z",
     "iopub.status.idle": "2023-03-28T21:33:46.329434Z",
     "shell.execute_reply": "2023-03-28T21:33:46.328195Z"
    },
    "papermill": {
     "duration": 0.028935,
     "end_time": "2023-03-28T21:33:46.331894",
     "exception": false,
     "start_time": "2023-03-28T21:33:46.302959",
     "status": "completed"
    },
    "tags": []
   },
   "outputs": [
    {
     "name": "stdout",
     "output_type": "stream",
     "text": [
      "Столбцы с количественными признаками тренировочная выборка: \n",
      " ['age', 'ap_hi', 'ap_lo', 'cholesterol', 'gluc', 'cardio', 'bmi']\n"
     ]
    }
   ],
   "source": [
    "df_train_numeric = df_train.select_dtypes(include=[np.number])\n",
    "df_train_numeric_cols = df_train_numeric.columns.values.tolist()\n",
    "print('Столбцы с количественными признаками тренировочная выборка: \\n', df_train_numeric_cols)"
   ]
  },
  {
   "cell_type": "code",
   "execution_count": 35,
   "id": "e1a0b811",
   "metadata": {
    "execution": {
     "iopub.execute_input": "2023-03-28T21:33:46.363422Z",
     "iopub.status.busy": "2023-03-28T21:33:46.363022Z",
     "iopub.status.idle": "2023-03-28T21:33:46.370206Z",
     "shell.execute_reply": "2023-03-28T21:33:46.369061Z"
    },
    "papermill": {
     "duration": 0.025963,
     "end_time": "2023-03-28T21:33:46.372594",
     "exception": false,
     "start_time": "2023-03-28T21:33:46.346631",
     "status": "completed"
    },
    "tags": []
   },
   "outputs": [],
   "source": [
    "features_train = df_train.drop(['cardio'], axis=1)\n",
    "target_train = df_train['cardio']"
   ]
  },
  {
   "cell_type": "code",
   "execution_count": 36,
   "id": "2970b554",
   "metadata": {
    "execution": {
     "iopub.execute_input": "2023-03-28T21:33:46.404494Z",
     "iopub.status.busy": "2023-03-28T21:33:46.404064Z",
     "iopub.status.idle": "2023-03-28T21:33:46.429610Z",
     "shell.execute_reply": "2023-03-28T21:33:46.428133Z"
    },
    "papermill": {
     "duration": 0.044629,
     "end_time": "2023-03-28T21:33:46.432320",
     "exception": false,
     "start_time": "2023-03-28T21:33:46.387691",
     "status": "completed"
    },
    "tags": []
   },
   "outputs": [],
   "source": [
    "sc = MinMaxScaler()\n",
    "features_train_sc = features_train.copy()\n",
    "features_train_sc[['age', 'ap_hi', 'ap_lo', 'cholesterol', 'gluc', 'bmi']] = \\\n",
    "sc.fit_transform(features_train[['age', 'ap_hi', 'ap_lo', 'cholesterol', 'gluc', 'bmi']])\n",
    "\n",
    "features_test_sc = df_test.copy()\n",
    "features_test_sc[['age', 'ap_hi', 'ap_lo', 'cholesterol', 'gluc', 'bmi']] = \\\n",
    "sc.transform(features_test_sc[['age', 'ap_hi', 'ap_lo', 'cholesterol', 'gluc', 'bmi']])"
   ]
  },
  {
   "cell_type": "code",
   "execution_count": 37,
   "id": "2b570fa5",
   "metadata": {
    "execution": {
     "iopub.execute_input": "2023-03-28T21:33:46.464032Z",
     "iopub.status.busy": "2023-03-28T21:33:46.463610Z",
     "iopub.status.idle": "2023-03-28T21:35:39.434629Z",
     "shell.execute_reply": "2023-03-28T21:35:39.433264Z"
    },
    "papermill": {
     "duration": 113.004873,
     "end_time": "2023-03-28T21:35:39.452134",
     "exception": false,
     "start_time": "2023-03-28T21:33:46.447261",
     "status": "completed"
    },
    "tags": []
   },
   "outputs": [
    {
     "name": "stdout",
     "output_type": "stream",
     "text": [
      "Fitting 5 folds for each of 1 candidates, totalling 5 fits\n"
     ]
    },
    {
     "data": {
      "text/plain": [
       "RandomizedSearchCV(cv=5, estimator=GradientBoostingClassifier(random_state=23),\n",
       "                   n_iter=1, n_jobs=-1,\n",
       "                   param_distributions={'learning_rate': [0.01, 0.05, 0.1, 0.2],\n",
       "                                        'max_depth': [3, 5, 7, 9],\n",
       "                                        'max_features': [None, 'auto', 'sqrt',\n",
       "                                                         'log2'],\n",
       "                                        'min_samples_leaf': [1, 2, 4, 6],\n",
       "                                        'min_samples_split': [2, 5, 10, 15],\n",
       "                                        'n_estimators': [50, 100, 200, 300]},\n",
       "                   random_state=23, scoring='roc_auc', verbose=2)"
      ]
     },
     "execution_count": 37,
     "metadata": {},
     "output_type": "execute_result"
    }
   ],
   "source": [
    "grb = GradientBoostingClassifier(random_state=23)\n",
    "param_distributions = {\n",
    "    'learning_rate': [0.01, 0.05, 0.1, 0.2],\n",
    "    'n_estimators': [50, 100, 200, 300],\n",
    "    'max_depth': [3, 5, 7, 9],\n",
    "    'min_samples_split': [2, 5, 10, 15],\n",
    "    'min_samples_leaf': [1, 2, 4, 6],\n",
    "    'max_features': [None, 'auto', 'sqrt', 'log2']\n",
    "}\n",
    "\n",
    "rs_grb = RandomizedSearchCV(grb, \n",
    "                               param_distributions=param_distributions, \n",
    "                               cv=5, \n",
    "                               n_iter=1, \n",
    "                               n_jobs=-1, \n",
    "                               random_state=23,\n",
    "                               verbose=2,\n",
    "                               scoring='roc_auc')\n",
    "\n",
    "rs_grb.fit(features_train_sc, target_train)"
   ]
  },
  {
   "cell_type": "code",
   "execution_count": 38,
   "id": "2ca983fe",
   "metadata": {
    "execution": {
     "iopub.execute_input": "2023-03-28T21:35:39.484000Z",
     "iopub.status.busy": "2023-03-28T21:35:39.483534Z",
     "iopub.status.idle": "2023-03-28T21:35:39.490484Z",
     "shell.execute_reply": "2023-03-28T21:35:39.489387Z"
    },
    "papermill": {
     "duration": 0.025779,
     "end_time": "2023-03-28T21:35:39.492769",
     "exception": false,
     "start_time": "2023-03-28T21:35:39.466990",
     "status": "completed"
    },
    "tags": []
   },
   "outputs": [
    {
     "name": "stdout",
     "output_type": "stream",
     "text": [
      "Оптимальные параметры GradientBoostingClassifier:  {'n_estimators': 300, 'min_samples_split': 2, 'min_samples_leaf': 2, 'max_features': 'auto', 'max_depth': 7, 'learning_rate': 0.01}\n",
      "\n",
      "Лучший показатель AUC_ROC GradientBoostingClassifier: 0.8016442659321863\n"
     ]
    }
   ],
   "source": [
    "print('Оптимальные параметры GradientBoostingClassifier: ', rs_grb.best_params_)\n",
    "print()\n",
    "print('Лучший показатель AUC_ROC GradientBoostingClassifier:', rs_grb.best_score_)"
   ]
  },
  {
   "cell_type": "code",
   "execution_count": 39,
   "id": "1e27de4c",
   "metadata": {
    "execution": {
     "iopub.execute_input": "2023-03-28T21:35:39.525807Z",
     "iopub.status.busy": "2023-03-28T21:35:39.525096Z",
     "iopub.status.idle": "2023-03-28T21:41:17.426612Z",
     "shell.execute_reply": "2023-03-28T21:41:17.425422Z"
    },
    "papermill": {
     "duration": 337.936016,
     "end_time": "2023-03-28T21:41:17.444289",
     "exception": false,
     "start_time": "2023-03-28T21:35:39.508273",
     "status": "completed"
    },
    "tags": []
   },
   "outputs": [
    {
     "name": "stdout",
     "output_type": "stream",
     "text": [
      "Fitting 5 folds for each of 6 candidates, totalling 30 fits\n"
     ]
    },
    {
     "data": {
      "text/plain": [
       "GridSearchCV(cv=5, estimator=GradientBoostingClassifier(random_state=23),\n",
       "             n_jobs=-1,\n",
       "             param_grid={'learning_rate': [0.05], 'max_depth': [4, 5, 6],\n",
       "                         'max_features': ['auto'], 'min_samples_leaf': [3],\n",
       "                         'min_samples_split': [16, 17], 'n_estimators': [400]},\n",
       "             scoring='roc_auc', verbose=2)"
      ]
     },
     "execution_count": 39,
     "metadata": {},
     "output_type": "execute_result"
    }
   ],
   "source": [
    "grb = GradientBoostingClassifier(random_state=23)\n",
    "param_distributions = {\n",
    "    'learning_rate': [0.05],\n",
    "    'n_estimators': [400],\n",
    "    'max_depth': [4,5,6],\n",
    "    'min_samples_split': [16,17],\n",
    "    'min_samples_leaf': [3],\n",
    "    'max_features': ['auto']\n",
    "}\n",
    "\n",
    "rs_grb = GridSearchCV(grb, \n",
    "                               param_grid=param_distributions, \n",
    "                               cv=5, \n",
    "                               n_jobs=-1, \n",
    "                               verbose=2,\n",
    "                               scoring='roc_auc')\n",
    "\n",
    "rs_grb.fit(features_train_sc, target_train)"
   ]
  },
  {
   "cell_type": "code",
   "execution_count": 40,
   "id": "414cece1",
   "metadata": {
    "execution": {
     "iopub.execute_input": "2023-03-28T21:41:17.477576Z",
     "iopub.status.busy": "2023-03-28T21:41:17.477140Z",
     "iopub.status.idle": "2023-03-28T21:41:17.483137Z",
     "shell.execute_reply": "2023-03-28T21:41:17.482312Z"
    },
    "papermill": {
     "duration": 0.02545,
     "end_time": "2023-03-28T21:41:17.485441",
     "exception": false,
     "start_time": "2023-03-28T21:41:17.459991",
     "status": "completed"
    },
    "tags": []
   },
   "outputs": [
    {
     "name": "stdout",
     "output_type": "stream",
     "text": [
      "Оптимальные параметры GradientBoostingClassifier:  {'learning_rate': 0.05, 'max_depth': 4, 'max_features': 'auto', 'min_samples_leaf': 3, 'min_samples_split': 16, 'n_estimators': 400}\n",
      "\n",
      "Лучший показатель AUC_ROC GradientBoostingClassifier: 0.8031096743355182\n"
     ]
    }
   ],
   "source": [
    "print('Оптимальные параметры GradientBoostingClassifier: ', rs_grb.best_params_)\n",
    "print()\n",
    "print('Лучший показатель AUC_ROC GradientBoostingClassifier:', rs_grb.best_score_)"
   ]
  },
  {
   "cell_type": "code",
   "execution_count": 41,
   "id": "205ded39",
   "metadata": {
    "execution": {
     "iopub.execute_input": "2023-03-28T21:41:17.519406Z",
     "iopub.status.busy": "2023-03-28T21:41:17.518199Z",
     "iopub.status.idle": "2023-03-28T21:41:44.780357Z",
     "shell.execute_reply": "2023-03-28T21:41:44.779245Z"
    },
    "papermill": {
     "duration": 27.282359,
     "end_time": "2023-03-28T21:41:44.783497",
     "exception": false,
     "start_time": "2023-03-28T21:41:17.501138",
     "status": "completed"
    },
    "tags": []
   },
   "outputs": [
    {
     "name": "stdout",
     "output_type": "stream",
     "text": [
      "(30000, 1)\n"
     ]
    }
   ],
   "source": [
    "grb_opt = GradientBoostingClassifier(\n",
    "                                    n_estimators= 400, \n",
    "                                    min_samples_split= 16, \n",
    "                                    min_samples_leaf= 3, \n",
    "                                    max_features= 'auto', \n",
    "                                    max_depth= 4, \n",
    "                                    learning_rate= 0.05,\n",
    "                                    random_state=23\n",
    ").fit(features_train_sc, target_train)\n",
    "\n",
    "predictions = grb_opt.predict(features_test_sc)\n",
    "\n",
    "to_submit = pd.DataFrame(index=features_test_sc.index)\n",
    "to_submit['cardio'] = predictions\n",
    "to_submit['cardio'] = to_submit['cardio'].astype('float16')\n",
    "to_submit.to_csv('submission.csv')\n",
    "print(to_submit.shape)"
   ]
  },
  {
   "cell_type": "code",
   "execution_count": 42,
   "id": "29506a77",
   "metadata": {
    "execution": {
     "iopub.execute_input": "2023-03-28T21:41:44.817115Z",
     "iopub.status.busy": "2023-03-28T21:41:44.816689Z",
     "iopub.status.idle": "2023-03-28T21:41:44.846541Z",
     "shell.execute_reply": "2023-03-28T21:41:44.845322Z"
    },
    "papermill": {
     "duration": 0.049672,
     "end_time": "2023-03-28T21:41:44.849202",
     "exception": false,
     "start_time": "2023-03-28T21:41:44.799530",
     "status": "completed"
    },
    "tags": []
   },
   "outputs": [
    {
     "data": {
      "text/plain": [
       "['heart.model']"
      ]
     },
     "execution_count": 42,
     "metadata": {},
     "output_type": "execute_result"
    }
   ],
   "source": [
    "from joblib import dump\n",
    "dump(grb_opt, 'heart.model')"
   ]
  },
  {
   "cell_type": "code",
   "execution_count": 43,
   "id": "a2f6e57a",
   "metadata": {
    "execution": {
     "iopub.execute_input": "2023-03-28T21:41:44.883541Z",
     "iopub.status.busy": "2023-03-28T21:41:44.883157Z",
     "iopub.status.idle": "2023-03-28T21:41:44.894301Z",
     "shell.execute_reply": "2023-03-28T21:41:44.893166Z"
    },
    "papermill": {
     "duration": 0.031049,
     "end_time": "2023-03-28T21:41:44.896573",
     "exception": false,
     "start_time": "2023-03-28T21:41:44.865524",
     "status": "completed"
    },
    "tags": []
   },
   "outputs": [
    {
     "data": {
      "text/html": [
       "<div>\n",
       "<style scoped>\n",
       "    .dataframe tbody tr th:only-of-type {\n",
       "        vertical-align: middle;\n",
       "    }\n",
       "\n",
       "    .dataframe tbody tr th {\n",
       "        vertical-align: top;\n",
       "    }\n",
       "\n",
       "    .dataframe thead th {\n",
       "        text-align: right;\n",
       "    }\n",
       "</style>\n",
       "<table border=\"1\" class=\"dataframe\">\n",
       "  <thead>\n",
       "    <tr style=\"text-align: right;\">\n",
       "      <th></th>\n",
       "      <th>cardio</th>\n",
       "    </tr>\n",
       "    <tr>\n",
       "      <th>id</th>\n",
       "      <th></th>\n",
       "    </tr>\n",
       "  </thead>\n",
       "  <tbody>\n",
       "    <tr>\n",
       "      <th>5</th>\n",
       "      <td>0.0</td>\n",
       "    </tr>\n",
       "    <tr>\n",
       "      <th>6</th>\n",
       "      <td>1.0</td>\n",
       "    </tr>\n",
       "    <tr>\n",
       "      <th>7</th>\n",
       "      <td>0.0</td>\n",
       "    </tr>\n",
       "    <tr>\n",
       "      <th>10</th>\n",
       "      <td>1.0</td>\n",
       "    </tr>\n",
       "    <tr>\n",
       "      <th>11</th>\n",
       "      <td>0.0</td>\n",
       "    </tr>\n",
       "  </tbody>\n",
       "</table>\n",
       "</div>"
      ],
      "text/plain": [
       "    cardio\n",
       "id        \n",
       "5      0.0\n",
       "6      1.0\n",
       "7      0.0\n",
       "10     1.0\n",
       "11     0.0"
      ]
     },
     "execution_count": 43,
     "metadata": {},
     "output_type": "execute_result"
    }
   ],
   "source": [
    "to_submit.head()"
   ]
  }
 ],
 "metadata": {
  "kernelspec": {
   "display_name": "Python 3",
   "language": "python",
   "name": "python3"
  },
  "language_info": {
   "codemirror_mode": {
    "name": "ipython",
    "version": 3
   },
   "file_extension": ".py",
   "mimetype": "text/x-python",
   "name": "python",
   "nbconvert_exporter": "python",
   "pygments_lexer": "ipython3",
   "version": "3.7.12"
  },
  "papermill": {
   "default_parameters": {},
   "duration": 508.737766,
   "end_time": "2023-03-28T21:41:47.534935",
   "environment_variables": {},
   "exception": null,
   "input_path": "__notebook__.ipynb",
   "output_path": "__notebook__.ipynb",
   "parameters": {},
   "start_time": "2023-03-28T21:33:18.797169",
   "version": "2.3.4"
  }
 },
 "nbformat": 4,
 "nbformat_minor": 5
}
